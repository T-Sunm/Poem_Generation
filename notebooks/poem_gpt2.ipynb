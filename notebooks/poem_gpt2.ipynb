{
 "cells": [
  {
   "cell_type": "markdown",
   "metadata": {},
   "source": [
    "## Import libary and data"
   ]
  },
  {
   "cell_type": "code",
   "execution_count": 1,
   "metadata": {},
   "outputs": [
    {
     "name": "stderr",
     "output_type": "stream",
     "text": [
      "d:\\Asus\\Ungdung\\Miniconda\\workspace\\envs\\AIOEx\\lib\\site-packages\\tqdm\\auto.py:21: TqdmWarning: IProgress not found. Please update jupyter and ipywidgets. See https://ipywidgets.readthedocs.io/en/stable/user_install.html\n",
      "  from .autonotebook import tqdm as notebook_tqdm\n"
     ]
    }
   ],
   "source": [
    "import os\n",
    "import math\n",
    "import torch\n",
    "import pandas as pd\n",
    "\n",
    "from transformers import GPT2Tokenizer, GPT2LMHeadModel\n",
    "from transformers import DataCollatorForLanguageModeling\n",
    "from transformers import TrainingArguments, Trainer\n",
    "from huggingface_hub import notebook_login\n",
    "from datasets import Dataset"
   ]
  },
  {
   "cell_type": "code",
   "execution_count": 2,
   "metadata": {},
   "outputs": [
    {
     "data": {
      "application/vnd.microsoft.datawrangler.viewer.v0+json": {
       "columns": [
        {
         "name": "index",
         "rawType": "int64",
         "type": "integer"
        },
        {
         "name": "Unnamed: 0",
         "rawType": "int64",
         "type": "integer"
        },
        {
         "name": "title",
         "rawType": "object",
         "type": "string"
        },
        {
         "name": "content",
         "rawType": "object",
         "type": "string"
        },
        {
         "name": "source",
         "rawType": "object",
         "type": "unknown"
        },
        {
         "name": "url",
         "rawType": "object",
         "type": "string"
        }
       ],
       "conversionMethod": "pd.DataFrame",
       "ref": "6cc6950e-e8a1-4e9c-b2f9-27fa76c15151",
       "rows": [
        [
         "0",
         "0",
         "“Cái làm ta hạnh phúc”",
         "Cái làm ta hạnh phúc\nThực ra cũng chẳng nhiều\nChỉ cần có ai đó\nĐể ta thầm thương yêu\n\nRồi thêm chút công việc\nCho ta làm hàng ngày\nCuối cùng, chút mơ mộng\nĐể đưa ta lên mây",
         "Nguồn: Châm ngôn mới (thơ), Thái Bá Tân, NXB Lao động, 2013",
         "https://www.thivien.net/Th%C3%A1i-B%C3%A1-T%C3%A2n/C%C3%A1i-l%C3%A0m-ta-h%E1%BA%A1nh-ph%C3%BAc/poem-t24-M5Dn2cxmEDVSrQhtCw"
        ],
        [
         "1",
         "1",
         "“Chiều vừa xốp trên tay”",
         "Chiều vừa xốp trên tay\nChợt nghe thoáng ong bay\nCó ai vừa chết nhỉ\nMây thắt tang trăng gầy\n\nỚt đỏ sao cứ đỏ\nTáo chín cho thật vàng\nEm đẹp cho thêm đẹp\nĐể mắt ngừng lang thang",
         "Nguồn: Lâm Huy Nhuận, Chiều có thật (thơ), NXB Văn học, 1999",
         "https://www.thivien.net/L%C3%A2m-Huy-Nhu%E1%BA%ADn/Chi%E1%BB%81u-v%E1%BB%ABa-x%E1%BB%91p-tr%C3%AAn-tay/poem-f31v-s36HNxJNqauIrC7Xw"
        ],
        [
         "2",
         "2",
         "“Dưới giàn hoa thiên lý...”",
         "Dưới giàn hoa thiên lý\nMột mình anh đang ngồi\nKhông dưng em bước tới\nAnh bỗng thành song đôi",
         "Nguồn: Nguyễn Nhật Ánh, Mắt biếc, NXB Trẻ, 2004",
         "https://www.thivien.net/Nguy%E1%BB%85n-Nh%E1%BA%ADt-%C3%81nh/D%C6%B0%E1%BB%9Bi-gi%C3%A0n-hoa-thi%C3%AAn-l%C3%BD/poem-u0YIZsC-pwwY1Khy_e96OQ"
        ],
        [
         "3",
         "3",
         "“Đến, nhiều nơi để đến”",
         "Đến, nhiều nơi để đến\nVề, trở lại với mình\nChỉ duy nhất một chốn\nChốn ấy là gia đình",
         "Nguồn: Châm ngôn mới (thơ), Thái Bá Tân, NXB Lao động, 2013",
         "https://www.thivien.net/Th%C3%A1i-B%C3%A1-T%C3%A2n/%C4%90%E1%BA%BFn-nhi%E1%BB%81u-n%C6%A1i-%C4%91%E1%BB%83-%C4%91%E1%BA%BFn/poem-39NZptOCqcWR7beS-TJcOg"
        ],
        [
         "4",
         "4",
         "“Đừng bao giờ dại dột”",
         "Đừng bao giờ dại dột\nĐem chuyện riêng của mình\nTâm sự với người khác\nĐây, con số chứng minh:\n\nHai phần ba trong họ\nSẽ chẳng thèm quan tâm\nMột phần ba còn lại\nNghe xong, lòng vui thầm",
         "Nguồn: Châm ngôn mới (thơ), Thái Bá Tân, NXB Lao động, 2013",
         "https://www.thivien.net/Th%C3%A1i-B%C3%A1-T%C3%A2n/%C4%90%E1%BB%ABng-bao-gi%E1%BB%9D-d%E1%BA%A1i-d%E1%BB%99t/poem-G6OAEVSjTKCAXXDhIoGKyA"
        ],
        [
         "5",
         "5",
         "“Hầu hết các đồ vật”",
         "Hầu hết các đồ vật\nTa muốn đều đắt tiền\nMột khi không có được\nTa cảm thấy buồn phiền\n\nTrong khi cái thực sự\nLàm ta vui ở đời\nHoàn toàn không tốn kém\nLà tình yêu, tiếng cười",
         "Nguồn: Châm ngôn mới (thơ), Thái Bá Tân, NXB Lao động, 2013",
         "https://www.thivien.net/Th%C3%A1i-B%C3%A1-T%C3%A2n/H%E1%BA%A7u-h%E1%BA%BFt-c%C3%A1c-%C4%91%E1%BB%93-v%E1%BA%ADt/poem-UgNEBlIDpJW5xfeygCe28g"
        ],
        [
         "6",
         "6",
         "“Hoàng thị” chưa quên…",
         "Chưa hết mùa tầm xuân\nNên mưa còn ngại ngần\nNơi miền xa bất tận\nĐể nắng… dài bâng khuâng!\n\nSài Gòn bao bàn chân\nNhớ bao nhiêu tên đường?\nĐời qua bao nhiêu bận\nGót giày lên vấn vương?\n\nTháng Tư làm nhớ thương\nĐầu mùa ve nức nở\nTrên vòm lá sân trường\nBên đường xưa của Ngọ\n\nAi đang ngồi khóc dở\nThời gian qua thời gian\nHết rồi ngày bỡ ngỡ\nCòn chăng nỗi bẽ bàng!\n\nBên chân dung điêu tàn\nNên ngày xưa của Ngọ\nĐời không cho quên lãng\nĐể yêu thương còn chờ\n\nMai em về xứ sở\nÁo dài quấn chân anh\nĐi qua đường của Ngọ\nViết thêm câu chuyện tình…",
         "16.4.18",
         "https://www.thivien.net/Minh-S%C6%A1n-L%C3%AA/Ho%C3%A0ng-th%E1%BB%8B-ch%C6%B0a-qu%C3%AAn/poem-9ymR5llztMAaB3ivBKGuIg"
        ],
        [
         "7",
         "7",
         "“Khi cô gái im lặng”",
         "Khi cô gái im lặng\nNăm lý do như sau:\nMột, nàng đang tức giận\nHai, nàng đang buồn đau\n\nBa, nàng sắp bùng nổ\nBốn, nàng nghi ngờ mình\nNăm, và quan trọng nhất\nNàng chờ bạn tỏ tình",
         "Nguồn: Châm ngôn mới (thơ), Thái Bá Tân, NXB Lao động, 2013",
         "https://www.thivien.net/Th%C3%A1i-B%C3%A1-T%C3%A2n/Khi-c%C3%B4-g%C3%A1i-im-l%E1%BA%B7ng/poem-JGuKQCVpULYCIRVVfQK-2g"
        ],
        [
         "8",
         "8",
         "“Khi tiếng niệm Di Đà”",
         "Khi tiếng niệm Di Đà\nVang vọng trong tâm ta\nRơi đi những phiền não\nCho Bồ đề nở hoa",
         "Nguồn: Thi kệ niệm Phật (Nhiều tác giả), Thích Giác Chí Châu, NXB Phương đông, 2007",
         "https://www.thivien.net/Th%C3%ADch-Ch%C3%A2n-T%C3%ADnh/Khi-ti%E1%BA%BFng-ni%E1%BB%87m-Di-%C4%90%C3%A0/poem-pDbZtZ1CigVW422eL0CQ2g"
        ],
        [
         "9",
         "9",
         "“Khoẻ - không phải nhấc mạnh”",
         "Khoẻ - không phải nhấc mạnh\nMà biết đặt nhẹ nhàng\nKính - đối với người dưới\nNhư những người ngang hàng\n\nLớn - không ở to tát\nMà ở điều bình thường\nĐẹp - không ở khuôn mặt\nMà trái tim yêu thương\n\nTốt - không ở lời nói\nMà việc làm hàng ngày\nCuốn sách đẹp, bìa cứng\nChưa hẳn là sách hay",
         "Nguồn: Châm ngôn mới (thơ), Thái Bá Tân, NXB Lao động, 2013",
         "https://www.thivien.net/Th%C3%A1i-B%C3%A1-T%C3%A2n/Kho%E1%BA%BB-kh%C3%B4ng-ph%E1%BA%A3i-nh%E1%BA%A5c-m%E1%BA%A1nh/poem-AcjlU8CFbBUa5ZwreL_Qpw"
        ],
        [
         "10",
         "10",
         "“Không thể kiểm tra bạn”",
         "Không thể kiểm tra bạn\nNhư ta kiểm tra tiền\nMuốn xem thật hay giả\nĐem soi trước bóng đèn",
         "Nguồn: Châm ngôn mới (thơ), Thái Bá Tân, NXB Lao động, 2013",
         "https://www.thivien.net/Th%C3%A1i-B%C3%A1-T%C3%A2n/Kh%C3%B4ng-th%E1%BB%83-ki%E1%BB%83m-tra-b%E1%BA%A1n/poem-OrB3lHwvfpxlSwoSsC8pUQ"
        ],
        [
         "11",
         "11",
         "“Lặng ngồi chốn tĩnh lâu”",
         "Lặng ngồi chốn tĩnh lâu\nTrăng sáng, gió canh thâu!\nBát nhã hương lòng nhẹ.\nLăng Già niệm ý sâu\nPhật, Tâm chung một vẻ\nThiền, Tịnh chẳng hai mầu\nNgưng chuỗi, thầm riêng hỏi\nHoa đêm điểm điểm đầu...",
         "Nguồn: Niệm Phật thập yếu, Thích Thiền Tâm, NXB Tôn giáo, 2009",
         "https://www.thivien.net/Th%C3%ADch-Thi%E1%BB%81n-T%C3%A2m/L%E1%BA%B7ng-ng%E1%BB%93i-ch%E1%BB%91n-t%C4%A9nh-l%C3%A2u/poem-6510NdSMoamB9S3QMp9AhA"
        ],
        [
         "12",
         "12",
         "“Lòng tôi là cây khế...”",
         "Lòng tôi là cây khế\nEm là chim về chơi\nVàng kia em chẳng trả\nChỉ nhả hạt xuống thôi\nHạt rớt xuống thành cây\nCây cũng toàn cây khế\nTừ khi em đi rồi\nVườn tôi thành lặng lẽ\nBiết bao giờ trở lại\nCánh chim em ngày nào\nLòng tôi hoa khế rụng\nXuống nỗi buồn nôn nao...",
         "Nguồn: Nguyễn Nhật Ánh, Mắt biếc, NXB Trẻ, 2004",
         "https://www.thivien.net/Nguy%E1%BB%85n-Nh%E1%BA%ADt-%C3%81nh/L%C3%B2ng-t%C3%B4i-l%C3%A0-c%C3%A2y-kh%E1%BA%BF/poem-piaOE_aXABBrdEkka4gaag"
        ],
        [
         "13",
         "13",
         "“Mong bạn hoài nghi tôi”",
         "Mong bạn hoài nghi tôi\nCho tôi tin cậy bạn\nNhững lời đang vỗ cánh\nChưa chắc là đã bay!",
         "Nguồn: Nguyễn Vũ Tiềm, Hoài nghi và tin cậy, NXB Hội nhà văn, 2004",
         "https://www.thivien.net/Nguy%E1%BB%85n-V%C5%A9-Ti%E1%BB%81m/Mong-b%E1%BA%A1n-ho%C3%A0i-nghi-t%C3%B4i/poem-SXdUCYxChMCrzbKk2EdcLw"
        ],
        [
         "14",
         "14",
         "“Một đời người quá ngắn”",
         "Một đời người quá ngắn\nMột ngày sao quá dài\nBao nhiêu Sao Hôm lặn\nChẳng mọc thành Sao Mai",
         "8-1992\n\nNguồn: Nguyễn Sĩ Đại, Trái tim người lính (thơ), NXB Thanh niên, 1998",
         "https://www.thivien.net/Nguy%E1%BB%85n-S%C4%A9-%C4%90%E1%BA%A1i/M%E1%BB%99t-%C4%91%E1%BB%9Di-ng%C6%B0%E1%BB%9Di-qu%C3%A1-ng%E1%BA%AFn/poem-3_1pIhihPm0StpgLBOxEIQ"
        ],
        [
         "15",
         "15",
         "“Ngoảnh mặt với bệ rồng”",
         "Ngoảnh mặt với bệ rồng\nxua vàng khối bạc thẻ\ndẫu đao phủ vung gươm\ncũng đừng mong đổi ý\n\nNhưng gặp bạn tri âm\ndù ngục tù cũng ở\nngười đẹp của muôn thuở\ngần gũi và xa vời",
         "Nguồn: Người thám hiểm thời gian (thơ), Nguyễn Vũ Tiềm, NXB Văn hoá, 1993",
         "https://www.thivien.net/Nguy%E1%BB%85n-V%C5%A9-Ti%E1%BB%81m/Ngo%E1%BA%A3nh-m%E1%BA%B7t-v%E1%BB%9Bi-b%E1%BB%87-r%E1%BB%93ng/poem-WPWUR8J33_9m_c2jHvi_Ww"
        ],
        [
         "16",
         "16",
         "“Người ấy”",
         "\"Người ấy\" xưa, gầy lắm\nMỏng mảnh khói sương buồn\nĐôi mắt nhìn đăm đắm\nGiấu một trời mưa tuôn\n\nCổng trường thời đi học\nTôi vẫn thường theo sau\nMười năm xa, mái tóc...\nCòn vương hương thuở nào\n\n\"Người ấy\" không che nón\nMỗi khi tan học về\nKhông thích ai đưa đón\nDẫu đường dài lê thê\n\nÔi một thời ngây thơ\nKhù khờ mà bướng bỉnh\nTôi lóng ngóng, lơ ngơ\nNhút nhát rồi...câm nín\n\nNên mùa chia tay ấy\nMặc phượng hồng lung linh\nVà ve sầu trổi dậy\nTôi chỉ nhìn... lặng thinh\n\nBây giờ, ngồi tiếc nhớ\nNgày xanh - tuổi dại khờ\nƯớc chi đừng cách trở\n\"Người ấy\" về trong...mơ",
         "Nguồn: blog của tác giả",
         "https://www.thivien.net/%C4%90%E1%BB%97-Quang-Vinh/Ng%C6%B0%E1%BB%9Di-%E1%BA%A5y/poem-QhCdBKEHaOevyIqXvrZ_aw"
        ],
        [
         "17",
         "17",
         "“Nơi chính tâm cơn bão”",
         "Nơi chính tâm cơn bão\nDễ tìm được bình tâm",
         "Nguồn: Nguyễn Vũ Tiềm, Hoài nghi và tin cậy, NXB Hội nhà văn, 2004",
         "https://www.thivien.net/Nguy%E1%BB%85n-V%C5%A9-Ti%E1%BB%81m/N%C6%A1i-ch%C3%ADnh-t%C3%A2m-c%C6%A1n-b%C3%A3o/poem-cG1qCo8hwR0_vBQWjrFlWA"
        ],
        [
         "18",
         "18",
         "“Tâm kệ”",
         "Gội rửa sạch trần hồng\nnhư hoa ướp trầm xông\nnguyện mười phương pháp giới\nbi, trí khắp dung thông\n\n\nMặc áo lễ\n\nThân mặc áo giải thoát\nlìa tập nhiễm phù vân\nnguyện chúng sinh mười cõi\nlìa vọng huyễn, qui chân\n\n\nThắp nến\n\nThắp lửa vô lượng quang\nsáng soi bảy cửa ngục\nnguyện chúng sinh vô vàn\nvề chân thân: Huệ, Ðức\n\n\nÐốt trầm hương\n\nKhơi lò thanh tịnh trầm\ngió đưa mười cõi thơm\nnguyện theo vô lượng Phật\ncúng dường tri kiến hương\n\n\nDâng quả\n\nNhư trái dâng cúng Phật\nkết hạt chắc Bồ Đề\nnguyện chúng sinh sáu ngả\ntinh tấn chuyển tham mê\n\n\nDâng hoa\n\nNhư hoa thơm cúng Phật\ntam nghiệp: giới hương xông\nnguyện khắp ba thời mộng\nbừng mở tâm viên đồng\n\n\nThỉnh chuông\n\nBa hồi âm định lực\nngọn triều chuyển sóng cao\nrung động đất mê vọng\nrực chiếu mười cõi sao\ncầu chi ba tạng sách\nchuyển hóa sáu trần lao\nnguyện mười phương thế giới\nthể nhập ánh Phật hào\n\n\nCúng kinh\n\nTâm trụ pho Diệu kinh\nlắng tan ba nghiệp vọng\nnguyện khắp mười phương mộng\nchan chứa Phật quang minh\n\n\nMở kinh\n\nTay mở trang kinh thơm\nnhư bừng khai trí huệ\ncầu chư Phật mười phương\nsáng soi dòng pháp kệ\n\n\nKhai mõ\n\nNhư thắng cương, buộc ngựa\ný thoát khỏi mê đường\nnguyện mở bảy cửa ngục\ncứu nhất thiết tai ương\n\n\nKhép kinh (khi tụng xong)\n\nVừa khép pho nhật nguyệt\nlòng tỏa ánh quang minh\nnguyện nêu đuốc bất nhị\nsoi rọi khắp sinh linh\n\n\nCởi áo lễ\n\nNguyện lìa nhất thiết tướng\nnhư bỏ bè qua sông\nnguyện vào nhất thiết tướng\nhóa chuyển ngục trần hồng",
         "Nguồn: Phạm Thiên Thư, Suối nguồn vi diệu, NXB Văn nghệ, 2006",
         "https://www.thivien.net/Ph%E1%BA%A1m-Thi%C3%AAn-Th%C6%B0/T%C3%A2m-k%E1%BB%87/poem-xBMOgwlu-MTuZ0LOVRL30g"
        ],
        [
         "19",
         "19",
         "“Thời gian như tiền bạc”",
         "Thời gian như tiền bạc\nAnh sống qua một ngày\nThì có nghĩa ngày ấy\nKhông còn nữa từ nay\n\nThời gian như tiền bạc\nNhớ tiết kiệm từng đồng\nTiền bạc kiếm lại được\nCòn thời gian thì không",
         "Nguồn: Châm ngôn mới (thơ), Thái Bá Tân, NXB Lao động, 2013",
         "https://www.thivien.net/Th%C3%A1i-B%C3%A1-T%C3%A2n/Th%E1%BB%9Di-gian-nh%C6%B0-ti%E1%BB%81n-b%E1%BA%A1c/poem-5Tb-B8IDQD0gVEmW87hRUw"
        ],
        [
         "20",
         "20",
         "“Tuổi tên...”",
         "Tuổi tên phơi phía trước\nhoạ phúc ẩn sau trang",
         "Nguồn: Người thám hiểm thời gian (thơ), Nguyễn Vũ Tiềm, NXB Văn hoá, 1993",
         "https://www.thivien.net/Nguy%E1%BB%85n-V%C5%A9-Ti%E1%BB%81m/Tu%E1%BB%95i-t%C3%AAn/poem-KRSvu2Y_jYRsmumGecAVNw"
        ],
        [
         "21",
         "21",
         "“Với những gì đang có”",
         "Với những gì đang có\nHãy cảm ơn đất trời\nRồi bạn có thể có\nNhiều hơn nữa trong đời\n\nChứ suốt ngày mong ước\nNhững gì đang trong mơ\nSuốt đời bạn đau khổ\nKhông thấy đủ bao giờ",
         "Nguồn: Châm ngôn mới (thơ), Thái Bá Tân, NXB Lao động, 2013",
         "https://www.thivien.net/Th%C3%A1i-B%C3%A1-T%C3%A2n/V%E1%BB%9Bi-nh%E1%BB%AFng-g%C3%AC-%C4%91ang-c%C3%B3/poem-jImOkuDLzCJyRedC-trJ-Q"
        ],
        [
         "22",
         "22",
         "“Với trẻ con, tốt nhất”",
         "Với trẻ con, tốt nhất\nLà không cho chúng tiền\nGiúp làm bài, đi dạo\nĐỡ tốn và đỡ phiền\n\nThật đẹp và ý nghĩa\nBố dắt con dạo chơi\nVừa đi vừa bày dạy\nĐể giúp con thành người",
         "Nguồn: Châm ngôn mới (thơ), Thái Bá Tân, NXB Lao động, 2013",
         "https://www.thivien.net/Th%C3%A1i-B%C3%A1-T%C3%A2n/V%E1%BB%9Bi-tr%E1%BA%BB-con-t%E1%BB%91t-nh%E1%BA%A5t/poem-1NOlA704_l0KXAlSWP4otg"
        ],
        [
         "23",
         "23",
         "#18",
         "Tiếng xe đùa qua ngõ\nCành nguyệt quế rùng mình\nHương tan trên dấu lặng\nGiai điệu tròn lung linh.",
         "Nguồn: Tuệ Sỹ, Những điệp khúc cho dương cầm – Refrains pour piano, NXB Phương Đông, 2009",
         "https://www.thivien.net/Tu%E1%BB%87-S%E1%BB%B9/18/poem-vvXMqDr3PYay-7iOBtJn6A"
        ],
        [
         "24",
         "24",
         "#7",
         "Chung trà đã lịm khói\nHàng chữ vẫn nối dài\nThế sự chùm hoa dại\nỦ mờ con mắt cay.",
         "Nguồn: Tuệ Sỹ, Những điệp khúc cho dương cầm – Refrains pour piano, NXB Phương Đông, 2009",
         "https://www.thivien.net/Tu%E1%BB%87-S%E1%BB%B9/7/poem-IeN7OAC2iSw_jmEooFXqag"
        ],
        [
         "25",
         "25",
         "01",
         "Sợi tóc cứ gầy đi\nQua những đêm khó ngủ",
         null,
         "https://www.thivien.net/Nguy%E1%BB%85n-Ng%E1%BB%8Dc-O%C3%A1nh/01/poem-Yo9aQueuAwgpnUbh6JBDZg"
        ],
        [
         "26",
         "26",
         "01",
         "Thoáng bút mực lặng thinh\nKhơi vơi một thoáng tình\nThoáng mai bên thoáng nguyệt\nƠi tao ngộ thoáng mình",
         "12.05.09\n\nNguồn: Một thoáng (thơ), Trụ Vũ, NXB Tôn giáo, 2009",
         "https://www.thivien.net/Tr%E1%BB%A5-V%C5%A9/01/poem-k6MlVSOJZfPvxk-XTGJRvA"
        ],
        [
         "27",
         "27",
         "02",
         "Hỏi thử kiếp con người\nĐã có mấy khi vui\nHoá ra trong nhịp võng\nĐã thoáng câu trả lời",
         "12.05.09\n\nNguồn: Một thoáng (thơ), Trụ Vũ, NXB Tôn giáo, 2009",
         "https://www.thivien.net/Tr%E1%BB%A5-V%C5%A9/02/poem-R6sl-3JechljkOwJAS-B6A"
        ],
        [
         "28",
         "28",
         "03",
         "Mỗi giữa cõi thơ này\nMới có thoáng mây bay\nMới có thoáng trăng tỏ\nThoáng sum nọ - thoáng vầy",
         "12.05.09\n\nNguồn: Một thoáng (thơ), Trụ Vũ, NXB Tôn giáo, 2009",
         "https://www.thivien.net/Tr%E1%BB%A5-V%C5%A9/03/poem--YQuw954NnLednV2Ly9L0A"
        ],
        [
         "29",
         "29",
         "04",
         "Nước mắt tuôn trong veo\nHỏi rằng nguồn có sạch",
         null,
         "https://www.thivien.net/Nguy%E1%BB%85n-Ng%E1%BB%8Dc-O%C3%A1nh/04/poem-ZgrSZWo9YOJWMtCHbMJWRg"
        ],
        [
         "30",
         "30",
         "04",
         "Một thoáng hạnh phương tâm\nCát lỡ thương bụi lầm\nCó điều, trong bảng lảng\nHằng tủm tỉm Thương Sâm",
         "12.05.09\n\nNguồn: Một thoáng (thơ), Trụ Vũ, NXB Tôn giáo, 2009",
         "https://www.thivien.net/Tr%E1%BB%A5-V%C5%A9/04/poem-2HO2beb_29gEl-BaRt4JHQ"
        ],
        [
         "31",
         "31",
         "05",
         "Một thoáng tiết Thanh minh\nThoáng ta gặp thoáng mình\nThoáng Kim bên thoáng Đạm\nĐẹp thoáng Kiều ba sinh",
         "12.05.09\n\nNguồn: Một thoáng (thơ), Trụ Vũ, NXB Tôn giáo, 2009",
         "https://www.thivien.net/Tr%E1%BB%A5-V%C5%A9/05/poem-KiIgsPtde53uZhnUDrL2QA"
        ],
        [
         "32",
         "32",
         "06",
         "Thoáng qua rồi thoáng lại\nTừng thoáng thoáng xuân thu\n“Động khẩu ưng trường tại”\nỒ: bướm bướm ngao du",
         "12.05.09\n\nNguồn: Một thoáng (thơ), Trụ Vũ, NXB Tôn giáo, 2009",
         "https://www.thivien.net/Tr%E1%BB%A5-V%C5%A9/06/poem-yUg0_ceg0_KgeImeC7x_HQ"
        ],
        [
         "33",
         "33",
         "07",
         "Mặt phẳng ánh sáng ở\nHang hốc - bóng tối về",
         null,
         "https://www.thivien.net/Nguy%E1%BB%85n-Ng%E1%BB%8Dc-O%C3%A1nh/07/poem-z-QI3E0lym6tRiY3DTAGMw"
        ],
        [
         "34",
         "34",
         "07",
         "Cứ từng từng thoáng một\nƠi con chim ột rột\nCứ từng từng thoáng đôi\nƠi ngôi chùa Một Cột",
         "12.05.09\n\nNguồn: Một thoáng (thơ), Trụ Vũ, NXB Tôn giáo, 2009",
         "https://www.thivien.net/Tr%E1%BB%A5-V%C5%A9/07/poem-ysdNbjOkQSLNgRciI61Z9g"
        ],
        [
         "35",
         "35",
         "08",
         "Nhịp võng lại rồi qua\nVì thơ A di đà\nVãng sanh, lại hồi nhập\nThoáng thoáng Mạn đà la",
         "12.05.09\n\nNguồn: Một thoáng (thơ), Trụ Vũ, NXB Tôn giáo, 2009",
         "https://www.thivien.net/Tr%E1%BB%A5-V%C5%A9/08/poem-DFRWJMKZzQvCh5PdgrhdgQ"
        ],
        [
         "36",
         "36",
         "09",
         "Gió về, cây vật vã\nEm đi, anh lạc đường",
         null,
         "https://www.thivien.net/Nguy%E1%BB%85n-Ng%E1%BB%8Dc-O%C3%A1nh/09/poem-bhaOCpA37q6AXX3W9-picw"
        ],
        [
         "37",
         "37",
         "09",
         "Một thoáng sát na ơi\nTrong em thoáng nụ cười\nTrong anh thoáng hạt lệ\nLong lanh chín dặm trời",
         "12.05.09\n\nNguồn: Một thoáng (thơ), Trụ Vũ, NXB Tôn giáo, 2009",
         "https://www.thivien.net/Tr%E1%BB%A5-V%C5%A9/09/poem-ewAuwwBn8rjSiTjCwpEZIA"
        ],
        [
         "38",
         "38",
         "1",
         "Cùng quây quần lại đây\nNào các em miền xuôi\nNào các em miền ngược\nNghe anh kể chuyện này\nChuyện tổ tiên dựng nước\n\nCó em nào biết được\nVì sao trên đất này\nRừng hoang thành biển lúa\nVàng tít tắp hôm nay?\nBãi lầy thành đồng muối\nTrắng xoá tận chân mây?\n\nCó em nào biết được\nTrải bao đời dựng xây\nBao lớp người thuở trước\nCùng góp sức chung tay?\nChuyện kể dài đấy nhé\nThôi, ta bắt đầu ngay!",
         "Nguồn: Vua Rồng xứ Lạc (truyện thơ), Nguyễn Bao, NXB Kim đồng, 1968",
         "https://www.thivien.net/Nguy%E1%BB%85n-Bao/1/poem-8_2gKKpSxKu4ObM44GiyQw"
        ],
        [
         "39",
         "39",
         "10",
         "Run run ve lột xác\nMàu nhạc mới cựa mình",
         null,
         "https://www.thivien.net/Nguy%E1%BB%85n-Ng%E1%BB%8Dc-O%C3%A1nh/10/poem-Q44Pi0kZz9OJQKTv-BMxBA"
        ],
        [
         "40",
         "40",
         "10",
         "Một thoáng - là không thực\nDo thế - tròn cung bực\nCấi một thoáng vô cùng\nẤm mười phương Tứ Đức",
         "12.05.09\n\nNguồn: Một thoáng (thơ), Trụ Vũ, NXB Tôn giáo, 2009",
         "https://www.thivien.net/Tr%E1%BB%A5-V%C5%A9/10/poem-DoTGn2PssAgZSvO9pURoTw"
        ],
        [
         "41",
         "41",
         "106-110",
         "106\nTình nhân nửa cánh hoa mai\nGió mang theo đến bên đài vọng lâu\nLệ xanh giổ giấc đêm thâu\nHoa mai còn đó người đâu chẳng về\n\n107\nChiều tà tuyết rãi bên sông\nThuyền ai đứng ngóng đợi chờ trăng lên\nLệ xanh giỏ chút sầu riêng\nẾch kêu vẳng tiếng nửa miền hư không\n\n108\nChiều tà gió thổi nửa cành mai\nBóng quạ bên sương thả chiếc hài\nLệ đổ rêu xanh dày cỏ mọc\nHài nằm chờ mãi bước chân ai\n\n109\nGió tạc thổi sầu bay tám hướng\nƯớp sầu bằng nửa cánh hoa mai\nLệ ai xanh ướt trang đài\nThuyền quyên đứng lặng xiêm dài áo bay\n\n110\nThu tàn trong lá cây\nĐời tàn trong ngõ hẹp\nTình tàn theo gió mây xanh\nĐêm tàn cô quạnh bên mành lệ rơi",
         null,
         "https://www.thivien.net/H%C3%A0-V%C4%83n-K%E1%BB%B3/106-110/poem-HLXqsf1hkTgjxOJrvdzlew"
        ],
        [
         "42",
         "42",
         "12",
         "Rễ kiếm sống âm thầm\nNgọn cây đầm sương giá",
         null,
         "https://www.thivien.net/Nguy%E1%BB%85n-Ng%E1%BB%8Dc-O%C3%A1nh/12/poem-EXkpxdCUnPllfboON3T-gw"
        ],
        [
         "43",
         "43",
         "126-130",
         "126\nNiềm vui đứt nửa vầng mây\nCơn sầu đứt nửa chim gầy rạc hoa\nLệ rơi từng hạt châu sa\nXanh rơi từng mảnh trăng tà gió lay\n\n12\nẾch nhảy bờ nước lạnh\nThuyền chìm giữa sông xanh\nLệ không rơi hạt đọng khô\nChim buồn ngóng mãi xa bờ nước trôi\n\n128\nĐời reo ngàn dặm nẻo đường\nTa lo tìm mãi một đường để đi\nLệ vùi trong đám cỏ thi\nLá xanh ngủ giấc xuân thì bỏ quên\n\n129\nMang vạn cổ sầu hoa tuyết bay\nXanh tay rót chén nửa vầng mây\nNhật nguyệt đâu rồi ai có biết\nLệ đổ chân trời dế ngủ say\n\n130\nThiên cổ mênh mang sầu tri kỹ\nNgàn đời gió vẫn thổi vườn khuya\nLệ mãi xanh rêu dài chiếc bóng\nTrăng tà rải mãi bóng cô liêu",
         null,
         "https://www.thivien.net/H%C3%A0-V%C4%83n-K%E1%BB%B3/126-130/poem-rQxj6Q_zoFiQNqS_gfouNw"
        ],
        [
         "44",
         "44",
         "13",
         "Tha hương giữa làng xóm\nĐơn côi ngay nhà mình",
         null,
         "https://www.thivien.net/Nguy%E1%BB%85n-Ng%E1%BB%8Dc-O%C3%A1nh/13/poem-AkIES4QkWXAZE9ywNZrmFg"
        ],
        [
         "45",
         "45",
         "14",
         "Sân thượng khóm hồng nở\nLưng trời trăng toả hương",
         null,
         "https://www.thivien.net/Nguy%E1%BB%85n-Ng%E1%BB%8Dc-O%C3%A1nh/14/poem-qs4oLi6iZo65_KCutxJR-w"
        ],
        [
         "46",
         "46",
         "15",
         "Mái gà vừa đẻ trứng\nTiếng cục tác lăn tròn",
         null,
         "https://www.thivien.net/Nguy%E1%BB%85n-Ng%E1%BB%8Dc-O%C3%A1nh/15/poem-MY7_YuTVJB2yuG3L1ZiEUg"
        ],
        [
         "47",
         "47",
         "18",
         "Ngọn gió cần bầu trời\nCon dơi mong bóng tối",
         null,
         "https://www.thivien.net/Nguy%E1%BB%85n-Ng%E1%BB%8Dc-O%C3%A1nh/18/poem-663XYZnrZFusWXUJyBEHfg"
        ],
        [
         "48",
         "48",
         "18",
         "Đám cháy ở sau lưng\nở trước mặt\nThan ôi mày chạy đâu\nDưới vòm trời quen thuộc\nĐốt bao nhiêu cỏ mật\nKhông bay mùi thơm tho\nCàng hun càng đỏ mắt\nQuay về thung lũng cò.",
         "Những tác phẩm Hương cỏ mật, Vòm trời quen thuộc, Đám cháy trước mặt của nhà văn Đỗ Chu.",
         "https://www.thivien.net/Xu%C3%A2n-S%C3%A1ch/18/poem-6zXEkwLWFaquCeSg_5Gspw"
        ],
        [
         "49",
         "49",
         "2",
         "Tự ngày xửa ngày xưa\nHàng mấy ngàn năm trước\nCó vị thần làm vua\nĐứng đầu trong xứ Lạc\n\nDưới một vầng trán cao\nChếch đôi mày lưỡi mác\nCó cả hai ngôi sao\nToả sáng từ đáy mắt\n\nMỗi bước chân rẽ nước\nChói một vòng hào quang\nLấp lánh trên áo giáp\nNhững vẩy bạc, vẩy vàng\n\nThấy vua có mình rồng\nLại tài đi dưới nước\nDân gọi \"Lạc Long Quân\"\n(Hay Vua Rồng xứ Lạc)",
         "Nguồn: Vua Rồng xứ Lạc (truyện thơ), Nguyễn Bao, NXB Kim đồng, 1968",
         "https://www.thivien.net/Nguy%E1%BB%85n-Bao/2/poem-byePEmZ2L0hgEjQO1qx_hg"
        ]
       ],
       "shape": {
        "columns": 5,
        "rows": 190
       }
      },
      "text/html": [
       "<div>\n",
       "<style scoped>\n",
       "    .dataframe tbody tr th:only-of-type {\n",
       "        vertical-align: middle;\n",
       "    }\n",
       "\n",
       "    .dataframe tbody tr th {\n",
       "        vertical-align: top;\n",
       "    }\n",
       "\n",
       "    .dataframe thead th {\n",
       "        text-align: right;\n",
       "    }\n",
       "</style>\n",
       "<table border=\"1\" class=\"dataframe\">\n",
       "  <thead>\n",
       "    <tr style=\"text-align: right;\">\n",
       "      <th></th>\n",
       "      <th>Unnamed: 0</th>\n",
       "      <th>title</th>\n",
       "      <th>content</th>\n",
       "      <th>source</th>\n",
       "      <th>url</th>\n",
       "    </tr>\n",
       "  </thead>\n",
       "  <tbody>\n",
       "    <tr>\n",
       "      <th>0</th>\n",
       "      <td>0</td>\n",
       "      <td>“Cái làm ta hạnh phúc”</td>\n",
       "      <td>Cái làm ta hạnh phúc\\nThực ra cũng chẳng nhiều...</td>\n",
       "      <td>Nguồn: Châm ngôn mới (thơ), Thái Bá Tân, NXB L...</td>\n",
       "      <td>https://www.thivien.net/Th%C3%A1i-B%C3%A1-T%C3...</td>\n",
       "    </tr>\n",
       "    <tr>\n",
       "      <th>1</th>\n",
       "      <td>1</td>\n",
       "      <td>“Chiều vừa xốp trên tay”</td>\n",
       "      <td>Chiều vừa xốp trên tay\\nChợt nghe thoáng ong b...</td>\n",
       "      <td>Nguồn: Lâm Huy Nhuận, Chiều có thật (thơ), NXB...</td>\n",
       "      <td>https://www.thivien.net/L%C3%A2m-Huy-Nhu%E1%BA...</td>\n",
       "    </tr>\n",
       "    <tr>\n",
       "      <th>2</th>\n",
       "      <td>2</td>\n",
       "      <td>“Dưới giàn hoa thiên lý...”</td>\n",
       "      <td>Dưới giàn hoa thiên lý\\nMột mình anh đang ngồi...</td>\n",
       "      <td>Nguồn: Nguyễn Nhật Ánh, Mắt biếc, NXB Trẻ, 2004</td>\n",
       "      <td>https://www.thivien.net/Nguy%E1%BB%85n-Nh%E1%B...</td>\n",
       "    </tr>\n",
       "    <tr>\n",
       "      <th>3</th>\n",
       "      <td>3</td>\n",
       "      <td>“Đến, nhiều nơi để đến”</td>\n",
       "      <td>Đến, nhiều nơi để đến\\nVề, trở lại với mình\\nC...</td>\n",
       "      <td>Nguồn: Châm ngôn mới (thơ), Thái Bá Tân, NXB L...</td>\n",
       "      <td>https://www.thivien.net/Th%C3%A1i-B%C3%A1-T%C3...</td>\n",
       "    </tr>\n",
       "    <tr>\n",
       "      <th>4</th>\n",
       "      <td>4</td>\n",
       "      <td>“Đừng bao giờ dại dột”</td>\n",
       "      <td>Đừng bao giờ dại dột\\nĐem chuyện riêng của mìn...</td>\n",
       "      <td>Nguồn: Châm ngôn mới (thơ), Thái Bá Tân, NXB L...</td>\n",
       "      <td>https://www.thivien.net/Th%C3%A1i-B%C3%A1-T%C3...</td>\n",
       "    </tr>\n",
       "    <tr>\n",
       "      <th>...</th>\n",
       "      <td>...</td>\n",
       "      <td>...</td>\n",
       "      <td>...</td>\n",
       "      <td>...</td>\n",
       "      <td>...</td>\n",
       "    </tr>\n",
       "    <tr>\n",
       "      <th>185</th>\n",
       "      <td>95</td>\n",
       "      <td>Ám ảnh sông xưa</td>\n",
       "      <td>Ôi, con sóng chết khô,\\nvật vờ trong bùn quánh...</td>\n",
       "      <td>NaN</td>\n",
       "      <td>https://www.thivien.net/%C4%90%E1%BB%97-Qu%E1%...</td>\n",
       "    </tr>\n",
       "    <tr>\n",
       "      <th>186</th>\n",
       "      <td>96</td>\n",
       "      <td>Áng dương không biết sầu</td>\n",
       "      <td>Áng dương không biết sầu\\nNằm mãi ở trên cao\\n...</td>\n",
       "      <td>Nguồn: Lâu Văn Mua, Tôi bay vào mắt em (thơ), ...</td>\n",
       "      <td>https://www.thivien.net/L%C3%A2u-V%C4%83n-Mua/...</td>\n",
       "    </tr>\n",
       "    <tr>\n",
       "      <th>187</th>\n",
       "      <td>97</td>\n",
       "      <td>Anh</td>\n",
       "      <td>Cây bút gẫy trong tay\\nCặn mực khô đáy lọ\\nÁnh...</td>\n",
       "      <td>19-7-1973\\n\\n[Thông tin 2 nguồn tham khảo đã đ...</td>\n",
       "      <td>https://www.thivien.net/Xu%C3%A2n-Qu%E1%BB%B3n...</td>\n",
       "    </tr>\n",
       "    <tr>\n",
       "      <th>188</th>\n",
       "      <td>98</td>\n",
       "      <td>Anh biết</td>\n",
       "      <td>Không có anh để già\\nLàm sao em được trẻ\\nMuốn...</td>\n",
       "      <td>NaN</td>\n",
       "      <td>https://www.thivien.net/Nguy%E1%BB%85n-Minh-D%...</td>\n",
       "    </tr>\n",
       "    <tr>\n",
       "      <th>189</th>\n",
       "      <td>99</td>\n",
       "      <td>Anh bốn mùa lập đông</td>\n",
       "      <td>Buồn, thì buồn thiệt đó\\nEm à, có biết không\\n...</td>\n",
       "      <td>NaN</td>\n",
       "      <td>https://www.thivien.net/Nguy%E1%BB%85n-Minh-D%...</td>\n",
       "    </tr>\n",
       "  </tbody>\n",
       "</table>\n",
       "<p>190 rows × 5 columns</p>\n",
       "</div>"
      ],
      "text/plain": [
       "     Unnamed: 0                        title  \\\n",
       "0             0       “Cái làm ta hạnh phúc”   \n",
       "1             1     “Chiều vừa xốp trên tay”   \n",
       "2             2  “Dưới giàn hoa thiên lý...”   \n",
       "3             3      “Đến, nhiều nơi để đến”   \n",
       "4             4       “Đừng bao giờ dại dột”   \n",
       "..          ...                          ...   \n",
       "185          95              Ám ảnh sông xưa   \n",
       "186          96     Áng dương không biết sầu   \n",
       "187          97                          Anh   \n",
       "188          98                     Anh biết   \n",
       "189          99         Anh bốn mùa lập đông   \n",
       "\n",
       "                                               content  \\\n",
       "0    Cái làm ta hạnh phúc\\nThực ra cũng chẳng nhiều...   \n",
       "1    Chiều vừa xốp trên tay\\nChợt nghe thoáng ong b...   \n",
       "2    Dưới giàn hoa thiên lý\\nMột mình anh đang ngồi...   \n",
       "3    Đến, nhiều nơi để đến\\nVề, trở lại với mình\\nC...   \n",
       "4    Đừng bao giờ dại dột\\nĐem chuyện riêng của mìn...   \n",
       "..                                                 ...   \n",
       "185  Ôi, con sóng chết khô,\\nvật vờ trong bùn quánh...   \n",
       "186  Áng dương không biết sầu\\nNằm mãi ở trên cao\\n...   \n",
       "187  Cây bút gẫy trong tay\\nCặn mực khô đáy lọ\\nÁnh...   \n",
       "188  Không có anh để già\\nLàm sao em được trẻ\\nMuốn...   \n",
       "189  Buồn, thì buồn thiệt đó\\nEm à, có biết không\\n...   \n",
       "\n",
       "                                                source  \\\n",
       "0    Nguồn: Châm ngôn mới (thơ), Thái Bá Tân, NXB L...   \n",
       "1    Nguồn: Lâm Huy Nhuận, Chiều có thật (thơ), NXB...   \n",
       "2      Nguồn: Nguyễn Nhật Ánh, Mắt biếc, NXB Trẻ, 2004   \n",
       "3    Nguồn: Châm ngôn mới (thơ), Thái Bá Tân, NXB L...   \n",
       "4    Nguồn: Châm ngôn mới (thơ), Thái Bá Tân, NXB L...   \n",
       "..                                                 ...   \n",
       "185                                                NaN   \n",
       "186  Nguồn: Lâu Văn Mua, Tôi bay vào mắt em (thơ), ...   \n",
       "187  19-7-1973\\n\\n[Thông tin 2 nguồn tham khảo đã đ...   \n",
       "188                                                NaN   \n",
       "189                                                NaN   \n",
       "\n",
       "                                                   url  \n",
       "0    https://www.thivien.net/Th%C3%A1i-B%C3%A1-T%C3...  \n",
       "1    https://www.thivien.net/L%C3%A2m-Huy-Nhu%E1%BA...  \n",
       "2    https://www.thivien.net/Nguy%E1%BB%85n-Nh%E1%B...  \n",
       "3    https://www.thivien.net/Th%C3%A1i-B%C3%A1-T%C3...  \n",
       "4    https://www.thivien.net/Th%C3%A1i-B%C3%A1-T%C3...  \n",
       "..                                                 ...  \n",
       "185  https://www.thivien.net/%C4%90%E1%BB%97-Qu%E1%...  \n",
       "186  https://www.thivien.net/L%C3%A2u-V%C4%83n-Mua/...  \n",
       "187  https://www.thivien.net/Xu%C3%A2n-Qu%E1%BB%B3n...  \n",
       "188  https://www.thivien.net/Nguy%E1%BB%85n-Minh-D%...  \n",
       "189  https://www.thivien.net/Nguy%E1%BB%85n-Minh-D%...  \n",
       "\n",
       "[190 rows x 5 columns]"
      ]
     },
     "execution_count": 2,
     "metadata": {},
     "output_type": "execute_result"
    }
   ],
   "source": [
    "DATASET_PATH = \"../data/poem_final.csv\"\n",
    "df = pd.read_csv(DATASET_PATH)\n",
    "df"
   ]
  },
  {
   "cell_type": "markdown",
   "metadata": {},
   "source": [
    "## Setup dataframe to datasets for hunggingface "
   ]
  },
  {
   "cell_type": "markdown",
   "metadata": {},
   "source": [
    "### Split part poem"
   ]
  },
  {
   "cell_type": "code",
   "execution_count": 11,
   "metadata": {},
   "outputs": [
    {
     "data": {
      "text/plain": [
       "0      [[Cái làm ta hạnh phúc, Thực ra cũng chẳng nhi...\n",
       "1      [[Chiều vừa xốp trên tay, Chợt nghe thoáng ong...\n",
       "2      [[Dưới giàn hoa thiên lý, Một mình anh đang ng...\n",
       "3      [[Đến, nhiều nơi để đến, Về, trở lại với mình,...\n",
       "4      [[Đừng bao giờ dại dột, Đem chuyện riêng của m...\n",
       "                             ...                        \n",
       "185    [[Ôi, con sóng chết khô,, vật vờ trong bùn quá...\n",
       "186    [[Áng dương không biết sầu, Nằm mãi ở trên cao...\n",
       "187                                                   []\n",
       "188    [[Không có anh để già, Làm sao em được trẻ, Mu...\n",
       "189    [[Buồn, thì buồn thiệt đó, Em à, có biết không...\n",
       "Name: part_content, Length: 190, dtype: object"
      ]
     },
     "execution_count": 11,
     "metadata": {},
     "output_type": "execute_result"
    }
   ],
   "source": [
    "def split_content(content : str):\n",
    "    sample = []\n",
    "\n",
    "    poem_parts = content.split(\"\\n\\n\")\n",
    "    for part in poem_parts:\n",
    "        sentences = part.split(\"\\n\")\n",
    "        if len(sentences) == 4:\n",
    "            sample.append(sentences)\n",
    "\n",
    "    return sample\n",
    "\n",
    "df['part_content'] = df['content'].apply(lambda x : split_content(x))\n",
    "df['part_content']"
   ]
  },
  {
   "cell_type": "markdown",
   "metadata": {},
   "source": [
    "### Explode content to new dataframe"
   ]
  },
  {
   "cell_type": "code",
   "execution_count": 16,
   "metadata": {},
   "outputs": [
    {
     "data": {
      "application/vnd.microsoft.datawrangler.viewer.v0+json": {
       "columns": [
        {
         "name": "index",
         "rawType": "int64",
         "type": "integer"
        },
        {
         "name": "Unnamed: 0",
         "rawType": "int64",
         "type": "integer"
        },
        {
         "name": "title",
         "rawType": "object",
         "type": "string"
        },
        {
         "name": "content",
         "rawType": "object",
         "type": "string"
        },
        {
         "name": "source",
         "rawType": "object",
         "type": "unknown"
        },
        {
         "name": "url",
         "rawType": "object",
         "type": "string"
        },
        {
         "name": "part_content",
         "rawType": "object",
         "type": "unknown"
        }
       ],
       "conversionMethod": "pd.DataFrame",
       "ref": "1516b131-89c0-4913-9638-588e1240ed7d",
       "rows": [
        [
         "0",
         "0",
         "“Cái làm ta hạnh phúc”",
         "Cái làm ta hạnh phúc\nThực ra cũng chẳng nhiều\nChỉ cần có ai đó\nĐể ta thầm thương yêu\n\nRồi thêm chút công việc\nCho ta làm hàng ngày\nCuối cùng, chút mơ mộng\nĐể đưa ta lên mây",
         "Nguồn: Châm ngôn mới (thơ), Thái Bá Tân, NXB Lao động, 2013",
         "https://www.thivien.net/Th%C3%A1i-B%C3%A1-T%C3%A2n/C%C3%A1i-l%C3%A0m-ta-h%E1%BA%A1nh-ph%C3%BAc/poem-t24-M5Dn2cxmEDVSrQhtCw",
         "['Cái làm ta hạnh phúc', 'Thực ra cũng chẳng nhiều', 'Chỉ cần có ai đó', 'Để ta thầm thương yêu']"
        ],
        [
         "1",
         "0",
         "“Cái làm ta hạnh phúc”",
         "Cái làm ta hạnh phúc\nThực ra cũng chẳng nhiều\nChỉ cần có ai đó\nĐể ta thầm thương yêu\n\nRồi thêm chút công việc\nCho ta làm hàng ngày\nCuối cùng, chút mơ mộng\nĐể đưa ta lên mây",
         "Nguồn: Châm ngôn mới (thơ), Thái Bá Tân, NXB Lao động, 2013",
         "https://www.thivien.net/Th%C3%A1i-B%C3%A1-T%C3%A2n/C%C3%A1i-l%C3%A0m-ta-h%E1%BA%A1nh-ph%C3%BAc/poem-t24-M5Dn2cxmEDVSrQhtCw",
         "['Rồi thêm chút công việc', 'Cho ta làm hàng ngày', 'Cuối cùng, chút mơ mộng', 'Để đưa ta lên mây']"
        ],
        [
         "2",
         "1",
         "“Chiều vừa xốp trên tay”",
         "Chiều vừa xốp trên tay\nChợt nghe thoáng ong bay\nCó ai vừa chết nhỉ\nMây thắt tang trăng gầy\n\nỚt đỏ sao cứ đỏ\nTáo chín cho thật vàng\nEm đẹp cho thêm đẹp\nĐể mắt ngừng lang thang",
         "Nguồn: Lâm Huy Nhuận, Chiều có thật (thơ), NXB Văn học, 1999",
         "https://www.thivien.net/L%C3%A2m-Huy-Nhu%E1%BA%ADn/Chi%E1%BB%81u-v%E1%BB%ABa-x%E1%BB%91p-tr%C3%AAn-tay/poem-f31v-s36HNxJNqauIrC7Xw",
         "['Chiều vừa xốp trên tay', 'Chợt nghe thoáng ong bay', 'Có ai vừa chết nhỉ', 'Mây thắt tang trăng gầy']"
        ],
        [
         "3",
         "1",
         "“Chiều vừa xốp trên tay”",
         "Chiều vừa xốp trên tay\nChợt nghe thoáng ong bay\nCó ai vừa chết nhỉ\nMây thắt tang trăng gầy\n\nỚt đỏ sao cứ đỏ\nTáo chín cho thật vàng\nEm đẹp cho thêm đẹp\nĐể mắt ngừng lang thang",
         "Nguồn: Lâm Huy Nhuận, Chiều có thật (thơ), NXB Văn học, 1999",
         "https://www.thivien.net/L%C3%A2m-Huy-Nhu%E1%BA%ADn/Chi%E1%BB%81u-v%E1%BB%ABa-x%E1%BB%91p-tr%C3%AAn-tay/poem-f31v-s36HNxJNqauIrC7Xw",
         "['Ớt đỏ sao cứ đỏ', 'Táo chín cho thật vàng', 'Em đẹp cho thêm đẹp', 'Để mắt ngừng lang thang']"
        ],
        [
         "4",
         "2",
         "“Dưới giàn hoa thiên lý...”",
         "Dưới giàn hoa thiên lý\nMột mình anh đang ngồi\nKhông dưng em bước tới\nAnh bỗng thành song đôi",
         "Nguồn: Nguyễn Nhật Ánh, Mắt biếc, NXB Trẻ, 2004",
         "https://www.thivien.net/Nguy%E1%BB%85n-Nh%E1%BA%ADt-%C3%81nh/D%C6%B0%E1%BB%9Bi-gi%C3%A0n-hoa-thi%C3%AAn-l%C3%BD/poem-u0YIZsC-pwwY1Khy_e96OQ",
         "['Dưới giàn hoa thiên lý', 'Một mình anh đang ngồi', 'Không dưng em bước tới', 'Anh bỗng thành song đôi']"
        ],
        [
         "5",
         "3",
         "“Đến, nhiều nơi để đến”",
         "Đến, nhiều nơi để đến\nVề, trở lại với mình\nChỉ duy nhất một chốn\nChốn ấy là gia đình",
         "Nguồn: Châm ngôn mới (thơ), Thái Bá Tân, NXB Lao động, 2013",
         "https://www.thivien.net/Th%C3%A1i-B%C3%A1-T%C3%A2n/%C4%90%E1%BA%BFn-nhi%E1%BB%81u-n%C6%A1i-%C4%91%E1%BB%83-%C4%91%E1%BA%BFn/poem-39NZptOCqcWR7beS-TJcOg",
         "['Đến, nhiều nơi để đến', 'Về, trở lại với mình', 'Chỉ duy nhất một chốn', 'Chốn ấy là gia đình']"
        ],
        [
         "6",
         "4",
         "“Đừng bao giờ dại dột”",
         "Đừng bao giờ dại dột\nĐem chuyện riêng của mình\nTâm sự với người khác\nĐây, con số chứng minh:\n\nHai phần ba trong họ\nSẽ chẳng thèm quan tâm\nMột phần ba còn lại\nNghe xong, lòng vui thầm",
         "Nguồn: Châm ngôn mới (thơ), Thái Bá Tân, NXB Lao động, 2013",
         "https://www.thivien.net/Th%C3%A1i-B%C3%A1-T%C3%A2n/%C4%90%E1%BB%ABng-bao-gi%E1%BB%9D-d%E1%BA%A1i-d%E1%BB%99t/poem-G6OAEVSjTKCAXXDhIoGKyA",
         "['Đừng bao giờ dại dột', 'Đem chuyện riêng của mình', 'Tâm sự với người khác', 'Đây, con số chứng minh:']"
        ],
        [
         "7",
         "4",
         "“Đừng bao giờ dại dột”",
         "Đừng bao giờ dại dột\nĐem chuyện riêng của mình\nTâm sự với người khác\nĐây, con số chứng minh:\n\nHai phần ba trong họ\nSẽ chẳng thèm quan tâm\nMột phần ba còn lại\nNghe xong, lòng vui thầm",
         "Nguồn: Châm ngôn mới (thơ), Thái Bá Tân, NXB Lao động, 2013",
         "https://www.thivien.net/Th%C3%A1i-B%C3%A1-T%C3%A2n/%C4%90%E1%BB%ABng-bao-gi%E1%BB%9D-d%E1%BA%A1i-d%E1%BB%99t/poem-G6OAEVSjTKCAXXDhIoGKyA",
         "['Hai phần ba trong họ', 'Sẽ chẳng thèm quan tâm', 'Một phần ba còn lại', 'Nghe xong, lòng vui thầm']"
        ],
        [
         "8",
         "5",
         "“Hầu hết các đồ vật”",
         "Hầu hết các đồ vật\nTa muốn đều đắt tiền\nMột khi không có được\nTa cảm thấy buồn phiền\n\nTrong khi cái thực sự\nLàm ta vui ở đời\nHoàn toàn không tốn kém\nLà tình yêu, tiếng cười",
         "Nguồn: Châm ngôn mới (thơ), Thái Bá Tân, NXB Lao động, 2013",
         "https://www.thivien.net/Th%C3%A1i-B%C3%A1-T%C3%A2n/H%E1%BA%A7u-h%E1%BA%BFt-c%C3%A1c-%C4%91%E1%BB%93-v%E1%BA%ADt/poem-UgNEBlIDpJW5xfeygCe28g",
         "['Hầu hết các đồ vật', 'Ta muốn đều đắt tiền', 'Một khi không có được', 'Ta cảm thấy buồn phiền']"
        ],
        [
         "9",
         "5",
         "“Hầu hết các đồ vật”",
         "Hầu hết các đồ vật\nTa muốn đều đắt tiền\nMột khi không có được\nTa cảm thấy buồn phiền\n\nTrong khi cái thực sự\nLàm ta vui ở đời\nHoàn toàn không tốn kém\nLà tình yêu, tiếng cười",
         "Nguồn: Châm ngôn mới (thơ), Thái Bá Tân, NXB Lao động, 2013",
         "https://www.thivien.net/Th%C3%A1i-B%C3%A1-T%C3%A2n/H%E1%BA%A7u-h%E1%BA%BFt-c%C3%A1c-%C4%91%E1%BB%93-v%E1%BA%ADt/poem-UgNEBlIDpJW5xfeygCe28g",
         "['Trong khi cái thực sự', 'Làm ta vui ở đời', 'Hoàn toàn không tốn kém', 'Là tình yêu, tiếng cười']"
        ],
        [
         "10",
         "6",
         "“Hoàng thị” chưa quên…",
         "Chưa hết mùa tầm xuân\nNên mưa còn ngại ngần\nNơi miền xa bất tận\nĐể nắng… dài bâng khuâng!\n\nSài Gòn bao bàn chân\nNhớ bao nhiêu tên đường?\nĐời qua bao nhiêu bận\nGót giày lên vấn vương?\n\nTháng Tư làm nhớ thương\nĐầu mùa ve nức nở\nTrên vòm lá sân trường\nBên đường xưa của Ngọ\n\nAi đang ngồi khóc dở\nThời gian qua thời gian\nHết rồi ngày bỡ ngỡ\nCòn chăng nỗi bẽ bàng!\n\nBên chân dung điêu tàn\nNên ngày xưa của Ngọ\nĐời không cho quên lãng\nĐể yêu thương còn chờ\n\nMai em về xứ sở\nÁo dài quấn chân anh\nĐi qua đường của Ngọ\nViết thêm câu chuyện tình…",
         "16.4.18",
         "https://www.thivien.net/Minh-S%C6%A1n-L%C3%AA/Ho%C3%A0ng-th%E1%BB%8B-ch%C6%B0a-qu%C3%AAn/poem-9ymR5llztMAaB3ivBKGuIg",
         "['Chưa hết mùa tầm xuân', 'Nên mưa còn ngại ngần', 'Nơi miền xa bất tận', 'Để nắng… dài bâng khuâng!']"
        ],
        [
         "11",
         "6",
         "“Hoàng thị” chưa quên…",
         "Chưa hết mùa tầm xuân\nNên mưa còn ngại ngần\nNơi miền xa bất tận\nĐể nắng… dài bâng khuâng!\n\nSài Gòn bao bàn chân\nNhớ bao nhiêu tên đường?\nĐời qua bao nhiêu bận\nGót giày lên vấn vương?\n\nTháng Tư làm nhớ thương\nĐầu mùa ve nức nở\nTrên vòm lá sân trường\nBên đường xưa của Ngọ\n\nAi đang ngồi khóc dở\nThời gian qua thời gian\nHết rồi ngày bỡ ngỡ\nCòn chăng nỗi bẽ bàng!\n\nBên chân dung điêu tàn\nNên ngày xưa của Ngọ\nĐời không cho quên lãng\nĐể yêu thương còn chờ\n\nMai em về xứ sở\nÁo dài quấn chân anh\nĐi qua đường của Ngọ\nViết thêm câu chuyện tình…",
         "16.4.18",
         "https://www.thivien.net/Minh-S%C6%A1n-L%C3%AA/Ho%C3%A0ng-th%E1%BB%8B-ch%C6%B0a-qu%C3%AAn/poem-9ymR5llztMAaB3ivBKGuIg",
         "['Sài Gòn bao bàn chân', 'Nhớ bao nhiêu tên đường?', 'Đời qua bao nhiêu bận', 'Gót giày lên vấn vương?']"
        ],
        [
         "12",
         "6",
         "“Hoàng thị” chưa quên…",
         "Chưa hết mùa tầm xuân\nNên mưa còn ngại ngần\nNơi miền xa bất tận\nĐể nắng… dài bâng khuâng!\n\nSài Gòn bao bàn chân\nNhớ bao nhiêu tên đường?\nĐời qua bao nhiêu bận\nGót giày lên vấn vương?\n\nTháng Tư làm nhớ thương\nĐầu mùa ve nức nở\nTrên vòm lá sân trường\nBên đường xưa của Ngọ\n\nAi đang ngồi khóc dở\nThời gian qua thời gian\nHết rồi ngày bỡ ngỡ\nCòn chăng nỗi bẽ bàng!\n\nBên chân dung điêu tàn\nNên ngày xưa của Ngọ\nĐời không cho quên lãng\nĐể yêu thương còn chờ\n\nMai em về xứ sở\nÁo dài quấn chân anh\nĐi qua đường của Ngọ\nViết thêm câu chuyện tình…",
         "16.4.18",
         "https://www.thivien.net/Minh-S%C6%A1n-L%C3%AA/Ho%C3%A0ng-th%E1%BB%8B-ch%C6%B0a-qu%C3%AAn/poem-9ymR5llztMAaB3ivBKGuIg",
         "['Tháng Tư làm nhớ thương', 'Đầu mùa ve nức nở', 'Trên vòm lá sân trường', 'Bên đường xưa của Ngọ']"
        ],
        [
         "13",
         "6",
         "“Hoàng thị” chưa quên…",
         "Chưa hết mùa tầm xuân\nNên mưa còn ngại ngần\nNơi miền xa bất tận\nĐể nắng… dài bâng khuâng!\n\nSài Gòn bao bàn chân\nNhớ bao nhiêu tên đường?\nĐời qua bao nhiêu bận\nGót giày lên vấn vương?\n\nTháng Tư làm nhớ thương\nĐầu mùa ve nức nở\nTrên vòm lá sân trường\nBên đường xưa của Ngọ\n\nAi đang ngồi khóc dở\nThời gian qua thời gian\nHết rồi ngày bỡ ngỡ\nCòn chăng nỗi bẽ bàng!\n\nBên chân dung điêu tàn\nNên ngày xưa của Ngọ\nĐời không cho quên lãng\nĐể yêu thương còn chờ\n\nMai em về xứ sở\nÁo dài quấn chân anh\nĐi qua đường của Ngọ\nViết thêm câu chuyện tình…",
         "16.4.18",
         "https://www.thivien.net/Minh-S%C6%A1n-L%C3%AA/Ho%C3%A0ng-th%E1%BB%8B-ch%C6%B0a-qu%C3%AAn/poem-9ymR5llztMAaB3ivBKGuIg",
         "['Ai đang ngồi khóc dở', 'Thời gian qua thời gian', 'Hết rồi ngày bỡ ngỡ', 'Còn chăng nỗi bẽ bàng!']"
        ],
        [
         "14",
         "6",
         "“Hoàng thị” chưa quên…",
         "Chưa hết mùa tầm xuân\nNên mưa còn ngại ngần\nNơi miền xa bất tận\nĐể nắng… dài bâng khuâng!\n\nSài Gòn bao bàn chân\nNhớ bao nhiêu tên đường?\nĐời qua bao nhiêu bận\nGót giày lên vấn vương?\n\nTháng Tư làm nhớ thương\nĐầu mùa ve nức nở\nTrên vòm lá sân trường\nBên đường xưa của Ngọ\n\nAi đang ngồi khóc dở\nThời gian qua thời gian\nHết rồi ngày bỡ ngỡ\nCòn chăng nỗi bẽ bàng!\n\nBên chân dung điêu tàn\nNên ngày xưa của Ngọ\nĐời không cho quên lãng\nĐể yêu thương còn chờ\n\nMai em về xứ sở\nÁo dài quấn chân anh\nĐi qua đường của Ngọ\nViết thêm câu chuyện tình…",
         "16.4.18",
         "https://www.thivien.net/Minh-S%C6%A1n-L%C3%AA/Ho%C3%A0ng-th%E1%BB%8B-ch%C6%B0a-qu%C3%AAn/poem-9ymR5llztMAaB3ivBKGuIg",
         "['Bên chân dung điêu tàn', 'Nên ngày xưa của Ngọ', 'Đời không cho quên lãng', 'Để yêu thương còn chờ']"
        ],
        [
         "15",
         "6",
         "“Hoàng thị” chưa quên…",
         "Chưa hết mùa tầm xuân\nNên mưa còn ngại ngần\nNơi miền xa bất tận\nĐể nắng… dài bâng khuâng!\n\nSài Gòn bao bàn chân\nNhớ bao nhiêu tên đường?\nĐời qua bao nhiêu bận\nGót giày lên vấn vương?\n\nTháng Tư làm nhớ thương\nĐầu mùa ve nức nở\nTrên vòm lá sân trường\nBên đường xưa của Ngọ\n\nAi đang ngồi khóc dở\nThời gian qua thời gian\nHết rồi ngày bỡ ngỡ\nCòn chăng nỗi bẽ bàng!\n\nBên chân dung điêu tàn\nNên ngày xưa của Ngọ\nĐời không cho quên lãng\nĐể yêu thương còn chờ\n\nMai em về xứ sở\nÁo dài quấn chân anh\nĐi qua đường của Ngọ\nViết thêm câu chuyện tình…",
         "16.4.18",
         "https://www.thivien.net/Minh-S%C6%A1n-L%C3%AA/Ho%C3%A0ng-th%E1%BB%8B-ch%C6%B0a-qu%C3%AAn/poem-9ymR5llztMAaB3ivBKGuIg",
         "['Mai em về xứ sở', 'Áo dài quấn chân anh', 'Đi qua đường của Ngọ', 'Viết thêm câu chuyện tình…']"
        ],
        [
         "16",
         "7",
         "“Khi cô gái im lặng”",
         "Khi cô gái im lặng\nNăm lý do như sau:\nMột, nàng đang tức giận\nHai, nàng đang buồn đau\n\nBa, nàng sắp bùng nổ\nBốn, nàng nghi ngờ mình\nNăm, và quan trọng nhất\nNàng chờ bạn tỏ tình",
         "Nguồn: Châm ngôn mới (thơ), Thái Bá Tân, NXB Lao động, 2013",
         "https://www.thivien.net/Th%C3%A1i-B%C3%A1-T%C3%A2n/Khi-c%C3%B4-g%C3%A1i-im-l%E1%BA%B7ng/poem-JGuKQCVpULYCIRVVfQK-2g",
         "['Khi cô gái im lặng', 'Năm lý do như sau:', 'Một, nàng đang tức giận', 'Hai, nàng đang buồn đau']"
        ],
        [
         "17",
         "7",
         "“Khi cô gái im lặng”",
         "Khi cô gái im lặng\nNăm lý do như sau:\nMột, nàng đang tức giận\nHai, nàng đang buồn đau\n\nBa, nàng sắp bùng nổ\nBốn, nàng nghi ngờ mình\nNăm, và quan trọng nhất\nNàng chờ bạn tỏ tình",
         "Nguồn: Châm ngôn mới (thơ), Thái Bá Tân, NXB Lao động, 2013",
         "https://www.thivien.net/Th%C3%A1i-B%C3%A1-T%C3%A2n/Khi-c%C3%B4-g%C3%A1i-im-l%E1%BA%B7ng/poem-JGuKQCVpULYCIRVVfQK-2g",
         "['Ba, nàng sắp bùng nổ', 'Bốn, nàng nghi ngờ mình', 'Năm, và quan trọng nhất', 'Nàng chờ bạn tỏ tình']"
        ],
        [
         "18",
         "8",
         "“Khi tiếng niệm Di Đà”",
         "Khi tiếng niệm Di Đà\nVang vọng trong tâm ta\nRơi đi những phiền não\nCho Bồ đề nở hoa",
         "Nguồn: Thi kệ niệm Phật (Nhiều tác giả), Thích Giác Chí Châu, NXB Phương đông, 2007",
         "https://www.thivien.net/Th%C3%ADch-Ch%C3%A2n-T%C3%ADnh/Khi-ti%E1%BA%BFng-ni%E1%BB%87m-Di-%C4%90%C3%A0/poem-pDbZtZ1CigVW422eL0CQ2g",
         "['Khi tiếng niệm Di Đà', 'Vang vọng trong tâm ta', 'Rơi đi những phiền não', 'Cho Bồ đề nở hoa']"
        ],
        [
         "19",
         "9",
         "“Khoẻ - không phải nhấc mạnh”",
         "Khoẻ - không phải nhấc mạnh\nMà biết đặt nhẹ nhàng\nKính - đối với người dưới\nNhư những người ngang hàng\n\nLớn - không ở to tát\nMà ở điều bình thường\nĐẹp - không ở khuôn mặt\nMà trái tim yêu thương\n\nTốt - không ở lời nói\nMà việc làm hàng ngày\nCuốn sách đẹp, bìa cứng\nChưa hẳn là sách hay",
         "Nguồn: Châm ngôn mới (thơ), Thái Bá Tân, NXB Lao động, 2013",
         "https://www.thivien.net/Th%C3%A1i-B%C3%A1-T%C3%A2n/Kho%E1%BA%BB-kh%C3%B4ng-ph%E1%BA%A3i-nh%E1%BA%A5c-m%E1%BA%A1nh/poem-AcjlU8CFbBUa5ZwreL_Qpw",
         "['Khoẻ - không phải nhấc mạnh', 'Mà biết đặt nhẹ nhàng', 'Kính - đối với người dưới', 'Như những người ngang hàng']"
        ],
        [
         "20",
         "9",
         "“Khoẻ - không phải nhấc mạnh”",
         "Khoẻ - không phải nhấc mạnh\nMà biết đặt nhẹ nhàng\nKính - đối với người dưới\nNhư những người ngang hàng\n\nLớn - không ở to tát\nMà ở điều bình thường\nĐẹp - không ở khuôn mặt\nMà trái tim yêu thương\n\nTốt - không ở lời nói\nMà việc làm hàng ngày\nCuốn sách đẹp, bìa cứng\nChưa hẳn là sách hay",
         "Nguồn: Châm ngôn mới (thơ), Thái Bá Tân, NXB Lao động, 2013",
         "https://www.thivien.net/Th%C3%A1i-B%C3%A1-T%C3%A2n/Kho%E1%BA%BB-kh%C3%B4ng-ph%E1%BA%A3i-nh%E1%BA%A5c-m%E1%BA%A1nh/poem-AcjlU8CFbBUa5ZwreL_Qpw",
         "['Lớn - không ở to tát', 'Mà ở điều bình thường', 'Đẹp - không ở khuôn mặt', 'Mà trái tim yêu thương']"
        ],
        [
         "21",
         "9",
         "“Khoẻ - không phải nhấc mạnh”",
         "Khoẻ - không phải nhấc mạnh\nMà biết đặt nhẹ nhàng\nKính - đối với người dưới\nNhư những người ngang hàng\n\nLớn - không ở to tát\nMà ở điều bình thường\nĐẹp - không ở khuôn mặt\nMà trái tim yêu thương\n\nTốt - không ở lời nói\nMà việc làm hàng ngày\nCuốn sách đẹp, bìa cứng\nChưa hẳn là sách hay",
         "Nguồn: Châm ngôn mới (thơ), Thái Bá Tân, NXB Lao động, 2013",
         "https://www.thivien.net/Th%C3%A1i-B%C3%A1-T%C3%A2n/Kho%E1%BA%BB-kh%C3%B4ng-ph%E1%BA%A3i-nh%E1%BA%A5c-m%E1%BA%A1nh/poem-AcjlU8CFbBUa5ZwreL_Qpw",
         "['Tốt - không ở lời nói', 'Mà việc làm hàng ngày', 'Cuốn sách đẹp, bìa cứng', 'Chưa hẳn là sách hay']"
        ],
        [
         "22",
         "10",
         "“Không thể kiểm tra bạn”",
         "Không thể kiểm tra bạn\nNhư ta kiểm tra tiền\nMuốn xem thật hay giả\nĐem soi trước bóng đèn",
         "Nguồn: Châm ngôn mới (thơ), Thái Bá Tân, NXB Lao động, 2013",
         "https://www.thivien.net/Th%C3%A1i-B%C3%A1-T%C3%A2n/Kh%C3%B4ng-th%E1%BB%83-ki%E1%BB%83m-tra-b%E1%BA%A1n/poem-OrB3lHwvfpxlSwoSsC8pUQ",
         "['Không thể kiểm tra bạn', 'Như ta kiểm tra tiền', 'Muốn xem thật hay giả', 'Đem soi trước bóng đèn']"
        ],
        [
         "23",
         "11",
         "“Lặng ngồi chốn tĩnh lâu”",
         "Lặng ngồi chốn tĩnh lâu\nTrăng sáng, gió canh thâu!\nBát nhã hương lòng nhẹ.\nLăng Già niệm ý sâu\nPhật, Tâm chung một vẻ\nThiền, Tịnh chẳng hai mầu\nNgưng chuỗi, thầm riêng hỏi\nHoa đêm điểm điểm đầu...",
         "Nguồn: Niệm Phật thập yếu, Thích Thiền Tâm, NXB Tôn giáo, 2009",
         "https://www.thivien.net/Th%C3%ADch-Thi%E1%BB%81n-T%C3%A2m/L%E1%BA%B7ng-ng%E1%BB%93i-ch%E1%BB%91n-t%C4%A9nh-l%C3%A2u/poem-6510NdSMoamB9S3QMp9AhA",
         null
        ],
        [
         "24",
         "12",
         "“Lòng tôi là cây khế...”",
         "Lòng tôi là cây khế\nEm là chim về chơi\nVàng kia em chẳng trả\nChỉ nhả hạt xuống thôi\nHạt rớt xuống thành cây\nCây cũng toàn cây khế\nTừ khi em đi rồi\nVườn tôi thành lặng lẽ\nBiết bao giờ trở lại\nCánh chim em ngày nào\nLòng tôi hoa khế rụng\nXuống nỗi buồn nôn nao...",
         "Nguồn: Nguyễn Nhật Ánh, Mắt biếc, NXB Trẻ, 2004",
         "https://www.thivien.net/Nguy%E1%BB%85n-Nh%E1%BA%ADt-%C3%81nh/L%C3%B2ng-t%C3%B4i-l%C3%A0-c%C3%A2y-kh%E1%BA%BF/poem-piaOE_aXABBrdEkka4gaag",
         null
        ],
        [
         "25",
         "13",
         "“Mong bạn hoài nghi tôi”",
         "Mong bạn hoài nghi tôi\nCho tôi tin cậy bạn\nNhững lời đang vỗ cánh\nChưa chắc là đã bay!",
         "Nguồn: Nguyễn Vũ Tiềm, Hoài nghi và tin cậy, NXB Hội nhà văn, 2004",
         "https://www.thivien.net/Nguy%E1%BB%85n-V%C5%A9-Ti%E1%BB%81m/Mong-b%E1%BA%A1n-ho%C3%A0i-nghi-t%C3%B4i/poem-SXdUCYxChMCrzbKk2EdcLw",
         "['Mong bạn hoài nghi tôi', 'Cho tôi tin cậy bạn', 'Những lời đang vỗ cánh', 'Chưa chắc là đã bay!']"
        ],
        [
         "26",
         "14",
         "“Một đời người quá ngắn”",
         "Một đời người quá ngắn\nMột ngày sao quá dài\nBao nhiêu Sao Hôm lặn\nChẳng mọc thành Sao Mai",
         "8-1992\n\nNguồn: Nguyễn Sĩ Đại, Trái tim người lính (thơ), NXB Thanh niên, 1998",
         "https://www.thivien.net/Nguy%E1%BB%85n-S%C4%A9-%C4%90%E1%BA%A1i/M%E1%BB%99t-%C4%91%E1%BB%9Di-ng%C6%B0%E1%BB%9Di-qu%C3%A1-ng%E1%BA%AFn/poem-3_1pIhihPm0StpgLBOxEIQ",
         "['Một đời người quá ngắn', 'Một ngày sao quá dài', 'Bao nhiêu Sao Hôm lặn', 'Chẳng mọc thành Sao Mai']"
        ],
        [
         "27",
         "15",
         "“Ngoảnh mặt với bệ rồng”",
         "Ngoảnh mặt với bệ rồng\nxua vàng khối bạc thẻ\ndẫu đao phủ vung gươm\ncũng đừng mong đổi ý\n\nNhưng gặp bạn tri âm\ndù ngục tù cũng ở\nngười đẹp của muôn thuở\ngần gũi và xa vời",
         "Nguồn: Người thám hiểm thời gian (thơ), Nguyễn Vũ Tiềm, NXB Văn hoá, 1993",
         "https://www.thivien.net/Nguy%E1%BB%85n-V%C5%A9-Ti%E1%BB%81m/Ngo%E1%BA%A3nh-m%E1%BA%B7t-v%E1%BB%9Bi-b%E1%BB%87-r%E1%BB%93ng/poem-WPWUR8J33_9m_c2jHvi_Ww",
         "['Ngoảnh mặt với bệ rồng', 'xua vàng khối bạc thẻ', 'dẫu đao phủ vung gươm', 'cũng đừng mong đổi ý']"
        ],
        [
         "28",
         "15",
         "“Ngoảnh mặt với bệ rồng”",
         "Ngoảnh mặt với bệ rồng\nxua vàng khối bạc thẻ\ndẫu đao phủ vung gươm\ncũng đừng mong đổi ý\n\nNhưng gặp bạn tri âm\ndù ngục tù cũng ở\nngười đẹp của muôn thuở\ngần gũi và xa vời",
         "Nguồn: Người thám hiểm thời gian (thơ), Nguyễn Vũ Tiềm, NXB Văn hoá, 1993",
         "https://www.thivien.net/Nguy%E1%BB%85n-V%C5%A9-Ti%E1%BB%81m/Ngo%E1%BA%A3nh-m%E1%BA%B7t-v%E1%BB%9Bi-b%E1%BB%87-r%E1%BB%93ng/poem-WPWUR8J33_9m_c2jHvi_Ww",
         "['Nhưng gặp bạn tri âm', 'dù ngục tù cũng ở', 'người đẹp của muôn thuở', 'gần gũi và xa vời']"
        ],
        [
         "29",
         "16",
         "“Người ấy”",
         "\"Người ấy\" xưa, gầy lắm\nMỏng mảnh khói sương buồn\nĐôi mắt nhìn đăm đắm\nGiấu một trời mưa tuôn\n\nCổng trường thời đi học\nTôi vẫn thường theo sau\nMười năm xa, mái tóc...\nCòn vương hương thuở nào\n\n\"Người ấy\" không che nón\nMỗi khi tan học về\nKhông thích ai đưa đón\nDẫu đường dài lê thê\n\nÔi một thời ngây thơ\nKhù khờ mà bướng bỉnh\nTôi lóng ngóng, lơ ngơ\nNhút nhát rồi...câm nín\n\nNên mùa chia tay ấy\nMặc phượng hồng lung linh\nVà ve sầu trổi dậy\nTôi chỉ nhìn... lặng thinh\n\nBây giờ, ngồi tiếc nhớ\nNgày xanh - tuổi dại khờ\nƯớc chi đừng cách trở\n\"Người ấy\" về trong...mơ",
         "Nguồn: blog của tác giả",
         "https://www.thivien.net/%C4%90%E1%BB%97-Quang-Vinh/Ng%C6%B0%E1%BB%9Di-%E1%BA%A5y/poem-QhCdBKEHaOevyIqXvrZ_aw",
         "['\"Người ấy\" xưa, gầy lắm', 'Mỏng mảnh khói sương buồn', 'Đôi mắt nhìn đăm đắm', 'Giấu một trời mưa tuôn']"
        ],
        [
         "30",
         "16",
         "“Người ấy”",
         "\"Người ấy\" xưa, gầy lắm\nMỏng mảnh khói sương buồn\nĐôi mắt nhìn đăm đắm\nGiấu một trời mưa tuôn\n\nCổng trường thời đi học\nTôi vẫn thường theo sau\nMười năm xa, mái tóc...\nCòn vương hương thuở nào\n\n\"Người ấy\" không che nón\nMỗi khi tan học về\nKhông thích ai đưa đón\nDẫu đường dài lê thê\n\nÔi một thời ngây thơ\nKhù khờ mà bướng bỉnh\nTôi lóng ngóng, lơ ngơ\nNhút nhát rồi...câm nín\n\nNên mùa chia tay ấy\nMặc phượng hồng lung linh\nVà ve sầu trổi dậy\nTôi chỉ nhìn... lặng thinh\n\nBây giờ, ngồi tiếc nhớ\nNgày xanh - tuổi dại khờ\nƯớc chi đừng cách trở\n\"Người ấy\" về trong...mơ",
         "Nguồn: blog của tác giả",
         "https://www.thivien.net/%C4%90%E1%BB%97-Quang-Vinh/Ng%C6%B0%E1%BB%9Di-%E1%BA%A5y/poem-QhCdBKEHaOevyIqXvrZ_aw",
         "['Cổng trường thời đi học', 'Tôi vẫn thường theo sau', 'Mười năm xa, mái tóc...', 'Còn vương hương thuở nào']"
        ],
        [
         "31",
         "16",
         "“Người ấy”",
         "\"Người ấy\" xưa, gầy lắm\nMỏng mảnh khói sương buồn\nĐôi mắt nhìn đăm đắm\nGiấu một trời mưa tuôn\n\nCổng trường thời đi học\nTôi vẫn thường theo sau\nMười năm xa, mái tóc...\nCòn vương hương thuở nào\n\n\"Người ấy\" không che nón\nMỗi khi tan học về\nKhông thích ai đưa đón\nDẫu đường dài lê thê\n\nÔi một thời ngây thơ\nKhù khờ mà bướng bỉnh\nTôi lóng ngóng, lơ ngơ\nNhút nhát rồi...câm nín\n\nNên mùa chia tay ấy\nMặc phượng hồng lung linh\nVà ve sầu trổi dậy\nTôi chỉ nhìn... lặng thinh\n\nBây giờ, ngồi tiếc nhớ\nNgày xanh - tuổi dại khờ\nƯớc chi đừng cách trở\n\"Người ấy\" về trong...mơ",
         "Nguồn: blog của tác giả",
         "https://www.thivien.net/%C4%90%E1%BB%97-Quang-Vinh/Ng%C6%B0%E1%BB%9Di-%E1%BA%A5y/poem-QhCdBKEHaOevyIqXvrZ_aw",
         "['\"Người ấy\" không che nón', 'Mỗi khi tan học về', 'Không thích ai đưa đón', 'Dẫu đường dài lê thê']"
        ],
        [
         "32",
         "16",
         "“Người ấy”",
         "\"Người ấy\" xưa, gầy lắm\nMỏng mảnh khói sương buồn\nĐôi mắt nhìn đăm đắm\nGiấu một trời mưa tuôn\n\nCổng trường thời đi học\nTôi vẫn thường theo sau\nMười năm xa, mái tóc...\nCòn vương hương thuở nào\n\n\"Người ấy\" không che nón\nMỗi khi tan học về\nKhông thích ai đưa đón\nDẫu đường dài lê thê\n\nÔi một thời ngây thơ\nKhù khờ mà bướng bỉnh\nTôi lóng ngóng, lơ ngơ\nNhút nhát rồi...câm nín\n\nNên mùa chia tay ấy\nMặc phượng hồng lung linh\nVà ve sầu trổi dậy\nTôi chỉ nhìn... lặng thinh\n\nBây giờ, ngồi tiếc nhớ\nNgày xanh - tuổi dại khờ\nƯớc chi đừng cách trở\n\"Người ấy\" về trong...mơ",
         "Nguồn: blog của tác giả",
         "https://www.thivien.net/%C4%90%E1%BB%97-Quang-Vinh/Ng%C6%B0%E1%BB%9Di-%E1%BA%A5y/poem-QhCdBKEHaOevyIqXvrZ_aw",
         "['Ôi một thời ngây thơ', 'Khù khờ mà bướng bỉnh', 'Tôi lóng ngóng, lơ ngơ', 'Nhút nhát rồi...câm nín']"
        ],
        [
         "33",
         "16",
         "“Người ấy”",
         "\"Người ấy\" xưa, gầy lắm\nMỏng mảnh khói sương buồn\nĐôi mắt nhìn đăm đắm\nGiấu một trời mưa tuôn\n\nCổng trường thời đi học\nTôi vẫn thường theo sau\nMười năm xa, mái tóc...\nCòn vương hương thuở nào\n\n\"Người ấy\" không che nón\nMỗi khi tan học về\nKhông thích ai đưa đón\nDẫu đường dài lê thê\n\nÔi một thời ngây thơ\nKhù khờ mà bướng bỉnh\nTôi lóng ngóng, lơ ngơ\nNhút nhát rồi...câm nín\n\nNên mùa chia tay ấy\nMặc phượng hồng lung linh\nVà ve sầu trổi dậy\nTôi chỉ nhìn... lặng thinh\n\nBây giờ, ngồi tiếc nhớ\nNgày xanh - tuổi dại khờ\nƯớc chi đừng cách trở\n\"Người ấy\" về trong...mơ",
         "Nguồn: blog của tác giả",
         "https://www.thivien.net/%C4%90%E1%BB%97-Quang-Vinh/Ng%C6%B0%E1%BB%9Di-%E1%BA%A5y/poem-QhCdBKEHaOevyIqXvrZ_aw",
         "['Nên mùa chia tay ấy', 'Mặc phượng hồng lung linh', 'Và ve sầu trổi dậy', 'Tôi chỉ nhìn... lặng thinh']"
        ],
        [
         "34",
         "16",
         "“Người ấy”",
         "\"Người ấy\" xưa, gầy lắm\nMỏng mảnh khói sương buồn\nĐôi mắt nhìn đăm đắm\nGiấu một trời mưa tuôn\n\nCổng trường thời đi học\nTôi vẫn thường theo sau\nMười năm xa, mái tóc...\nCòn vương hương thuở nào\n\n\"Người ấy\" không che nón\nMỗi khi tan học về\nKhông thích ai đưa đón\nDẫu đường dài lê thê\n\nÔi một thời ngây thơ\nKhù khờ mà bướng bỉnh\nTôi lóng ngóng, lơ ngơ\nNhút nhát rồi...câm nín\n\nNên mùa chia tay ấy\nMặc phượng hồng lung linh\nVà ve sầu trổi dậy\nTôi chỉ nhìn... lặng thinh\n\nBây giờ, ngồi tiếc nhớ\nNgày xanh - tuổi dại khờ\nƯớc chi đừng cách trở\n\"Người ấy\" về trong...mơ",
         "Nguồn: blog của tác giả",
         "https://www.thivien.net/%C4%90%E1%BB%97-Quang-Vinh/Ng%C6%B0%E1%BB%9Di-%E1%BA%A5y/poem-QhCdBKEHaOevyIqXvrZ_aw",
         "['Bây giờ, ngồi tiếc nhớ', 'Ngày xanh - tuổi dại khờ', 'Ước chi đừng cách trở', '\"Người ấy\" về trong...mơ']"
        ],
        [
         "35",
         "17",
         "“Nơi chính tâm cơn bão”",
         "Nơi chính tâm cơn bão\nDễ tìm được bình tâm",
         "Nguồn: Nguyễn Vũ Tiềm, Hoài nghi và tin cậy, NXB Hội nhà văn, 2004",
         "https://www.thivien.net/Nguy%E1%BB%85n-V%C5%A9-Ti%E1%BB%81m/N%C6%A1i-ch%C3%ADnh-t%C3%A2m-c%C6%A1n-b%C3%A3o/poem-cG1qCo8hwR0_vBQWjrFlWA",
         null
        ],
        [
         "36",
         "18",
         "“Tâm kệ”",
         "Gội rửa sạch trần hồng\nnhư hoa ướp trầm xông\nnguyện mười phương pháp giới\nbi, trí khắp dung thông\n\n\nMặc áo lễ\n\nThân mặc áo giải thoát\nlìa tập nhiễm phù vân\nnguyện chúng sinh mười cõi\nlìa vọng huyễn, qui chân\n\n\nThắp nến\n\nThắp lửa vô lượng quang\nsáng soi bảy cửa ngục\nnguyện chúng sinh vô vàn\nvề chân thân: Huệ, Ðức\n\n\nÐốt trầm hương\n\nKhơi lò thanh tịnh trầm\ngió đưa mười cõi thơm\nnguyện theo vô lượng Phật\ncúng dường tri kiến hương\n\n\nDâng quả\n\nNhư trái dâng cúng Phật\nkết hạt chắc Bồ Đề\nnguyện chúng sinh sáu ngả\ntinh tấn chuyển tham mê\n\n\nDâng hoa\n\nNhư hoa thơm cúng Phật\ntam nghiệp: giới hương xông\nnguyện khắp ba thời mộng\nbừng mở tâm viên đồng\n\n\nThỉnh chuông\n\nBa hồi âm định lực\nngọn triều chuyển sóng cao\nrung động đất mê vọng\nrực chiếu mười cõi sao\ncầu chi ba tạng sách\nchuyển hóa sáu trần lao\nnguyện mười phương thế giới\nthể nhập ánh Phật hào\n\n\nCúng kinh\n\nTâm trụ pho Diệu kinh\nlắng tan ba nghiệp vọng\nnguyện khắp mười phương mộng\nchan chứa Phật quang minh\n\n\nMở kinh\n\nTay mở trang kinh thơm\nnhư bừng khai trí huệ\ncầu chư Phật mười phương\nsáng soi dòng pháp kệ\n\n\nKhai mõ\n\nNhư thắng cương, buộc ngựa\ný thoát khỏi mê đường\nnguyện mở bảy cửa ngục\ncứu nhất thiết tai ương\n\n\nKhép kinh (khi tụng xong)\n\nVừa khép pho nhật nguyệt\nlòng tỏa ánh quang minh\nnguyện nêu đuốc bất nhị\nsoi rọi khắp sinh linh\n\n\nCởi áo lễ\n\nNguyện lìa nhất thiết tướng\nnhư bỏ bè qua sông\nnguyện vào nhất thiết tướng\nhóa chuyển ngục trần hồng",
         "Nguồn: Phạm Thiên Thư, Suối nguồn vi diệu, NXB Văn nghệ, 2006",
         "https://www.thivien.net/Ph%E1%BA%A1m-Thi%C3%AAn-Th%C6%B0/T%C3%A2m-k%E1%BB%87/poem-xBMOgwlu-MTuZ0LOVRL30g",
         "['Gội rửa sạch trần hồng', 'như hoa ướp trầm xông', 'nguyện mười phương pháp giới', 'bi, trí khắp dung thông']"
        ],
        [
         "37",
         "18",
         "“Tâm kệ”",
         "Gội rửa sạch trần hồng\nnhư hoa ướp trầm xông\nnguyện mười phương pháp giới\nbi, trí khắp dung thông\n\n\nMặc áo lễ\n\nThân mặc áo giải thoát\nlìa tập nhiễm phù vân\nnguyện chúng sinh mười cõi\nlìa vọng huyễn, qui chân\n\n\nThắp nến\n\nThắp lửa vô lượng quang\nsáng soi bảy cửa ngục\nnguyện chúng sinh vô vàn\nvề chân thân: Huệ, Ðức\n\n\nÐốt trầm hương\n\nKhơi lò thanh tịnh trầm\ngió đưa mười cõi thơm\nnguyện theo vô lượng Phật\ncúng dường tri kiến hương\n\n\nDâng quả\n\nNhư trái dâng cúng Phật\nkết hạt chắc Bồ Đề\nnguyện chúng sinh sáu ngả\ntinh tấn chuyển tham mê\n\n\nDâng hoa\n\nNhư hoa thơm cúng Phật\ntam nghiệp: giới hương xông\nnguyện khắp ba thời mộng\nbừng mở tâm viên đồng\n\n\nThỉnh chuông\n\nBa hồi âm định lực\nngọn triều chuyển sóng cao\nrung động đất mê vọng\nrực chiếu mười cõi sao\ncầu chi ba tạng sách\nchuyển hóa sáu trần lao\nnguyện mười phương thế giới\nthể nhập ánh Phật hào\n\n\nCúng kinh\n\nTâm trụ pho Diệu kinh\nlắng tan ba nghiệp vọng\nnguyện khắp mười phương mộng\nchan chứa Phật quang minh\n\n\nMở kinh\n\nTay mở trang kinh thơm\nnhư bừng khai trí huệ\ncầu chư Phật mười phương\nsáng soi dòng pháp kệ\n\n\nKhai mõ\n\nNhư thắng cương, buộc ngựa\ný thoát khỏi mê đường\nnguyện mở bảy cửa ngục\ncứu nhất thiết tai ương\n\n\nKhép kinh (khi tụng xong)\n\nVừa khép pho nhật nguyệt\nlòng tỏa ánh quang minh\nnguyện nêu đuốc bất nhị\nsoi rọi khắp sinh linh\n\n\nCởi áo lễ\n\nNguyện lìa nhất thiết tướng\nnhư bỏ bè qua sông\nnguyện vào nhất thiết tướng\nhóa chuyển ngục trần hồng",
         "Nguồn: Phạm Thiên Thư, Suối nguồn vi diệu, NXB Văn nghệ, 2006",
         "https://www.thivien.net/Ph%E1%BA%A1m-Thi%C3%AAn-Th%C6%B0/T%C3%A2m-k%E1%BB%87/poem-xBMOgwlu-MTuZ0LOVRL30g",
         "['Thân mặc áo giải thoát', 'lìa tập nhiễm phù vân', 'nguyện chúng sinh mười cõi', 'lìa vọng huyễn, qui chân']"
        ],
        [
         "38",
         "18",
         "“Tâm kệ”",
         "Gội rửa sạch trần hồng\nnhư hoa ướp trầm xông\nnguyện mười phương pháp giới\nbi, trí khắp dung thông\n\n\nMặc áo lễ\n\nThân mặc áo giải thoát\nlìa tập nhiễm phù vân\nnguyện chúng sinh mười cõi\nlìa vọng huyễn, qui chân\n\n\nThắp nến\n\nThắp lửa vô lượng quang\nsáng soi bảy cửa ngục\nnguyện chúng sinh vô vàn\nvề chân thân: Huệ, Ðức\n\n\nÐốt trầm hương\n\nKhơi lò thanh tịnh trầm\ngió đưa mười cõi thơm\nnguyện theo vô lượng Phật\ncúng dường tri kiến hương\n\n\nDâng quả\n\nNhư trái dâng cúng Phật\nkết hạt chắc Bồ Đề\nnguyện chúng sinh sáu ngả\ntinh tấn chuyển tham mê\n\n\nDâng hoa\n\nNhư hoa thơm cúng Phật\ntam nghiệp: giới hương xông\nnguyện khắp ba thời mộng\nbừng mở tâm viên đồng\n\n\nThỉnh chuông\n\nBa hồi âm định lực\nngọn triều chuyển sóng cao\nrung động đất mê vọng\nrực chiếu mười cõi sao\ncầu chi ba tạng sách\nchuyển hóa sáu trần lao\nnguyện mười phương thế giới\nthể nhập ánh Phật hào\n\n\nCúng kinh\n\nTâm trụ pho Diệu kinh\nlắng tan ba nghiệp vọng\nnguyện khắp mười phương mộng\nchan chứa Phật quang minh\n\n\nMở kinh\n\nTay mở trang kinh thơm\nnhư bừng khai trí huệ\ncầu chư Phật mười phương\nsáng soi dòng pháp kệ\n\n\nKhai mõ\n\nNhư thắng cương, buộc ngựa\ný thoát khỏi mê đường\nnguyện mở bảy cửa ngục\ncứu nhất thiết tai ương\n\n\nKhép kinh (khi tụng xong)\n\nVừa khép pho nhật nguyệt\nlòng tỏa ánh quang minh\nnguyện nêu đuốc bất nhị\nsoi rọi khắp sinh linh\n\n\nCởi áo lễ\n\nNguyện lìa nhất thiết tướng\nnhư bỏ bè qua sông\nnguyện vào nhất thiết tướng\nhóa chuyển ngục trần hồng",
         "Nguồn: Phạm Thiên Thư, Suối nguồn vi diệu, NXB Văn nghệ, 2006",
         "https://www.thivien.net/Ph%E1%BA%A1m-Thi%C3%AAn-Th%C6%B0/T%C3%A2m-k%E1%BB%87/poem-xBMOgwlu-MTuZ0LOVRL30g",
         "['Thắp lửa vô lượng quang', 'sáng soi bảy cửa ngục', 'nguyện chúng sinh vô vàn', 'về chân thân: Huệ, Ðức']"
        ],
        [
         "39",
         "18",
         "“Tâm kệ”",
         "Gội rửa sạch trần hồng\nnhư hoa ướp trầm xông\nnguyện mười phương pháp giới\nbi, trí khắp dung thông\n\n\nMặc áo lễ\n\nThân mặc áo giải thoát\nlìa tập nhiễm phù vân\nnguyện chúng sinh mười cõi\nlìa vọng huyễn, qui chân\n\n\nThắp nến\n\nThắp lửa vô lượng quang\nsáng soi bảy cửa ngục\nnguyện chúng sinh vô vàn\nvề chân thân: Huệ, Ðức\n\n\nÐốt trầm hương\n\nKhơi lò thanh tịnh trầm\ngió đưa mười cõi thơm\nnguyện theo vô lượng Phật\ncúng dường tri kiến hương\n\n\nDâng quả\n\nNhư trái dâng cúng Phật\nkết hạt chắc Bồ Đề\nnguyện chúng sinh sáu ngả\ntinh tấn chuyển tham mê\n\n\nDâng hoa\n\nNhư hoa thơm cúng Phật\ntam nghiệp: giới hương xông\nnguyện khắp ba thời mộng\nbừng mở tâm viên đồng\n\n\nThỉnh chuông\n\nBa hồi âm định lực\nngọn triều chuyển sóng cao\nrung động đất mê vọng\nrực chiếu mười cõi sao\ncầu chi ba tạng sách\nchuyển hóa sáu trần lao\nnguyện mười phương thế giới\nthể nhập ánh Phật hào\n\n\nCúng kinh\n\nTâm trụ pho Diệu kinh\nlắng tan ba nghiệp vọng\nnguyện khắp mười phương mộng\nchan chứa Phật quang minh\n\n\nMở kinh\n\nTay mở trang kinh thơm\nnhư bừng khai trí huệ\ncầu chư Phật mười phương\nsáng soi dòng pháp kệ\n\n\nKhai mõ\n\nNhư thắng cương, buộc ngựa\ný thoát khỏi mê đường\nnguyện mở bảy cửa ngục\ncứu nhất thiết tai ương\n\n\nKhép kinh (khi tụng xong)\n\nVừa khép pho nhật nguyệt\nlòng tỏa ánh quang minh\nnguyện nêu đuốc bất nhị\nsoi rọi khắp sinh linh\n\n\nCởi áo lễ\n\nNguyện lìa nhất thiết tướng\nnhư bỏ bè qua sông\nnguyện vào nhất thiết tướng\nhóa chuyển ngục trần hồng",
         "Nguồn: Phạm Thiên Thư, Suối nguồn vi diệu, NXB Văn nghệ, 2006",
         "https://www.thivien.net/Ph%E1%BA%A1m-Thi%C3%AAn-Th%C6%B0/T%C3%A2m-k%E1%BB%87/poem-xBMOgwlu-MTuZ0LOVRL30g",
         "['Khơi lò thanh tịnh trầm', 'gió đưa mười cõi thơm', 'nguyện theo vô lượng Phật', 'cúng dường tri kiến hương']"
        ],
        [
         "40",
         "18",
         "“Tâm kệ”",
         "Gội rửa sạch trần hồng\nnhư hoa ướp trầm xông\nnguyện mười phương pháp giới\nbi, trí khắp dung thông\n\n\nMặc áo lễ\n\nThân mặc áo giải thoát\nlìa tập nhiễm phù vân\nnguyện chúng sinh mười cõi\nlìa vọng huyễn, qui chân\n\n\nThắp nến\n\nThắp lửa vô lượng quang\nsáng soi bảy cửa ngục\nnguyện chúng sinh vô vàn\nvề chân thân: Huệ, Ðức\n\n\nÐốt trầm hương\n\nKhơi lò thanh tịnh trầm\ngió đưa mười cõi thơm\nnguyện theo vô lượng Phật\ncúng dường tri kiến hương\n\n\nDâng quả\n\nNhư trái dâng cúng Phật\nkết hạt chắc Bồ Đề\nnguyện chúng sinh sáu ngả\ntinh tấn chuyển tham mê\n\n\nDâng hoa\n\nNhư hoa thơm cúng Phật\ntam nghiệp: giới hương xông\nnguyện khắp ba thời mộng\nbừng mở tâm viên đồng\n\n\nThỉnh chuông\n\nBa hồi âm định lực\nngọn triều chuyển sóng cao\nrung động đất mê vọng\nrực chiếu mười cõi sao\ncầu chi ba tạng sách\nchuyển hóa sáu trần lao\nnguyện mười phương thế giới\nthể nhập ánh Phật hào\n\n\nCúng kinh\n\nTâm trụ pho Diệu kinh\nlắng tan ba nghiệp vọng\nnguyện khắp mười phương mộng\nchan chứa Phật quang minh\n\n\nMở kinh\n\nTay mở trang kinh thơm\nnhư bừng khai trí huệ\ncầu chư Phật mười phương\nsáng soi dòng pháp kệ\n\n\nKhai mõ\n\nNhư thắng cương, buộc ngựa\ný thoát khỏi mê đường\nnguyện mở bảy cửa ngục\ncứu nhất thiết tai ương\n\n\nKhép kinh (khi tụng xong)\n\nVừa khép pho nhật nguyệt\nlòng tỏa ánh quang minh\nnguyện nêu đuốc bất nhị\nsoi rọi khắp sinh linh\n\n\nCởi áo lễ\n\nNguyện lìa nhất thiết tướng\nnhư bỏ bè qua sông\nnguyện vào nhất thiết tướng\nhóa chuyển ngục trần hồng",
         "Nguồn: Phạm Thiên Thư, Suối nguồn vi diệu, NXB Văn nghệ, 2006",
         "https://www.thivien.net/Ph%E1%BA%A1m-Thi%C3%AAn-Th%C6%B0/T%C3%A2m-k%E1%BB%87/poem-xBMOgwlu-MTuZ0LOVRL30g",
         "['Như trái dâng cúng Phật', 'kết hạt chắc Bồ Đề', 'nguyện chúng sinh sáu ngả', 'tinh tấn chuyển tham mê']"
        ],
        [
         "41",
         "18",
         "“Tâm kệ”",
         "Gội rửa sạch trần hồng\nnhư hoa ướp trầm xông\nnguyện mười phương pháp giới\nbi, trí khắp dung thông\n\n\nMặc áo lễ\n\nThân mặc áo giải thoát\nlìa tập nhiễm phù vân\nnguyện chúng sinh mười cõi\nlìa vọng huyễn, qui chân\n\n\nThắp nến\n\nThắp lửa vô lượng quang\nsáng soi bảy cửa ngục\nnguyện chúng sinh vô vàn\nvề chân thân: Huệ, Ðức\n\n\nÐốt trầm hương\n\nKhơi lò thanh tịnh trầm\ngió đưa mười cõi thơm\nnguyện theo vô lượng Phật\ncúng dường tri kiến hương\n\n\nDâng quả\n\nNhư trái dâng cúng Phật\nkết hạt chắc Bồ Đề\nnguyện chúng sinh sáu ngả\ntinh tấn chuyển tham mê\n\n\nDâng hoa\n\nNhư hoa thơm cúng Phật\ntam nghiệp: giới hương xông\nnguyện khắp ba thời mộng\nbừng mở tâm viên đồng\n\n\nThỉnh chuông\n\nBa hồi âm định lực\nngọn triều chuyển sóng cao\nrung động đất mê vọng\nrực chiếu mười cõi sao\ncầu chi ba tạng sách\nchuyển hóa sáu trần lao\nnguyện mười phương thế giới\nthể nhập ánh Phật hào\n\n\nCúng kinh\n\nTâm trụ pho Diệu kinh\nlắng tan ba nghiệp vọng\nnguyện khắp mười phương mộng\nchan chứa Phật quang minh\n\n\nMở kinh\n\nTay mở trang kinh thơm\nnhư bừng khai trí huệ\ncầu chư Phật mười phương\nsáng soi dòng pháp kệ\n\n\nKhai mõ\n\nNhư thắng cương, buộc ngựa\ný thoát khỏi mê đường\nnguyện mở bảy cửa ngục\ncứu nhất thiết tai ương\n\n\nKhép kinh (khi tụng xong)\n\nVừa khép pho nhật nguyệt\nlòng tỏa ánh quang minh\nnguyện nêu đuốc bất nhị\nsoi rọi khắp sinh linh\n\n\nCởi áo lễ\n\nNguyện lìa nhất thiết tướng\nnhư bỏ bè qua sông\nnguyện vào nhất thiết tướng\nhóa chuyển ngục trần hồng",
         "Nguồn: Phạm Thiên Thư, Suối nguồn vi diệu, NXB Văn nghệ, 2006",
         "https://www.thivien.net/Ph%E1%BA%A1m-Thi%C3%AAn-Th%C6%B0/T%C3%A2m-k%E1%BB%87/poem-xBMOgwlu-MTuZ0LOVRL30g",
         "['Như hoa thơm cúng Phật', 'tam nghiệp: giới hương xông', 'nguyện khắp ba thời mộng', 'bừng mở tâm viên đồng']"
        ],
        [
         "42",
         "18",
         "“Tâm kệ”",
         "Gội rửa sạch trần hồng\nnhư hoa ướp trầm xông\nnguyện mười phương pháp giới\nbi, trí khắp dung thông\n\n\nMặc áo lễ\n\nThân mặc áo giải thoát\nlìa tập nhiễm phù vân\nnguyện chúng sinh mười cõi\nlìa vọng huyễn, qui chân\n\n\nThắp nến\n\nThắp lửa vô lượng quang\nsáng soi bảy cửa ngục\nnguyện chúng sinh vô vàn\nvề chân thân: Huệ, Ðức\n\n\nÐốt trầm hương\n\nKhơi lò thanh tịnh trầm\ngió đưa mười cõi thơm\nnguyện theo vô lượng Phật\ncúng dường tri kiến hương\n\n\nDâng quả\n\nNhư trái dâng cúng Phật\nkết hạt chắc Bồ Đề\nnguyện chúng sinh sáu ngả\ntinh tấn chuyển tham mê\n\n\nDâng hoa\n\nNhư hoa thơm cúng Phật\ntam nghiệp: giới hương xông\nnguyện khắp ba thời mộng\nbừng mở tâm viên đồng\n\n\nThỉnh chuông\n\nBa hồi âm định lực\nngọn triều chuyển sóng cao\nrung động đất mê vọng\nrực chiếu mười cõi sao\ncầu chi ba tạng sách\nchuyển hóa sáu trần lao\nnguyện mười phương thế giới\nthể nhập ánh Phật hào\n\n\nCúng kinh\n\nTâm trụ pho Diệu kinh\nlắng tan ba nghiệp vọng\nnguyện khắp mười phương mộng\nchan chứa Phật quang minh\n\n\nMở kinh\n\nTay mở trang kinh thơm\nnhư bừng khai trí huệ\ncầu chư Phật mười phương\nsáng soi dòng pháp kệ\n\n\nKhai mõ\n\nNhư thắng cương, buộc ngựa\ný thoát khỏi mê đường\nnguyện mở bảy cửa ngục\ncứu nhất thiết tai ương\n\n\nKhép kinh (khi tụng xong)\n\nVừa khép pho nhật nguyệt\nlòng tỏa ánh quang minh\nnguyện nêu đuốc bất nhị\nsoi rọi khắp sinh linh\n\n\nCởi áo lễ\n\nNguyện lìa nhất thiết tướng\nnhư bỏ bè qua sông\nnguyện vào nhất thiết tướng\nhóa chuyển ngục trần hồng",
         "Nguồn: Phạm Thiên Thư, Suối nguồn vi diệu, NXB Văn nghệ, 2006",
         "https://www.thivien.net/Ph%E1%BA%A1m-Thi%C3%AAn-Th%C6%B0/T%C3%A2m-k%E1%BB%87/poem-xBMOgwlu-MTuZ0LOVRL30g",
         "['Tâm trụ pho Diệu kinh', 'lắng tan ba nghiệp vọng', 'nguyện khắp mười phương mộng', 'chan chứa Phật quang minh']"
        ],
        [
         "43",
         "18",
         "“Tâm kệ”",
         "Gội rửa sạch trần hồng\nnhư hoa ướp trầm xông\nnguyện mười phương pháp giới\nbi, trí khắp dung thông\n\n\nMặc áo lễ\n\nThân mặc áo giải thoát\nlìa tập nhiễm phù vân\nnguyện chúng sinh mười cõi\nlìa vọng huyễn, qui chân\n\n\nThắp nến\n\nThắp lửa vô lượng quang\nsáng soi bảy cửa ngục\nnguyện chúng sinh vô vàn\nvề chân thân: Huệ, Ðức\n\n\nÐốt trầm hương\n\nKhơi lò thanh tịnh trầm\ngió đưa mười cõi thơm\nnguyện theo vô lượng Phật\ncúng dường tri kiến hương\n\n\nDâng quả\n\nNhư trái dâng cúng Phật\nkết hạt chắc Bồ Đề\nnguyện chúng sinh sáu ngả\ntinh tấn chuyển tham mê\n\n\nDâng hoa\n\nNhư hoa thơm cúng Phật\ntam nghiệp: giới hương xông\nnguyện khắp ba thời mộng\nbừng mở tâm viên đồng\n\n\nThỉnh chuông\n\nBa hồi âm định lực\nngọn triều chuyển sóng cao\nrung động đất mê vọng\nrực chiếu mười cõi sao\ncầu chi ba tạng sách\nchuyển hóa sáu trần lao\nnguyện mười phương thế giới\nthể nhập ánh Phật hào\n\n\nCúng kinh\n\nTâm trụ pho Diệu kinh\nlắng tan ba nghiệp vọng\nnguyện khắp mười phương mộng\nchan chứa Phật quang minh\n\n\nMở kinh\n\nTay mở trang kinh thơm\nnhư bừng khai trí huệ\ncầu chư Phật mười phương\nsáng soi dòng pháp kệ\n\n\nKhai mõ\n\nNhư thắng cương, buộc ngựa\ný thoát khỏi mê đường\nnguyện mở bảy cửa ngục\ncứu nhất thiết tai ương\n\n\nKhép kinh (khi tụng xong)\n\nVừa khép pho nhật nguyệt\nlòng tỏa ánh quang minh\nnguyện nêu đuốc bất nhị\nsoi rọi khắp sinh linh\n\n\nCởi áo lễ\n\nNguyện lìa nhất thiết tướng\nnhư bỏ bè qua sông\nnguyện vào nhất thiết tướng\nhóa chuyển ngục trần hồng",
         "Nguồn: Phạm Thiên Thư, Suối nguồn vi diệu, NXB Văn nghệ, 2006",
         "https://www.thivien.net/Ph%E1%BA%A1m-Thi%C3%AAn-Th%C6%B0/T%C3%A2m-k%E1%BB%87/poem-xBMOgwlu-MTuZ0LOVRL30g",
         "['Tay mở trang kinh thơm', 'như bừng khai trí huệ', 'cầu chư Phật mười phương', 'sáng soi dòng pháp kệ']"
        ],
        [
         "44",
         "18",
         "“Tâm kệ”",
         "Gội rửa sạch trần hồng\nnhư hoa ướp trầm xông\nnguyện mười phương pháp giới\nbi, trí khắp dung thông\n\n\nMặc áo lễ\n\nThân mặc áo giải thoát\nlìa tập nhiễm phù vân\nnguyện chúng sinh mười cõi\nlìa vọng huyễn, qui chân\n\n\nThắp nến\n\nThắp lửa vô lượng quang\nsáng soi bảy cửa ngục\nnguyện chúng sinh vô vàn\nvề chân thân: Huệ, Ðức\n\n\nÐốt trầm hương\n\nKhơi lò thanh tịnh trầm\ngió đưa mười cõi thơm\nnguyện theo vô lượng Phật\ncúng dường tri kiến hương\n\n\nDâng quả\n\nNhư trái dâng cúng Phật\nkết hạt chắc Bồ Đề\nnguyện chúng sinh sáu ngả\ntinh tấn chuyển tham mê\n\n\nDâng hoa\n\nNhư hoa thơm cúng Phật\ntam nghiệp: giới hương xông\nnguyện khắp ba thời mộng\nbừng mở tâm viên đồng\n\n\nThỉnh chuông\n\nBa hồi âm định lực\nngọn triều chuyển sóng cao\nrung động đất mê vọng\nrực chiếu mười cõi sao\ncầu chi ba tạng sách\nchuyển hóa sáu trần lao\nnguyện mười phương thế giới\nthể nhập ánh Phật hào\n\n\nCúng kinh\n\nTâm trụ pho Diệu kinh\nlắng tan ba nghiệp vọng\nnguyện khắp mười phương mộng\nchan chứa Phật quang minh\n\n\nMở kinh\n\nTay mở trang kinh thơm\nnhư bừng khai trí huệ\ncầu chư Phật mười phương\nsáng soi dòng pháp kệ\n\n\nKhai mõ\n\nNhư thắng cương, buộc ngựa\ný thoát khỏi mê đường\nnguyện mở bảy cửa ngục\ncứu nhất thiết tai ương\n\n\nKhép kinh (khi tụng xong)\n\nVừa khép pho nhật nguyệt\nlòng tỏa ánh quang minh\nnguyện nêu đuốc bất nhị\nsoi rọi khắp sinh linh\n\n\nCởi áo lễ\n\nNguyện lìa nhất thiết tướng\nnhư bỏ bè qua sông\nnguyện vào nhất thiết tướng\nhóa chuyển ngục trần hồng",
         "Nguồn: Phạm Thiên Thư, Suối nguồn vi diệu, NXB Văn nghệ, 2006",
         "https://www.thivien.net/Ph%E1%BA%A1m-Thi%C3%AAn-Th%C6%B0/T%C3%A2m-k%E1%BB%87/poem-xBMOgwlu-MTuZ0LOVRL30g",
         "['Như thắng cương, buộc ngựa', 'ý thoát khỏi mê đường', 'nguyện mở bảy cửa ngục', 'cứu nhất thiết tai ương']"
        ],
        [
         "45",
         "18",
         "“Tâm kệ”",
         "Gội rửa sạch trần hồng\nnhư hoa ướp trầm xông\nnguyện mười phương pháp giới\nbi, trí khắp dung thông\n\n\nMặc áo lễ\n\nThân mặc áo giải thoát\nlìa tập nhiễm phù vân\nnguyện chúng sinh mười cõi\nlìa vọng huyễn, qui chân\n\n\nThắp nến\n\nThắp lửa vô lượng quang\nsáng soi bảy cửa ngục\nnguyện chúng sinh vô vàn\nvề chân thân: Huệ, Ðức\n\n\nÐốt trầm hương\n\nKhơi lò thanh tịnh trầm\ngió đưa mười cõi thơm\nnguyện theo vô lượng Phật\ncúng dường tri kiến hương\n\n\nDâng quả\n\nNhư trái dâng cúng Phật\nkết hạt chắc Bồ Đề\nnguyện chúng sinh sáu ngả\ntinh tấn chuyển tham mê\n\n\nDâng hoa\n\nNhư hoa thơm cúng Phật\ntam nghiệp: giới hương xông\nnguyện khắp ba thời mộng\nbừng mở tâm viên đồng\n\n\nThỉnh chuông\n\nBa hồi âm định lực\nngọn triều chuyển sóng cao\nrung động đất mê vọng\nrực chiếu mười cõi sao\ncầu chi ba tạng sách\nchuyển hóa sáu trần lao\nnguyện mười phương thế giới\nthể nhập ánh Phật hào\n\n\nCúng kinh\n\nTâm trụ pho Diệu kinh\nlắng tan ba nghiệp vọng\nnguyện khắp mười phương mộng\nchan chứa Phật quang minh\n\n\nMở kinh\n\nTay mở trang kinh thơm\nnhư bừng khai trí huệ\ncầu chư Phật mười phương\nsáng soi dòng pháp kệ\n\n\nKhai mõ\n\nNhư thắng cương, buộc ngựa\ný thoát khỏi mê đường\nnguyện mở bảy cửa ngục\ncứu nhất thiết tai ương\n\n\nKhép kinh (khi tụng xong)\n\nVừa khép pho nhật nguyệt\nlòng tỏa ánh quang minh\nnguyện nêu đuốc bất nhị\nsoi rọi khắp sinh linh\n\n\nCởi áo lễ\n\nNguyện lìa nhất thiết tướng\nnhư bỏ bè qua sông\nnguyện vào nhất thiết tướng\nhóa chuyển ngục trần hồng",
         "Nguồn: Phạm Thiên Thư, Suối nguồn vi diệu, NXB Văn nghệ, 2006",
         "https://www.thivien.net/Ph%E1%BA%A1m-Thi%C3%AAn-Th%C6%B0/T%C3%A2m-k%E1%BB%87/poem-xBMOgwlu-MTuZ0LOVRL30g",
         "['Vừa khép pho nhật nguyệt', 'lòng tỏa ánh quang minh', 'nguyện nêu đuốc bất nhị', 'soi rọi khắp sinh linh']"
        ],
        [
         "46",
         "18",
         "“Tâm kệ”",
         "Gội rửa sạch trần hồng\nnhư hoa ướp trầm xông\nnguyện mười phương pháp giới\nbi, trí khắp dung thông\n\n\nMặc áo lễ\n\nThân mặc áo giải thoát\nlìa tập nhiễm phù vân\nnguyện chúng sinh mười cõi\nlìa vọng huyễn, qui chân\n\n\nThắp nến\n\nThắp lửa vô lượng quang\nsáng soi bảy cửa ngục\nnguyện chúng sinh vô vàn\nvề chân thân: Huệ, Ðức\n\n\nÐốt trầm hương\n\nKhơi lò thanh tịnh trầm\ngió đưa mười cõi thơm\nnguyện theo vô lượng Phật\ncúng dường tri kiến hương\n\n\nDâng quả\n\nNhư trái dâng cúng Phật\nkết hạt chắc Bồ Đề\nnguyện chúng sinh sáu ngả\ntinh tấn chuyển tham mê\n\n\nDâng hoa\n\nNhư hoa thơm cúng Phật\ntam nghiệp: giới hương xông\nnguyện khắp ba thời mộng\nbừng mở tâm viên đồng\n\n\nThỉnh chuông\n\nBa hồi âm định lực\nngọn triều chuyển sóng cao\nrung động đất mê vọng\nrực chiếu mười cõi sao\ncầu chi ba tạng sách\nchuyển hóa sáu trần lao\nnguyện mười phương thế giới\nthể nhập ánh Phật hào\n\n\nCúng kinh\n\nTâm trụ pho Diệu kinh\nlắng tan ba nghiệp vọng\nnguyện khắp mười phương mộng\nchan chứa Phật quang minh\n\n\nMở kinh\n\nTay mở trang kinh thơm\nnhư bừng khai trí huệ\ncầu chư Phật mười phương\nsáng soi dòng pháp kệ\n\n\nKhai mõ\n\nNhư thắng cương, buộc ngựa\ný thoát khỏi mê đường\nnguyện mở bảy cửa ngục\ncứu nhất thiết tai ương\n\n\nKhép kinh (khi tụng xong)\n\nVừa khép pho nhật nguyệt\nlòng tỏa ánh quang minh\nnguyện nêu đuốc bất nhị\nsoi rọi khắp sinh linh\n\n\nCởi áo lễ\n\nNguyện lìa nhất thiết tướng\nnhư bỏ bè qua sông\nnguyện vào nhất thiết tướng\nhóa chuyển ngục trần hồng",
         "Nguồn: Phạm Thiên Thư, Suối nguồn vi diệu, NXB Văn nghệ, 2006",
         "https://www.thivien.net/Ph%E1%BA%A1m-Thi%C3%AAn-Th%C6%B0/T%C3%A2m-k%E1%BB%87/poem-xBMOgwlu-MTuZ0LOVRL30g",
         "['Nguyện lìa nhất thiết tướng', 'như bỏ bè qua sông', 'nguyện vào nhất thiết tướng', 'hóa chuyển ngục trần hồng']"
        ],
        [
         "47",
         "19",
         "“Thời gian như tiền bạc”",
         "Thời gian như tiền bạc\nAnh sống qua một ngày\nThì có nghĩa ngày ấy\nKhông còn nữa từ nay\n\nThời gian như tiền bạc\nNhớ tiết kiệm từng đồng\nTiền bạc kiếm lại được\nCòn thời gian thì không",
         "Nguồn: Châm ngôn mới (thơ), Thái Bá Tân, NXB Lao động, 2013",
         "https://www.thivien.net/Th%C3%A1i-B%C3%A1-T%C3%A2n/Th%E1%BB%9Di-gian-nh%C6%B0-ti%E1%BB%81n-b%E1%BA%A1c/poem-5Tb-B8IDQD0gVEmW87hRUw",
         "['Thời gian như tiền bạc', 'Anh sống qua một ngày', 'Thì có nghĩa ngày ấy', 'Không còn nữa từ nay']"
        ],
        [
         "48",
         "19",
         "“Thời gian như tiền bạc”",
         "Thời gian như tiền bạc\nAnh sống qua một ngày\nThì có nghĩa ngày ấy\nKhông còn nữa từ nay\n\nThời gian như tiền bạc\nNhớ tiết kiệm từng đồng\nTiền bạc kiếm lại được\nCòn thời gian thì không",
         "Nguồn: Châm ngôn mới (thơ), Thái Bá Tân, NXB Lao động, 2013",
         "https://www.thivien.net/Th%C3%A1i-B%C3%A1-T%C3%A2n/Th%E1%BB%9Di-gian-nh%C6%B0-ti%E1%BB%81n-b%E1%BA%A1c/poem-5Tb-B8IDQD0gVEmW87hRUw",
         "['Thời gian như tiền bạc', 'Nhớ tiết kiệm từng đồng', 'Tiền bạc kiếm lại được', 'Còn thời gian thì không']"
        ],
        [
         "49",
         "20",
         "“Tuổi tên...”",
         "Tuổi tên phơi phía trước\nhoạ phúc ẩn sau trang",
         "Nguồn: Người thám hiểm thời gian (thơ), Nguyễn Vũ Tiềm, NXB Văn hoá, 1993",
         "https://www.thivien.net/Nguy%E1%BB%85n-V%C5%A9-Ti%E1%BB%81m/Tu%E1%BB%95i-t%C3%AAn/poem-KRSvu2Y_jYRsmumGecAVNw",
         null
        ]
       ],
       "shape": {
        "columns": 6,
        "rows": 486
       }
      },
      "text/html": [
       "<div>\n",
       "<style scoped>\n",
       "    .dataframe tbody tr th:only-of-type {\n",
       "        vertical-align: middle;\n",
       "    }\n",
       "\n",
       "    .dataframe tbody tr th {\n",
       "        vertical-align: top;\n",
       "    }\n",
       "\n",
       "    .dataframe thead th {\n",
       "        text-align: right;\n",
       "    }\n",
       "</style>\n",
       "<table border=\"1\" class=\"dataframe\">\n",
       "  <thead>\n",
       "    <tr style=\"text-align: right;\">\n",
       "      <th></th>\n",
       "      <th>Unnamed: 0</th>\n",
       "      <th>title</th>\n",
       "      <th>content</th>\n",
       "      <th>source</th>\n",
       "      <th>url</th>\n",
       "      <th>part_content</th>\n",
       "    </tr>\n",
       "  </thead>\n",
       "  <tbody>\n",
       "    <tr>\n",
       "      <th>0</th>\n",
       "      <td>0</td>\n",
       "      <td>“Cái làm ta hạnh phúc”</td>\n",
       "      <td>Cái làm ta hạnh phúc\\nThực ra cũng chẳng nhiều...</td>\n",
       "      <td>Nguồn: Châm ngôn mới (thơ), Thái Bá Tân, NXB L...</td>\n",
       "      <td>https://www.thivien.net/Th%C3%A1i-B%C3%A1-T%C3...</td>\n",
       "      <td>[Cái làm ta hạnh phúc, Thực ra cũng chẳng nhiề...</td>\n",
       "    </tr>\n",
       "    <tr>\n",
       "      <th>1</th>\n",
       "      <td>0</td>\n",
       "      <td>“Cái làm ta hạnh phúc”</td>\n",
       "      <td>Cái làm ta hạnh phúc\\nThực ra cũng chẳng nhiều...</td>\n",
       "      <td>Nguồn: Châm ngôn mới (thơ), Thái Bá Tân, NXB L...</td>\n",
       "      <td>https://www.thivien.net/Th%C3%A1i-B%C3%A1-T%C3...</td>\n",
       "      <td>[Rồi thêm chút công việc, Cho ta làm hàng ngày...</td>\n",
       "    </tr>\n",
       "    <tr>\n",
       "      <th>2</th>\n",
       "      <td>1</td>\n",
       "      <td>“Chiều vừa xốp trên tay”</td>\n",
       "      <td>Chiều vừa xốp trên tay\\nChợt nghe thoáng ong b...</td>\n",
       "      <td>Nguồn: Lâm Huy Nhuận, Chiều có thật (thơ), NXB...</td>\n",
       "      <td>https://www.thivien.net/L%C3%A2m-Huy-Nhu%E1%BA...</td>\n",
       "      <td>[Chiều vừa xốp trên tay, Chợt nghe thoáng ong ...</td>\n",
       "    </tr>\n",
       "    <tr>\n",
       "      <th>3</th>\n",
       "      <td>1</td>\n",
       "      <td>“Chiều vừa xốp trên tay”</td>\n",
       "      <td>Chiều vừa xốp trên tay\\nChợt nghe thoáng ong b...</td>\n",
       "      <td>Nguồn: Lâm Huy Nhuận, Chiều có thật (thơ), NXB...</td>\n",
       "      <td>https://www.thivien.net/L%C3%A2m-Huy-Nhu%E1%BA...</td>\n",
       "      <td>[Ớt đỏ sao cứ đỏ, Táo chín cho thật vàng, Em đ...</td>\n",
       "    </tr>\n",
       "    <tr>\n",
       "      <th>4</th>\n",
       "      <td>2</td>\n",
       "      <td>“Dưới giàn hoa thiên lý...”</td>\n",
       "      <td>Dưới giàn hoa thiên lý\\nMột mình anh đang ngồi...</td>\n",
       "      <td>Nguồn: Nguyễn Nhật Ánh, Mắt biếc, NXB Trẻ, 2004</td>\n",
       "      <td>https://www.thivien.net/Nguy%E1%BB%85n-Nh%E1%B...</td>\n",
       "      <td>[Dưới giàn hoa thiên lý, Một mình anh đang ngồ...</td>\n",
       "    </tr>\n",
       "    <tr>\n",
       "      <th>...</th>\n",
       "      <td>...</td>\n",
       "      <td>...</td>\n",
       "      <td>...</td>\n",
       "      <td>...</td>\n",
       "      <td>...</td>\n",
       "      <td>...</td>\n",
       "    </tr>\n",
       "    <tr>\n",
       "      <th>481</th>\n",
       "      <td>98</td>\n",
       "      <td>Anh biết</td>\n",
       "      <td>Không có anh để già\\nLàm sao em được trẻ\\nMuốn...</td>\n",
       "      <td>NaN</td>\n",
       "      <td>https://www.thivien.net/Nguy%E1%BB%85n-Minh-D%...</td>\n",
       "      <td>[Đất hiến dâng tuổi trẻ, Trời buông thả tuổi g...</td>\n",
       "    </tr>\n",
       "    <tr>\n",
       "      <th>482</th>\n",
       "      <td>99</td>\n",
       "      <td>Anh bốn mùa lập đông</td>\n",
       "      <td>Buồn, thì buồn thiệt đó\\nEm à, có biết không\\n...</td>\n",
       "      <td>NaN</td>\n",
       "      <td>https://www.thivien.net/Nguy%E1%BB%85n-Minh-D%...</td>\n",
       "      <td>[Buồn, thì buồn thiệt đó, Em à, có biết không,...</td>\n",
       "    </tr>\n",
       "    <tr>\n",
       "      <th>483</th>\n",
       "      <td>99</td>\n",
       "      <td>Anh bốn mùa lập đông</td>\n",
       "      <td>Buồn, thì buồn thiệt đó\\nEm à, có biết không\\n...</td>\n",
       "      <td>NaN</td>\n",
       "      <td>https://www.thivien.net/Nguy%E1%BB%85n-Minh-D%...</td>\n",
       "      <td>[Vâng, phiến buồn còn đó, Em nào biết phải khô...</td>\n",
       "    </tr>\n",
       "    <tr>\n",
       "      <th>484</th>\n",
       "      <td>99</td>\n",
       "      <td>Anh bốn mùa lập đông</td>\n",
       "      <td>Buồn, thì buồn thiệt đó\\nEm à, có biết không\\n...</td>\n",
       "      <td>NaN</td>\n",
       "      <td>https://www.thivien.net/Nguy%E1%BB%85n-Minh-D%...</td>\n",
       "      <td>[Ừ, nỗi buồn vậy đó, Em đừng vội bâng khuâng, ...</td>\n",
       "    </tr>\n",
       "    <tr>\n",
       "      <th>485</th>\n",
       "      <td>99</td>\n",
       "      <td>Anh bốn mùa lập đông</td>\n",
       "      <td>Buồn, thì buồn thiệt đó\\nEm à, có biết không\\n...</td>\n",
       "      <td>NaN</td>\n",
       "      <td>https://www.thivien.net/Nguy%E1%BB%85n-Minh-D%...</td>\n",
       "      <td>[Biết buồn là mãi đó, Em đừng phai má hồng, Mộ...</td>\n",
       "    </tr>\n",
       "  </tbody>\n",
       "</table>\n",
       "<p>486 rows × 6 columns</p>\n",
       "</div>"
      ],
      "text/plain": [
       "     Unnamed: 0                        title  \\\n",
       "0             0       “Cái làm ta hạnh phúc”   \n",
       "1             0       “Cái làm ta hạnh phúc”   \n",
       "2             1     “Chiều vừa xốp trên tay”   \n",
       "3             1     “Chiều vừa xốp trên tay”   \n",
       "4             2  “Dưới giàn hoa thiên lý...”   \n",
       "..          ...                          ...   \n",
       "481          98                     Anh biết   \n",
       "482          99         Anh bốn mùa lập đông   \n",
       "483          99         Anh bốn mùa lập đông   \n",
       "484          99         Anh bốn mùa lập đông   \n",
       "485          99         Anh bốn mùa lập đông   \n",
       "\n",
       "                                               content  \\\n",
       "0    Cái làm ta hạnh phúc\\nThực ra cũng chẳng nhiều...   \n",
       "1    Cái làm ta hạnh phúc\\nThực ra cũng chẳng nhiều...   \n",
       "2    Chiều vừa xốp trên tay\\nChợt nghe thoáng ong b...   \n",
       "3    Chiều vừa xốp trên tay\\nChợt nghe thoáng ong b...   \n",
       "4    Dưới giàn hoa thiên lý\\nMột mình anh đang ngồi...   \n",
       "..                                                 ...   \n",
       "481  Không có anh để già\\nLàm sao em được trẻ\\nMuốn...   \n",
       "482  Buồn, thì buồn thiệt đó\\nEm à, có biết không\\n...   \n",
       "483  Buồn, thì buồn thiệt đó\\nEm à, có biết không\\n...   \n",
       "484  Buồn, thì buồn thiệt đó\\nEm à, có biết không\\n...   \n",
       "485  Buồn, thì buồn thiệt đó\\nEm à, có biết không\\n...   \n",
       "\n",
       "                                                source  \\\n",
       "0    Nguồn: Châm ngôn mới (thơ), Thái Bá Tân, NXB L...   \n",
       "1    Nguồn: Châm ngôn mới (thơ), Thái Bá Tân, NXB L...   \n",
       "2    Nguồn: Lâm Huy Nhuận, Chiều có thật (thơ), NXB...   \n",
       "3    Nguồn: Lâm Huy Nhuận, Chiều có thật (thơ), NXB...   \n",
       "4      Nguồn: Nguyễn Nhật Ánh, Mắt biếc, NXB Trẻ, 2004   \n",
       "..                                                 ...   \n",
       "481                                                NaN   \n",
       "482                                                NaN   \n",
       "483                                                NaN   \n",
       "484                                                NaN   \n",
       "485                                                NaN   \n",
       "\n",
       "                                                   url  \\\n",
       "0    https://www.thivien.net/Th%C3%A1i-B%C3%A1-T%C3...   \n",
       "1    https://www.thivien.net/Th%C3%A1i-B%C3%A1-T%C3...   \n",
       "2    https://www.thivien.net/L%C3%A2m-Huy-Nhu%E1%BA...   \n",
       "3    https://www.thivien.net/L%C3%A2m-Huy-Nhu%E1%BA...   \n",
       "4    https://www.thivien.net/Nguy%E1%BB%85n-Nh%E1%B...   \n",
       "..                                                 ...   \n",
       "481  https://www.thivien.net/Nguy%E1%BB%85n-Minh-D%...   \n",
       "482  https://www.thivien.net/Nguy%E1%BB%85n-Minh-D%...   \n",
       "483  https://www.thivien.net/Nguy%E1%BB%85n-Minh-D%...   \n",
       "484  https://www.thivien.net/Nguy%E1%BB%85n-Minh-D%...   \n",
       "485  https://www.thivien.net/Nguy%E1%BB%85n-Minh-D%...   \n",
       "\n",
       "                                          part_content  \n",
       "0    [Cái làm ta hạnh phúc, Thực ra cũng chẳng nhiề...  \n",
       "1    [Rồi thêm chút công việc, Cho ta làm hàng ngày...  \n",
       "2    [Chiều vừa xốp trên tay, Chợt nghe thoáng ong ...  \n",
       "3    [Ớt đỏ sao cứ đỏ, Táo chín cho thật vàng, Em đ...  \n",
       "4    [Dưới giàn hoa thiên lý, Một mình anh đang ngồ...  \n",
       "..                                                 ...  \n",
       "481  [Đất hiến dâng tuổi trẻ, Trời buông thả tuổi g...  \n",
       "482  [Buồn, thì buồn thiệt đó, Em à, có biết không,...  \n",
       "483  [Vâng, phiến buồn còn đó, Em nào biết phải khô...  \n",
       "484  [Ừ, nỗi buồn vậy đó, Em đừng vội bâng khuâng, ...  \n",
       "485  [Biết buồn là mãi đó, Em đừng phai má hồng, Mộ...  \n",
       "\n",
       "[486 rows x 6 columns]"
      ]
     },
     "execution_count": 16,
     "metadata": {},
     "output_type": "execute_result"
    }
   ],
   "source": [
    "df_exploded = df.explode(\"part_content\")\n",
    "df_exploded.reset_index(inplace=True, drop=True)\n",
    "df_exploded"
   ]
  },
  {
   "cell_type": "markdown",
   "metadata": {},
   "source": [
    "### Clear null"
   ]
  },
  {
   "cell_type": "code",
   "execution_count": 27,
   "metadata": {},
   "outputs": [
    {
     "name": "stdout",
     "output_type": "stream",
     "text": [
      "Tổng số hàng null 45\n",
      "Tổng số hàng null 0\n"
     ]
    }
   ],
   "source": [
    "print(\"Tổng số hàng null\", df_exploded['part_content'].isnull().sum())\n",
    "df_exploded.dropna(inplace=True, subset=\"part_content\")\n",
    "print(\"Tổng số hàng null\", df_exploded['part_content'].isnull().sum())"
   ]
  },
  {
   "cell_type": "markdown",
   "metadata": {},
   "source": [
    "### Change list to string"
   ]
  },
  {
   "cell_type": "code",
   "execution_count": 29,
   "metadata": {},
   "outputs": [
    {
     "data": {
      "application/vnd.microsoft.datawrangler.viewer.v0+json": {
       "columns": [
        {
         "name": "index",
         "rawType": "int64",
         "type": "integer"
        },
        {
         "name": "Unnamed: 0",
         "rawType": "int64",
         "type": "integer"
        },
        {
         "name": "title",
         "rawType": "object",
         "type": "string"
        },
        {
         "name": "content",
         "rawType": "object",
         "type": "string"
        },
        {
         "name": "source",
         "rawType": "object",
         "type": "unknown"
        },
        {
         "name": "url",
         "rawType": "object",
         "type": "string"
        },
        {
         "name": "part_content",
         "rawType": "object",
         "type": "string"
        }
       ],
       "conversionMethod": "pd.DataFrame",
       "ref": "437f4a90-5e70-45e5-baa7-7e311a3e8c3a",
       "rows": [
        [
         "0",
         "0",
         "“Cái làm ta hạnh phúc”",
         "Cái làm ta hạnh phúc\nThực ra cũng chẳng nhiều\nChỉ cần có ai đó\nĐể ta thầm thương yêu\n\nRồi thêm chút công việc\nCho ta làm hàng ngày\nCuối cùng, chút mơ mộng\nĐể đưa ta lên mây",
         "Nguồn: Châm ngôn mới (thơ), Thái Bá Tân, NXB Lao động, 2013",
         "https://www.thivien.net/Th%C3%A1i-B%C3%A1-T%C3%A2n/C%C3%A1i-l%C3%A0m-ta-h%E1%BA%A1nh-ph%C3%BAc/poem-t24-M5Dn2cxmEDVSrQhtCw",
         "Cái làm ta hạnh phúc\nThực ra cũng chẳng nhiều\nChỉ cần có ai đó\nĐể ta thầm thương yêu"
        ],
        [
         "1",
         "0",
         "“Cái làm ta hạnh phúc”",
         "Cái làm ta hạnh phúc\nThực ra cũng chẳng nhiều\nChỉ cần có ai đó\nĐể ta thầm thương yêu\n\nRồi thêm chút công việc\nCho ta làm hàng ngày\nCuối cùng, chút mơ mộng\nĐể đưa ta lên mây",
         "Nguồn: Châm ngôn mới (thơ), Thái Bá Tân, NXB Lao động, 2013",
         "https://www.thivien.net/Th%C3%A1i-B%C3%A1-T%C3%A2n/C%C3%A1i-l%C3%A0m-ta-h%E1%BA%A1nh-ph%C3%BAc/poem-t24-M5Dn2cxmEDVSrQhtCw",
         "Rồi thêm chút công việc\nCho ta làm hàng ngày\nCuối cùng, chút mơ mộng\nĐể đưa ta lên mây"
        ],
        [
         "2",
         "1",
         "“Chiều vừa xốp trên tay”",
         "Chiều vừa xốp trên tay\nChợt nghe thoáng ong bay\nCó ai vừa chết nhỉ\nMây thắt tang trăng gầy\n\nỚt đỏ sao cứ đỏ\nTáo chín cho thật vàng\nEm đẹp cho thêm đẹp\nĐể mắt ngừng lang thang",
         "Nguồn: Lâm Huy Nhuận, Chiều có thật (thơ), NXB Văn học, 1999",
         "https://www.thivien.net/L%C3%A2m-Huy-Nhu%E1%BA%ADn/Chi%E1%BB%81u-v%E1%BB%ABa-x%E1%BB%91p-tr%C3%AAn-tay/poem-f31v-s36HNxJNqauIrC7Xw",
         "Chiều vừa xốp trên tay\nChợt nghe thoáng ong bay\nCó ai vừa chết nhỉ\nMây thắt tang trăng gầy"
        ],
        [
         "3",
         "1",
         "“Chiều vừa xốp trên tay”",
         "Chiều vừa xốp trên tay\nChợt nghe thoáng ong bay\nCó ai vừa chết nhỉ\nMây thắt tang trăng gầy\n\nỚt đỏ sao cứ đỏ\nTáo chín cho thật vàng\nEm đẹp cho thêm đẹp\nĐể mắt ngừng lang thang",
         "Nguồn: Lâm Huy Nhuận, Chiều có thật (thơ), NXB Văn học, 1999",
         "https://www.thivien.net/L%C3%A2m-Huy-Nhu%E1%BA%ADn/Chi%E1%BB%81u-v%E1%BB%ABa-x%E1%BB%91p-tr%C3%AAn-tay/poem-f31v-s36HNxJNqauIrC7Xw",
         "Ớt đỏ sao cứ đỏ\nTáo chín cho thật vàng\nEm đẹp cho thêm đẹp\nĐể mắt ngừng lang thang"
        ],
        [
         "4",
         "2",
         "“Dưới giàn hoa thiên lý...”",
         "Dưới giàn hoa thiên lý\nMột mình anh đang ngồi\nKhông dưng em bước tới\nAnh bỗng thành song đôi",
         "Nguồn: Nguyễn Nhật Ánh, Mắt biếc, NXB Trẻ, 2004",
         "https://www.thivien.net/Nguy%E1%BB%85n-Nh%E1%BA%ADt-%C3%81nh/D%C6%B0%E1%BB%9Bi-gi%C3%A0n-hoa-thi%C3%AAn-l%C3%BD/poem-u0YIZsC-pwwY1Khy_e96OQ",
         "Dưới giàn hoa thiên lý\nMột mình anh đang ngồi\nKhông dưng em bước tới\nAnh bỗng thành song đôi"
        ],
        [
         "5",
         "3",
         "“Đến, nhiều nơi để đến”",
         "Đến, nhiều nơi để đến\nVề, trở lại với mình\nChỉ duy nhất một chốn\nChốn ấy là gia đình",
         "Nguồn: Châm ngôn mới (thơ), Thái Bá Tân, NXB Lao động, 2013",
         "https://www.thivien.net/Th%C3%A1i-B%C3%A1-T%C3%A2n/%C4%90%E1%BA%BFn-nhi%E1%BB%81u-n%C6%A1i-%C4%91%E1%BB%83-%C4%91%E1%BA%BFn/poem-39NZptOCqcWR7beS-TJcOg",
         "Đến, nhiều nơi để đến\nVề, trở lại với mình\nChỉ duy nhất một chốn\nChốn ấy là gia đình"
        ],
        [
         "6",
         "4",
         "“Đừng bao giờ dại dột”",
         "Đừng bao giờ dại dột\nĐem chuyện riêng của mình\nTâm sự với người khác\nĐây, con số chứng minh:\n\nHai phần ba trong họ\nSẽ chẳng thèm quan tâm\nMột phần ba còn lại\nNghe xong, lòng vui thầm",
         "Nguồn: Châm ngôn mới (thơ), Thái Bá Tân, NXB Lao động, 2013",
         "https://www.thivien.net/Th%C3%A1i-B%C3%A1-T%C3%A2n/%C4%90%E1%BB%ABng-bao-gi%E1%BB%9D-d%E1%BA%A1i-d%E1%BB%99t/poem-G6OAEVSjTKCAXXDhIoGKyA",
         "Đừng bao giờ dại dột\nĐem chuyện riêng của mình\nTâm sự với người khác\nĐây, con số chứng minh:"
        ],
        [
         "7",
         "4",
         "“Đừng bao giờ dại dột”",
         "Đừng bao giờ dại dột\nĐem chuyện riêng của mình\nTâm sự với người khác\nĐây, con số chứng minh:\n\nHai phần ba trong họ\nSẽ chẳng thèm quan tâm\nMột phần ba còn lại\nNghe xong, lòng vui thầm",
         "Nguồn: Châm ngôn mới (thơ), Thái Bá Tân, NXB Lao động, 2013",
         "https://www.thivien.net/Th%C3%A1i-B%C3%A1-T%C3%A2n/%C4%90%E1%BB%ABng-bao-gi%E1%BB%9D-d%E1%BA%A1i-d%E1%BB%99t/poem-G6OAEVSjTKCAXXDhIoGKyA",
         "Hai phần ba trong họ\nSẽ chẳng thèm quan tâm\nMột phần ba còn lại\nNghe xong, lòng vui thầm"
        ],
        [
         "8",
         "5",
         "“Hầu hết các đồ vật”",
         "Hầu hết các đồ vật\nTa muốn đều đắt tiền\nMột khi không có được\nTa cảm thấy buồn phiền\n\nTrong khi cái thực sự\nLàm ta vui ở đời\nHoàn toàn không tốn kém\nLà tình yêu, tiếng cười",
         "Nguồn: Châm ngôn mới (thơ), Thái Bá Tân, NXB Lao động, 2013",
         "https://www.thivien.net/Th%C3%A1i-B%C3%A1-T%C3%A2n/H%E1%BA%A7u-h%E1%BA%BFt-c%C3%A1c-%C4%91%E1%BB%93-v%E1%BA%ADt/poem-UgNEBlIDpJW5xfeygCe28g",
         "Hầu hết các đồ vật\nTa muốn đều đắt tiền\nMột khi không có được\nTa cảm thấy buồn phiền"
        ],
        [
         "9",
         "5",
         "“Hầu hết các đồ vật”",
         "Hầu hết các đồ vật\nTa muốn đều đắt tiền\nMột khi không có được\nTa cảm thấy buồn phiền\n\nTrong khi cái thực sự\nLàm ta vui ở đời\nHoàn toàn không tốn kém\nLà tình yêu, tiếng cười",
         "Nguồn: Châm ngôn mới (thơ), Thái Bá Tân, NXB Lao động, 2013",
         "https://www.thivien.net/Th%C3%A1i-B%C3%A1-T%C3%A2n/H%E1%BA%A7u-h%E1%BA%BFt-c%C3%A1c-%C4%91%E1%BB%93-v%E1%BA%ADt/poem-UgNEBlIDpJW5xfeygCe28g",
         "Trong khi cái thực sự\nLàm ta vui ở đời\nHoàn toàn không tốn kém\nLà tình yêu, tiếng cười"
        ],
        [
         "10",
         "6",
         "“Hoàng thị” chưa quên…",
         "Chưa hết mùa tầm xuân\nNên mưa còn ngại ngần\nNơi miền xa bất tận\nĐể nắng… dài bâng khuâng!\n\nSài Gòn bao bàn chân\nNhớ bao nhiêu tên đường?\nĐời qua bao nhiêu bận\nGót giày lên vấn vương?\n\nTháng Tư làm nhớ thương\nĐầu mùa ve nức nở\nTrên vòm lá sân trường\nBên đường xưa của Ngọ\n\nAi đang ngồi khóc dở\nThời gian qua thời gian\nHết rồi ngày bỡ ngỡ\nCòn chăng nỗi bẽ bàng!\n\nBên chân dung điêu tàn\nNên ngày xưa của Ngọ\nĐời không cho quên lãng\nĐể yêu thương còn chờ\n\nMai em về xứ sở\nÁo dài quấn chân anh\nĐi qua đường của Ngọ\nViết thêm câu chuyện tình…",
         "16.4.18",
         "https://www.thivien.net/Minh-S%C6%A1n-L%C3%AA/Ho%C3%A0ng-th%E1%BB%8B-ch%C6%B0a-qu%C3%AAn/poem-9ymR5llztMAaB3ivBKGuIg",
         "Chưa hết mùa tầm xuân\nNên mưa còn ngại ngần\nNơi miền xa bất tận\nĐể nắng… dài bâng khuâng!"
        ],
        [
         "11",
         "6",
         "“Hoàng thị” chưa quên…",
         "Chưa hết mùa tầm xuân\nNên mưa còn ngại ngần\nNơi miền xa bất tận\nĐể nắng… dài bâng khuâng!\n\nSài Gòn bao bàn chân\nNhớ bao nhiêu tên đường?\nĐời qua bao nhiêu bận\nGót giày lên vấn vương?\n\nTháng Tư làm nhớ thương\nĐầu mùa ve nức nở\nTrên vòm lá sân trường\nBên đường xưa của Ngọ\n\nAi đang ngồi khóc dở\nThời gian qua thời gian\nHết rồi ngày bỡ ngỡ\nCòn chăng nỗi bẽ bàng!\n\nBên chân dung điêu tàn\nNên ngày xưa của Ngọ\nĐời không cho quên lãng\nĐể yêu thương còn chờ\n\nMai em về xứ sở\nÁo dài quấn chân anh\nĐi qua đường của Ngọ\nViết thêm câu chuyện tình…",
         "16.4.18",
         "https://www.thivien.net/Minh-S%C6%A1n-L%C3%AA/Ho%C3%A0ng-th%E1%BB%8B-ch%C6%B0a-qu%C3%AAn/poem-9ymR5llztMAaB3ivBKGuIg",
         "Sài Gòn bao bàn chân\nNhớ bao nhiêu tên đường?\nĐời qua bao nhiêu bận\nGót giày lên vấn vương?"
        ],
        [
         "12",
         "6",
         "“Hoàng thị” chưa quên…",
         "Chưa hết mùa tầm xuân\nNên mưa còn ngại ngần\nNơi miền xa bất tận\nĐể nắng… dài bâng khuâng!\n\nSài Gòn bao bàn chân\nNhớ bao nhiêu tên đường?\nĐời qua bao nhiêu bận\nGót giày lên vấn vương?\n\nTháng Tư làm nhớ thương\nĐầu mùa ve nức nở\nTrên vòm lá sân trường\nBên đường xưa của Ngọ\n\nAi đang ngồi khóc dở\nThời gian qua thời gian\nHết rồi ngày bỡ ngỡ\nCòn chăng nỗi bẽ bàng!\n\nBên chân dung điêu tàn\nNên ngày xưa của Ngọ\nĐời không cho quên lãng\nĐể yêu thương còn chờ\n\nMai em về xứ sở\nÁo dài quấn chân anh\nĐi qua đường của Ngọ\nViết thêm câu chuyện tình…",
         "16.4.18",
         "https://www.thivien.net/Minh-S%C6%A1n-L%C3%AA/Ho%C3%A0ng-th%E1%BB%8B-ch%C6%B0a-qu%C3%AAn/poem-9ymR5llztMAaB3ivBKGuIg",
         "Tháng Tư làm nhớ thương\nĐầu mùa ve nức nở\nTrên vòm lá sân trường\nBên đường xưa của Ngọ"
        ],
        [
         "13",
         "6",
         "“Hoàng thị” chưa quên…",
         "Chưa hết mùa tầm xuân\nNên mưa còn ngại ngần\nNơi miền xa bất tận\nĐể nắng… dài bâng khuâng!\n\nSài Gòn bao bàn chân\nNhớ bao nhiêu tên đường?\nĐời qua bao nhiêu bận\nGót giày lên vấn vương?\n\nTháng Tư làm nhớ thương\nĐầu mùa ve nức nở\nTrên vòm lá sân trường\nBên đường xưa của Ngọ\n\nAi đang ngồi khóc dở\nThời gian qua thời gian\nHết rồi ngày bỡ ngỡ\nCòn chăng nỗi bẽ bàng!\n\nBên chân dung điêu tàn\nNên ngày xưa của Ngọ\nĐời không cho quên lãng\nĐể yêu thương còn chờ\n\nMai em về xứ sở\nÁo dài quấn chân anh\nĐi qua đường của Ngọ\nViết thêm câu chuyện tình…",
         "16.4.18",
         "https://www.thivien.net/Minh-S%C6%A1n-L%C3%AA/Ho%C3%A0ng-th%E1%BB%8B-ch%C6%B0a-qu%C3%AAn/poem-9ymR5llztMAaB3ivBKGuIg",
         "Ai đang ngồi khóc dở\nThời gian qua thời gian\nHết rồi ngày bỡ ngỡ\nCòn chăng nỗi bẽ bàng!"
        ],
        [
         "14",
         "6",
         "“Hoàng thị” chưa quên…",
         "Chưa hết mùa tầm xuân\nNên mưa còn ngại ngần\nNơi miền xa bất tận\nĐể nắng… dài bâng khuâng!\n\nSài Gòn bao bàn chân\nNhớ bao nhiêu tên đường?\nĐời qua bao nhiêu bận\nGót giày lên vấn vương?\n\nTháng Tư làm nhớ thương\nĐầu mùa ve nức nở\nTrên vòm lá sân trường\nBên đường xưa của Ngọ\n\nAi đang ngồi khóc dở\nThời gian qua thời gian\nHết rồi ngày bỡ ngỡ\nCòn chăng nỗi bẽ bàng!\n\nBên chân dung điêu tàn\nNên ngày xưa của Ngọ\nĐời không cho quên lãng\nĐể yêu thương còn chờ\n\nMai em về xứ sở\nÁo dài quấn chân anh\nĐi qua đường của Ngọ\nViết thêm câu chuyện tình…",
         "16.4.18",
         "https://www.thivien.net/Minh-S%C6%A1n-L%C3%AA/Ho%C3%A0ng-th%E1%BB%8B-ch%C6%B0a-qu%C3%AAn/poem-9ymR5llztMAaB3ivBKGuIg",
         "Bên chân dung điêu tàn\nNên ngày xưa của Ngọ\nĐời không cho quên lãng\nĐể yêu thương còn chờ"
        ],
        [
         "15",
         "6",
         "“Hoàng thị” chưa quên…",
         "Chưa hết mùa tầm xuân\nNên mưa còn ngại ngần\nNơi miền xa bất tận\nĐể nắng… dài bâng khuâng!\n\nSài Gòn bao bàn chân\nNhớ bao nhiêu tên đường?\nĐời qua bao nhiêu bận\nGót giày lên vấn vương?\n\nTháng Tư làm nhớ thương\nĐầu mùa ve nức nở\nTrên vòm lá sân trường\nBên đường xưa của Ngọ\n\nAi đang ngồi khóc dở\nThời gian qua thời gian\nHết rồi ngày bỡ ngỡ\nCòn chăng nỗi bẽ bàng!\n\nBên chân dung điêu tàn\nNên ngày xưa của Ngọ\nĐời không cho quên lãng\nĐể yêu thương còn chờ\n\nMai em về xứ sở\nÁo dài quấn chân anh\nĐi qua đường của Ngọ\nViết thêm câu chuyện tình…",
         "16.4.18",
         "https://www.thivien.net/Minh-S%C6%A1n-L%C3%AA/Ho%C3%A0ng-th%E1%BB%8B-ch%C6%B0a-qu%C3%AAn/poem-9ymR5llztMAaB3ivBKGuIg",
         "Mai em về xứ sở\nÁo dài quấn chân anh\nĐi qua đường của Ngọ\nViết thêm câu chuyện tình…"
        ],
        [
         "16",
         "7",
         "“Khi cô gái im lặng”",
         "Khi cô gái im lặng\nNăm lý do như sau:\nMột, nàng đang tức giận\nHai, nàng đang buồn đau\n\nBa, nàng sắp bùng nổ\nBốn, nàng nghi ngờ mình\nNăm, và quan trọng nhất\nNàng chờ bạn tỏ tình",
         "Nguồn: Châm ngôn mới (thơ), Thái Bá Tân, NXB Lao động, 2013",
         "https://www.thivien.net/Th%C3%A1i-B%C3%A1-T%C3%A2n/Khi-c%C3%B4-g%C3%A1i-im-l%E1%BA%B7ng/poem-JGuKQCVpULYCIRVVfQK-2g",
         "Khi cô gái im lặng\nNăm lý do như sau:\nMột, nàng đang tức giận\nHai, nàng đang buồn đau"
        ],
        [
         "17",
         "7",
         "“Khi cô gái im lặng”",
         "Khi cô gái im lặng\nNăm lý do như sau:\nMột, nàng đang tức giận\nHai, nàng đang buồn đau\n\nBa, nàng sắp bùng nổ\nBốn, nàng nghi ngờ mình\nNăm, và quan trọng nhất\nNàng chờ bạn tỏ tình",
         "Nguồn: Châm ngôn mới (thơ), Thái Bá Tân, NXB Lao động, 2013",
         "https://www.thivien.net/Th%C3%A1i-B%C3%A1-T%C3%A2n/Khi-c%C3%B4-g%C3%A1i-im-l%E1%BA%B7ng/poem-JGuKQCVpULYCIRVVfQK-2g",
         "Ba, nàng sắp bùng nổ\nBốn, nàng nghi ngờ mình\nNăm, và quan trọng nhất\nNàng chờ bạn tỏ tình"
        ],
        [
         "18",
         "8",
         "“Khi tiếng niệm Di Đà”",
         "Khi tiếng niệm Di Đà\nVang vọng trong tâm ta\nRơi đi những phiền não\nCho Bồ đề nở hoa",
         "Nguồn: Thi kệ niệm Phật (Nhiều tác giả), Thích Giác Chí Châu, NXB Phương đông, 2007",
         "https://www.thivien.net/Th%C3%ADch-Ch%C3%A2n-T%C3%ADnh/Khi-ti%E1%BA%BFng-ni%E1%BB%87m-Di-%C4%90%C3%A0/poem-pDbZtZ1CigVW422eL0CQ2g",
         "Khi tiếng niệm Di Đà\nVang vọng trong tâm ta\nRơi đi những phiền não\nCho Bồ đề nở hoa"
        ],
        [
         "19",
         "9",
         "“Khoẻ - không phải nhấc mạnh”",
         "Khoẻ - không phải nhấc mạnh\nMà biết đặt nhẹ nhàng\nKính - đối với người dưới\nNhư những người ngang hàng\n\nLớn - không ở to tát\nMà ở điều bình thường\nĐẹp - không ở khuôn mặt\nMà trái tim yêu thương\n\nTốt - không ở lời nói\nMà việc làm hàng ngày\nCuốn sách đẹp, bìa cứng\nChưa hẳn là sách hay",
         "Nguồn: Châm ngôn mới (thơ), Thái Bá Tân, NXB Lao động, 2013",
         "https://www.thivien.net/Th%C3%A1i-B%C3%A1-T%C3%A2n/Kho%E1%BA%BB-kh%C3%B4ng-ph%E1%BA%A3i-nh%E1%BA%A5c-m%E1%BA%A1nh/poem-AcjlU8CFbBUa5ZwreL_Qpw",
         "Khoẻ - không phải nhấc mạnh\nMà biết đặt nhẹ nhàng\nKính - đối với người dưới\nNhư những người ngang hàng"
        ],
        [
         "20",
         "9",
         "“Khoẻ - không phải nhấc mạnh”",
         "Khoẻ - không phải nhấc mạnh\nMà biết đặt nhẹ nhàng\nKính - đối với người dưới\nNhư những người ngang hàng\n\nLớn - không ở to tát\nMà ở điều bình thường\nĐẹp - không ở khuôn mặt\nMà trái tim yêu thương\n\nTốt - không ở lời nói\nMà việc làm hàng ngày\nCuốn sách đẹp, bìa cứng\nChưa hẳn là sách hay",
         "Nguồn: Châm ngôn mới (thơ), Thái Bá Tân, NXB Lao động, 2013",
         "https://www.thivien.net/Th%C3%A1i-B%C3%A1-T%C3%A2n/Kho%E1%BA%BB-kh%C3%B4ng-ph%E1%BA%A3i-nh%E1%BA%A5c-m%E1%BA%A1nh/poem-AcjlU8CFbBUa5ZwreL_Qpw",
         "Lớn - không ở to tát\nMà ở điều bình thường\nĐẹp - không ở khuôn mặt\nMà trái tim yêu thương"
        ],
        [
         "21",
         "9",
         "“Khoẻ - không phải nhấc mạnh”",
         "Khoẻ - không phải nhấc mạnh\nMà biết đặt nhẹ nhàng\nKính - đối với người dưới\nNhư những người ngang hàng\n\nLớn - không ở to tát\nMà ở điều bình thường\nĐẹp - không ở khuôn mặt\nMà trái tim yêu thương\n\nTốt - không ở lời nói\nMà việc làm hàng ngày\nCuốn sách đẹp, bìa cứng\nChưa hẳn là sách hay",
         "Nguồn: Châm ngôn mới (thơ), Thái Bá Tân, NXB Lao động, 2013",
         "https://www.thivien.net/Th%C3%A1i-B%C3%A1-T%C3%A2n/Kho%E1%BA%BB-kh%C3%B4ng-ph%E1%BA%A3i-nh%E1%BA%A5c-m%E1%BA%A1nh/poem-AcjlU8CFbBUa5ZwreL_Qpw",
         "Tốt - không ở lời nói\nMà việc làm hàng ngày\nCuốn sách đẹp, bìa cứng\nChưa hẳn là sách hay"
        ],
        [
         "22",
         "10",
         "“Không thể kiểm tra bạn”",
         "Không thể kiểm tra bạn\nNhư ta kiểm tra tiền\nMuốn xem thật hay giả\nĐem soi trước bóng đèn",
         "Nguồn: Châm ngôn mới (thơ), Thái Bá Tân, NXB Lao động, 2013",
         "https://www.thivien.net/Th%C3%A1i-B%C3%A1-T%C3%A2n/Kh%C3%B4ng-th%E1%BB%83-ki%E1%BB%83m-tra-b%E1%BA%A1n/poem-OrB3lHwvfpxlSwoSsC8pUQ",
         "Không thể kiểm tra bạn\nNhư ta kiểm tra tiền\nMuốn xem thật hay giả\nĐem soi trước bóng đèn"
        ],
        [
         "25",
         "13",
         "“Mong bạn hoài nghi tôi”",
         "Mong bạn hoài nghi tôi\nCho tôi tin cậy bạn\nNhững lời đang vỗ cánh\nChưa chắc là đã bay!",
         "Nguồn: Nguyễn Vũ Tiềm, Hoài nghi và tin cậy, NXB Hội nhà văn, 2004",
         "https://www.thivien.net/Nguy%E1%BB%85n-V%C5%A9-Ti%E1%BB%81m/Mong-b%E1%BA%A1n-ho%C3%A0i-nghi-t%C3%B4i/poem-SXdUCYxChMCrzbKk2EdcLw",
         "Mong bạn hoài nghi tôi\nCho tôi tin cậy bạn\nNhững lời đang vỗ cánh\nChưa chắc là đã bay!"
        ],
        [
         "26",
         "14",
         "“Một đời người quá ngắn”",
         "Một đời người quá ngắn\nMột ngày sao quá dài\nBao nhiêu Sao Hôm lặn\nChẳng mọc thành Sao Mai",
         "8-1992\n\nNguồn: Nguyễn Sĩ Đại, Trái tim người lính (thơ), NXB Thanh niên, 1998",
         "https://www.thivien.net/Nguy%E1%BB%85n-S%C4%A9-%C4%90%E1%BA%A1i/M%E1%BB%99t-%C4%91%E1%BB%9Di-ng%C6%B0%E1%BB%9Di-qu%C3%A1-ng%E1%BA%AFn/poem-3_1pIhihPm0StpgLBOxEIQ",
         "Một đời người quá ngắn\nMột ngày sao quá dài\nBao nhiêu Sao Hôm lặn\nChẳng mọc thành Sao Mai"
        ],
        [
         "27",
         "15",
         "“Ngoảnh mặt với bệ rồng”",
         "Ngoảnh mặt với bệ rồng\nxua vàng khối bạc thẻ\ndẫu đao phủ vung gươm\ncũng đừng mong đổi ý\n\nNhưng gặp bạn tri âm\ndù ngục tù cũng ở\nngười đẹp của muôn thuở\ngần gũi và xa vời",
         "Nguồn: Người thám hiểm thời gian (thơ), Nguyễn Vũ Tiềm, NXB Văn hoá, 1993",
         "https://www.thivien.net/Nguy%E1%BB%85n-V%C5%A9-Ti%E1%BB%81m/Ngo%E1%BA%A3nh-m%E1%BA%B7t-v%E1%BB%9Bi-b%E1%BB%87-r%E1%BB%93ng/poem-WPWUR8J33_9m_c2jHvi_Ww",
         "Ngoảnh mặt với bệ rồng\nxua vàng khối bạc thẻ\ndẫu đao phủ vung gươm\ncũng đừng mong đổi ý"
        ],
        [
         "28",
         "15",
         "“Ngoảnh mặt với bệ rồng”",
         "Ngoảnh mặt với bệ rồng\nxua vàng khối bạc thẻ\ndẫu đao phủ vung gươm\ncũng đừng mong đổi ý\n\nNhưng gặp bạn tri âm\ndù ngục tù cũng ở\nngười đẹp của muôn thuở\ngần gũi và xa vời",
         "Nguồn: Người thám hiểm thời gian (thơ), Nguyễn Vũ Tiềm, NXB Văn hoá, 1993",
         "https://www.thivien.net/Nguy%E1%BB%85n-V%C5%A9-Ti%E1%BB%81m/Ngo%E1%BA%A3nh-m%E1%BA%B7t-v%E1%BB%9Bi-b%E1%BB%87-r%E1%BB%93ng/poem-WPWUR8J33_9m_c2jHvi_Ww",
         "Nhưng gặp bạn tri âm\ndù ngục tù cũng ở\nngười đẹp của muôn thuở\ngần gũi và xa vời"
        ],
        [
         "29",
         "16",
         "“Người ấy”",
         "\"Người ấy\" xưa, gầy lắm\nMỏng mảnh khói sương buồn\nĐôi mắt nhìn đăm đắm\nGiấu một trời mưa tuôn\n\nCổng trường thời đi học\nTôi vẫn thường theo sau\nMười năm xa, mái tóc...\nCòn vương hương thuở nào\n\n\"Người ấy\" không che nón\nMỗi khi tan học về\nKhông thích ai đưa đón\nDẫu đường dài lê thê\n\nÔi một thời ngây thơ\nKhù khờ mà bướng bỉnh\nTôi lóng ngóng, lơ ngơ\nNhút nhát rồi...câm nín\n\nNên mùa chia tay ấy\nMặc phượng hồng lung linh\nVà ve sầu trổi dậy\nTôi chỉ nhìn... lặng thinh\n\nBây giờ, ngồi tiếc nhớ\nNgày xanh - tuổi dại khờ\nƯớc chi đừng cách trở\n\"Người ấy\" về trong...mơ",
         "Nguồn: blog của tác giả",
         "https://www.thivien.net/%C4%90%E1%BB%97-Quang-Vinh/Ng%C6%B0%E1%BB%9Di-%E1%BA%A5y/poem-QhCdBKEHaOevyIqXvrZ_aw",
         "\"Người ấy\" xưa, gầy lắm\nMỏng mảnh khói sương buồn\nĐôi mắt nhìn đăm đắm\nGiấu một trời mưa tuôn"
        ],
        [
         "30",
         "16",
         "“Người ấy”",
         "\"Người ấy\" xưa, gầy lắm\nMỏng mảnh khói sương buồn\nĐôi mắt nhìn đăm đắm\nGiấu một trời mưa tuôn\n\nCổng trường thời đi học\nTôi vẫn thường theo sau\nMười năm xa, mái tóc...\nCòn vương hương thuở nào\n\n\"Người ấy\" không che nón\nMỗi khi tan học về\nKhông thích ai đưa đón\nDẫu đường dài lê thê\n\nÔi một thời ngây thơ\nKhù khờ mà bướng bỉnh\nTôi lóng ngóng, lơ ngơ\nNhút nhát rồi...câm nín\n\nNên mùa chia tay ấy\nMặc phượng hồng lung linh\nVà ve sầu trổi dậy\nTôi chỉ nhìn... lặng thinh\n\nBây giờ, ngồi tiếc nhớ\nNgày xanh - tuổi dại khờ\nƯớc chi đừng cách trở\n\"Người ấy\" về trong...mơ",
         "Nguồn: blog của tác giả",
         "https://www.thivien.net/%C4%90%E1%BB%97-Quang-Vinh/Ng%C6%B0%E1%BB%9Di-%E1%BA%A5y/poem-QhCdBKEHaOevyIqXvrZ_aw",
         "Cổng trường thời đi học\nTôi vẫn thường theo sau\nMười năm xa, mái tóc...\nCòn vương hương thuở nào"
        ],
        [
         "31",
         "16",
         "“Người ấy”",
         "\"Người ấy\" xưa, gầy lắm\nMỏng mảnh khói sương buồn\nĐôi mắt nhìn đăm đắm\nGiấu một trời mưa tuôn\n\nCổng trường thời đi học\nTôi vẫn thường theo sau\nMười năm xa, mái tóc...\nCòn vương hương thuở nào\n\n\"Người ấy\" không che nón\nMỗi khi tan học về\nKhông thích ai đưa đón\nDẫu đường dài lê thê\n\nÔi một thời ngây thơ\nKhù khờ mà bướng bỉnh\nTôi lóng ngóng, lơ ngơ\nNhút nhát rồi...câm nín\n\nNên mùa chia tay ấy\nMặc phượng hồng lung linh\nVà ve sầu trổi dậy\nTôi chỉ nhìn... lặng thinh\n\nBây giờ, ngồi tiếc nhớ\nNgày xanh - tuổi dại khờ\nƯớc chi đừng cách trở\n\"Người ấy\" về trong...mơ",
         "Nguồn: blog của tác giả",
         "https://www.thivien.net/%C4%90%E1%BB%97-Quang-Vinh/Ng%C6%B0%E1%BB%9Di-%E1%BA%A5y/poem-QhCdBKEHaOevyIqXvrZ_aw",
         "\"Người ấy\" không che nón\nMỗi khi tan học về\nKhông thích ai đưa đón\nDẫu đường dài lê thê"
        ],
        [
         "32",
         "16",
         "“Người ấy”",
         "\"Người ấy\" xưa, gầy lắm\nMỏng mảnh khói sương buồn\nĐôi mắt nhìn đăm đắm\nGiấu một trời mưa tuôn\n\nCổng trường thời đi học\nTôi vẫn thường theo sau\nMười năm xa, mái tóc...\nCòn vương hương thuở nào\n\n\"Người ấy\" không che nón\nMỗi khi tan học về\nKhông thích ai đưa đón\nDẫu đường dài lê thê\n\nÔi một thời ngây thơ\nKhù khờ mà bướng bỉnh\nTôi lóng ngóng, lơ ngơ\nNhút nhát rồi...câm nín\n\nNên mùa chia tay ấy\nMặc phượng hồng lung linh\nVà ve sầu trổi dậy\nTôi chỉ nhìn... lặng thinh\n\nBây giờ, ngồi tiếc nhớ\nNgày xanh - tuổi dại khờ\nƯớc chi đừng cách trở\n\"Người ấy\" về trong...mơ",
         "Nguồn: blog của tác giả",
         "https://www.thivien.net/%C4%90%E1%BB%97-Quang-Vinh/Ng%C6%B0%E1%BB%9Di-%E1%BA%A5y/poem-QhCdBKEHaOevyIqXvrZ_aw",
         "Ôi một thời ngây thơ\nKhù khờ mà bướng bỉnh\nTôi lóng ngóng, lơ ngơ\nNhút nhát rồi...câm nín"
        ],
        [
         "33",
         "16",
         "“Người ấy”",
         "\"Người ấy\" xưa, gầy lắm\nMỏng mảnh khói sương buồn\nĐôi mắt nhìn đăm đắm\nGiấu một trời mưa tuôn\n\nCổng trường thời đi học\nTôi vẫn thường theo sau\nMười năm xa, mái tóc...\nCòn vương hương thuở nào\n\n\"Người ấy\" không che nón\nMỗi khi tan học về\nKhông thích ai đưa đón\nDẫu đường dài lê thê\n\nÔi một thời ngây thơ\nKhù khờ mà bướng bỉnh\nTôi lóng ngóng, lơ ngơ\nNhút nhát rồi...câm nín\n\nNên mùa chia tay ấy\nMặc phượng hồng lung linh\nVà ve sầu trổi dậy\nTôi chỉ nhìn... lặng thinh\n\nBây giờ, ngồi tiếc nhớ\nNgày xanh - tuổi dại khờ\nƯớc chi đừng cách trở\n\"Người ấy\" về trong...mơ",
         "Nguồn: blog của tác giả",
         "https://www.thivien.net/%C4%90%E1%BB%97-Quang-Vinh/Ng%C6%B0%E1%BB%9Di-%E1%BA%A5y/poem-QhCdBKEHaOevyIqXvrZ_aw",
         "Nên mùa chia tay ấy\nMặc phượng hồng lung linh\nVà ve sầu trổi dậy\nTôi chỉ nhìn... lặng thinh"
        ],
        [
         "34",
         "16",
         "“Người ấy”",
         "\"Người ấy\" xưa, gầy lắm\nMỏng mảnh khói sương buồn\nĐôi mắt nhìn đăm đắm\nGiấu một trời mưa tuôn\n\nCổng trường thời đi học\nTôi vẫn thường theo sau\nMười năm xa, mái tóc...\nCòn vương hương thuở nào\n\n\"Người ấy\" không che nón\nMỗi khi tan học về\nKhông thích ai đưa đón\nDẫu đường dài lê thê\n\nÔi một thời ngây thơ\nKhù khờ mà bướng bỉnh\nTôi lóng ngóng, lơ ngơ\nNhút nhát rồi...câm nín\n\nNên mùa chia tay ấy\nMặc phượng hồng lung linh\nVà ve sầu trổi dậy\nTôi chỉ nhìn... lặng thinh\n\nBây giờ, ngồi tiếc nhớ\nNgày xanh - tuổi dại khờ\nƯớc chi đừng cách trở\n\"Người ấy\" về trong...mơ",
         "Nguồn: blog của tác giả",
         "https://www.thivien.net/%C4%90%E1%BB%97-Quang-Vinh/Ng%C6%B0%E1%BB%9Di-%E1%BA%A5y/poem-QhCdBKEHaOevyIqXvrZ_aw",
         "Bây giờ, ngồi tiếc nhớ\nNgày xanh - tuổi dại khờ\nƯớc chi đừng cách trở\n\"Người ấy\" về trong...mơ"
        ],
        [
         "36",
         "18",
         "“Tâm kệ”",
         "Gội rửa sạch trần hồng\nnhư hoa ướp trầm xông\nnguyện mười phương pháp giới\nbi, trí khắp dung thông\n\n\nMặc áo lễ\n\nThân mặc áo giải thoát\nlìa tập nhiễm phù vân\nnguyện chúng sinh mười cõi\nlìa vọng huyễn, qui chân\n\n\nThắp nến\n\nThắp lửa vô lượng quang\nsáng soi bảy cửa ngục\nnguyện chúng sinh vô vàn\nvề chân thân: Huệ, Ðức\n\n\nÐốt trầm hương\n\nKhơi lò thanh tịnh trầm\ngió đưa mười cõi thơm\nnguyện theo vô lượng Phật\ncúng dường tri kiến hương\n\n\nDâng quả\n\nNhư trái dâng cúng Phật\nkết hạt chắc Bồ Đề\nnguyện chúng sinh sáu ngả\ntinh tấn chuyển tham mê\n\n\nDâng hoa\n\nNhư hoa thơm cúng Phật\ntam nghiệp: giới hương xông\nnguyện khắp ba thời mộng\nbừng mở tâm viên đồng\n\n\nThỉnh chuông\n\nBa hồi âm định lực\nngọn triều chuyển sóng cao\nrung động đất mê vọng\nrực chiếu mười cõi sao\ncầu chi ba tạng sách\nchuyển hóa sáu trần lao\nnguyện mười phương thế giới\nthể nhập ánh Phật hào\n\n\nCúng kinh\n\nTâm trụ pho Diệu kinh\nlắng tan ba nghiệp vọng\nnguyện khắp mười phương mộng\nchan chứa Phật quang minh\n\n\nMở kinh\n\nTay mở trang kinh thơm\nnhư bừng khai trí huệ\ncầu chư Phật mười phương\nsáng soi dòng pháp kệ\n\n\nKhai mõ\n\nNhư thắng cương, buộc ngựa\ný thoát khỏi mê đường\nnguyện mở bảy cửa ngục\ncứu nhất thiết tai ương\n\n\nKhép kinh (khi tụng xong)\n\nVừa khép pho nhật nguyệt\nlòng tỏa ánh quang minh\nnguyện nêu đuốc bất nhị\nsoi rọi khắp sinh linh\n\n\nCởi áo lễ\n\nNguyện lìa nhất thiết tướng\nnhư bỏ bè qua sông\nnguyện vào nhất thiết tướng\nhóa chuyển ngục trần hồng",
         "Nguồn: Phạm Thiên Thư, Suối nguồn vi diệu, NXB Văn nghệ, 2006",
         "https://www.thivien.net/Ph%E1%BA%A1m-Thi%C3%AAn-Th%C6%B0/T%C3%A2m-k%E1%BB%87/poem-xBMOgwlu-MTuZ0LOVRL30g",
         "Gội rửa sạch trần hồng\nnhư hoa ướp trầm xông\nnguyện mười phương pháp giới\nbi, trí khắp dung thông"
        ],
        [
         "37",
         "18",
         "“Tâm kệ”",
         "Gội rửa sạch trần hồng\nnhư hoa ướp trầm xông\nnguyện mười phương pháp giới\nbi, trí khắp dung thông\n\n\nMặc áo lễ\n\nThân mặc áo giải thoát\nlìa tập nhiễm phù vân\nnguyện chúng sinh mười cõi\nlìa vọng huyễn, qui chân\n\n\nThắp nến\n\nThắp lửa vô lượng quang\nsáng soi bảy cửa ngục\nnguyện chúng sinh vô vàn\nvề chân thân: Huệ, Ðức\n\n\nÐốt trầm hương\n\nKhơi lò thanh tịnh trầm\ngió đưa mười cõi thơm\nnguyện theo vô lượng Phật\ncúng dường tri kiến hương\n\n\nDâng quả\n\nNhư trái dâng cúng Phật\nkết hạt chắc Bồ Đề\nnguyện chúng sinh sáu ngả\ntinh tấn chuyển tham mê\n\n\nDâng hoa\n\nNhư hoa thơm cúng Phật\ntam nghiệp: giới hương xông\nnguyện khắp ba thời mộng\nbừng mở tâm viên đồng\n\n\nThỉnh chuông\n\nBa hồi âm định lực\nngọn triều chuyển sóng cao\nrung động đất mê vọng\nrực chiếu mười cõi sao\ncầu chi ba tạng sách\nchuyển hóa sáu trần lao\nnguyện mười phương thế giới\nthể nhập ánh Phật hào\n\n\nCúng kinh\n\nTâm trụ pho Diệu kinh\nlắng tan ba nghiệp vọng\nnguyện khắp mười phương mộng\nchan chứa Phật quang minh\n\n\nMở kinh\n\nTay mở trang kinh thơm\nnhư bừng khai trí huệ\ncầu chư Phật mười phương\nsáng soi dòng pháp kệ\n\n\nKhai mõ\n\nNhư thắng cương, buộc ngựa\ný thoát khỏi mê đường\nnguyện mở bảy cửa ngục\ncứu nhất thiết tai ương\n\n\nKhép kinh (khi tụng xong)\n\nVừa khép pho nhật nguyệt\nlòng tỏa ánh quang minh\nnguyện nêu đuốc bất nhị\nsoi rọi khắp sinh linh\n\n\nCởi áo lễ\n\nNguyện lìa nhất thiết tướng\nnhư bỏ bè qua sông\nnguyện vào nhất thiết tướng\nhóa chuyển ngục trần hồng",
         "Nguồn: Phạm Thiên Thư, Suối nguồn vi diệu, NXB Văn nghệ, 2006",
         "https://www.thivien.net/Ph%E1%BA%A1m-Thi%C3%AAn-Th%C6%B0/T%C3%A2m-k%E1%BB%87/poem-xBMOgwlu-MTuZ0LOVRL30g",
         "Thân mặc áo giải thoát\nlìa tập nhiễm phù vân\nnguyện chúng sinh mười cõi\nlìa vọng huyễn, qui chân"
        ],
        [
         "38",
         "18",
         "“Tâm kệ”",
         "Gội rửa sạch trần hồng\nnhư hoa ướp trầm xông\nnguyện mười phương pháp giới\nbi, trí khắp dung thông\n\n\nMặc áo lễ\n\nThân mặc áo giải thoát\nlìa tập nhiễm phù vân\nnguyện chúng sinh mười cõi\nlìa vọng huyễn, qui chân\n\n\nThắp nến\n\nThắp lửa vô lượng quang\nsáng soi bảy cửa ngục\nnguyện chúng sinh vô vàn\nvề chân thân: Huệ, Ðức\n\n\nÐốt trầm hương\n\nKhơi lò thanh tịnh trầm\ngió đưa mười cõi thơm\nnguyện theo vô lượng Phật\ncúng dường tri kiến hương\n\n\nDâng quả\n\nNhư trái dâng cúng Phật\nkết hạt chắc Bồ Đề\nnguyện chúng sinh sáu ngả\ntinh tấn chuyển tham mê\n\n\nDâng hoa\n\nNhư hoa thơm cúng Phật\ntam nghiệp: giới hương xông\nnguyện khắp ba thời mộng\nbừng mở tâm viên đồng\n\n\nThỉnh chuông\n\nBa hồi âm định lực\nngọn triều chuyển sóng cao\nrung động đất mê vọng\nrực chiếu mười cõi sao\ncầu chi ba tạng sách\nchuyển hóa sáu trần lao\nnguyện mười phương thế giới\nthể nhập ánh Phật hào\n\n\nCúng kinh\n\nTâm trụ pho Diệu kinh\nlắng tan ba nghiệp vọng\nnguyện khắp mười phương mộng\nchan chứa Phật quang minh\n\n\nMở kinh\n\nTay mở trang kinh thơm\nnhư bừng khai trí huệ\ncầu chư Phật mười phương\nsáng soi dòng pháp kệ\n\n\nKhai mõ\n\nNhư thắng cương, buộc ngựa\ný thoát khỏi mê đường\nnguyện mở bảy cửa ngục\ncứu nhất thiết tai ương\n\n\nKhép kinh (khi tụng xong)\n\nVừa khép pho nhật nguyệt\nlòng tỏa ánh quang minh\nnguyện nêu đuốc bất nhị\nsoi rọi khắp sinh linh\n\n\nCởi áo lễ\n\nNguyện lìa nhất thiết tướng\nnhư bỏ bè qua sông\nnguyện vào nhất thiết tướng\nhóa chuyển ngục trần hồng",
         "Nguồn: Phạm Thiên Thư, Suối nguồn vi diệu, NXB Văn nghệ, 2006",
         "https://www.thivien.net/Ph%E1%BA%A1m-Thi%C3%AAn-Th%C6%B0/T%C3%A2m-k%E1%BB%87/poem-xBMOgwlu-MTuZ0LOVRL30g",
         "Thắp lửa vô lượng quang\nsáng soi bảy cửa ngục\nnguyện chúng sinh vô vàn\nvề chân thân: Huệ, Ðức"
        ],
        [
         "39",
         "18",
         "“Tâm kệ”",
         "Gội rửa sạch trần hồng\nnhư hoa ướp trầm xông\nnguyện mười phương pháp giới\nbi, trí khắp dung thông\n\n\nMặc áo lễ\n\nThân mặc áo giải thoát\nlìa tập nhiễm phù vân\nnguyện chúng sinh mười cõi\nlìa vọng huyễn, qui chân\n\n\nThắp nến\n\nThắp lửa vô lượng quang\nsáng soi bảy cửa ngục\nnguyện chúng sinh vô vàn\nvề chân thân: Huệ, Ðức\n\n\nÐốt trầm hương\n\nKhơi lò thanh tịnh trầm\ngió đưa mười cõi thơm\nnguyện theo vô lượng Phật\ncúng dường tri kiến hương\n\n\nDâng quả\n\nNhư trái dâng cúng Phật\nkết hạt chắc Bồ Đề\nnguyện chúng sinh sáu ngả\ntinh tấn chuyển tham mê\n\n\nDâng hoa\n\nNhư hoa thơm cúng Phật\ntam nghiệp: giới hương xông\nnguyện khắp ba thời mộng\nbừng mở tâm viên đồng\n\n\nThỉnh chuông\n\nBa hồi âm định lực\nngọn triều chuyển sóng cao\nrung động đất mê vọng\nrực chiếu mười cõi sao\ncầu chi ba tạng sách\nchuyển hóa sáu trần lao\nnguyện mười phương thế giới\nthể nhập ánh Phật hào\n\n\nCúng kinh\n\nTâm trụ pho Diệu kinh\nlắng tan ba nghiệp vọng\nnguyện khắp mười phương mộng\nchan chứa Phật quang minh\n\n\nMở kinh\n\nTay mở trang kinh thơm\nnhư bừng khai trí huệ\ncầu chư Phật mười phương\nsáng soi dòng pháp kệ\n\n\nKhai mõ\n\nNhư thắng cương, buộc ngựa\ný thoát khỏi mê đường\nnguyện mở bảy cửa ngục\ncứu nhất thiết tai ương\n\n\nKhép kinh (khi tụng xong)\n\nVừa khép pho nhật nguyệt\nlòng tỏa ánh quang minh\nnguyện nêu đuốc bất nhị\nsoi rọi khắp sinh linh\n\n\nCởi áo lễ\n\nNguyện lìa nhất thiết tướng\nnhư bỏ bè qua sông\nnguyện vào nhất thiết tướng\nhóa chuyển ngục trần hồng",
         "Nguồn: Phạm Thiên Thư, Suối nguồn vi diệu, NXB Văn nghệ, 2006",
         "https://www.thivien.net/Ph%E1%BA%A1m-Thi%C3%AAn-Th%C6%B0/T%C3%A2m-k%E1%BB%87/poem-xBMOgwlu-MTuZ0LOVRL30g",
         "Khơi lò thanh tịnh trầm\ngió đưa mười cõi thơm\nnguyện theo vô lượng Phật\ncúng dường tri kiến hương"
        ],
        [
         "40",
         "18",
         "“Tâm kệ”",
         "Gội rửa sạch trần hồng\nnhư hoa ướp trầm xông\nnguyện mười phương pháp giới\nbi, trí khắp dung thông\n\n\nMặc áo lễ\n\nThân mặc áo giải thoát\nlìa tập nhiễm phù vân\nnguyện chúng sinh mười cõi\nlìa vọng huyễn, qui chân\n\n\nThắp nến\n\nThắp lửa vô lượng quang\nsáng soi bảy cửa ngục\nnguyện chúng sinh vô vàn\nvề chân thân: Huệ, Ðức\n\n\nÐốt trầm hương\n\nKhơi lò thanh tịnh trầm\ngió đưa mười cõi thơm\nnguyện theo vô lượng Phật\ncúng dường tri kiến hương\n\n\nDâng quả\n\nNhư trái dâng cúng Phật\nkết hạt chắc Bồ Đề\nnguyện chúng sinh sáu ngả\ntinh tấn chuyển tham mê\n\n\nDâng hoa\n\nNhư hoa thơm cúng Phật\ntam nghiệp: giới hương xông\nnguyện khắp ba thời mộng\nbừng mở tâm viên đồng\n\n\nThỉnh chuông\n\nBa hồi âm định lực\nngọn triều chuyển sóng cao\nrung động đất mê vọng\nrực chiếu mười cõi sao\ncầu chi ba tạng sách\nchuyển hóa sáu trần lao\nnguyện mười phương thế giới\nthể nhập ánh Phật hào\n\n\nCúng kinh\n\nTâm trụ pho Diệu kinh\nlắng tan ba nghiệp vọng\nnguyện khắp mười phương mộng\nchan chứa Phật quang minh\n\n\nMở kinh\n\nTay mở trang kinh thơm\nnhư bừng khai trí huệ\ncầu chư Phật mười phương\nsáng soi dòng pháp kệ\n\n\nKhai mõ\n\nNhư thắng cương, buộc ngựa\ný thoát khỏi mê đường\nnguyện mở bảy cửa ngục\ncứu nhất thiết tai ương\n\n\nKhép kinh (khi tụng xong)\n\nVừa khép pho nhật nguyệt\nlòng tỏa ánh quang minh\nnguyện nêu đuốc bất nhị\nsoi rọi khắp sinh linh\n\n\nCởi áo lễ\n\nNguyện lìa nhất thiết tướng\nnhư bỏ bè qua sông\nnguyện vào nhất thiết tướng\nhóa chuyển ngục trần hồng",
         "Nguồn: Phạm Thiên Thư, Suối nguồn vi diệu, NXB Văn nghệ, 2006",
         "https://www.thivien.net/Ph%E1%BA%A1m-Thi%C3%AAn-Th%C6%B0/T%C3%A2m-k%E1%BB%87/poem-xBMOgwlu-MTuZ0LOVRL30g",
         "Như trái dâng cúng Phật\nkết hạt chắc Bồ Đề\nnguyện chúng sinh sáu ngả\ntinh tấn chuyển tham mê"
        ],
        [
         "41",
         "18",
         "“Tâm kệ”",
         "Gội rửa sạch trần hồng\nnhư hoa ướp trầm xông\nnguyện mười phương pháp giới\nbi, trí khắp dung thông\n\n\nMặc áo lễ\n\nThân mặc áo giải thoát\nlìa tập nhiễm phù vân\nnguyện chúng sinh mười cõi\nlìa vọng huyễn, qui chân\n\n\nThắp nến\n\nThắp lửa vô lượng quang\nsáng soi bảy cửa ngục\nnguyện chúng sinh vô vàn\nvề chân thân: Huệ, Ðức\n\n\nÐốt trầm hương\n\nKhơi lò thanh tịnh trầm\ngió đưa mười cõi thơm\nnguyện theo vô lượng Phật\ncúng dường tri kiến hương\n\n\nDâng quả\n\nNhư trái dâng cúng Phật\nkết hạt chắc Bồ Đề\nnguyện chúng sinh sáu ngả\ntinh tấn chuyển tham mê\n\n\nDâng hoa\n\nNhư hoa thơm cúng Phật\ntam nghiệp: giới hương xông\nnguyện khắp ba thời mộng\nbừng mở tâm viên đồng\n\n\nThỉnh chuông\n\nBa hồi âm định lực\nngọn triều chuyển sóng cao\nrung động đất mê vọng\nrực chiếu mười cõi sao\ncầu chi ba tạng sách\nchuyển hóa sáu trần lao\nnguyện mười phương thế giới\nthể nhập ánh Phật hào\n\n\nCúng kinh\n\nTâm trụ pho Diệu kinh\nlắng tan ba nghiệp vọng\nnguyện khắp mười phương mộng\nchan chứa Phật quang minh\n\n\nMở kinh\n\nTay mở trang kinh thơm\nnhư bừng khai trí huệ\ncầu chư Phật mười phương\nsáng soi dòng pháp kệ\n\n\nKhai mõ\n\nNhư thắng cương, buộc ngựa\ný thoát khỏi mê đường\nnguyện mở bảy cửa ngục\ncứu nhất thiết tai ương\n\n\nKhép kinh (khi tụng xong)\n\nVừa khép pho nhật nguyệt\nlòng tỏa ánh quang minh\nnguyện nêu đuốc bất nhị\nsoi rọi khắp sinh linh\n\n\nCởi áo lễ\n\nNguyện lìa nhất thiết tướng\nnhư bỏ bè qua sông\nnguyện vào nhất thiết tướng\nhóa chuyển ngục trần hồng",
         "Nguồn: Phạm Thiên Thư, Suối nguồn vi diệu, NXB Văn nghệ, 2006",
         "https://www.thivien.net/Ph%E1%BA%A1m-Thi%C3%AAn-Th%C6%B0/T%C3%A2m-k%E1%BB%87/poem-xBMOgwlu-MTuZ0LOVRL30g",
         "Như hoa thơm cúng Phật\ntam nghiệp: giới hương xông\nnguyện khắp ba thời mộng\nbừng mở tâm viên đồng"
        ],
        [
         "42",
         "18",
         "“Tâm kệ”",
         "Gội rửa sạch trần hồng\nnhư hoa ướp trầm xông\nnguyện mười phương pháp giới\nbi, trí khắp dung thông\n\n\nMặc áo lễ\n\nThân mặc áo giải thoát\nlìa tập nhiễm phù vân\nnguyện chúng sinh mười cõi\nlìa vọng huyễn, qui chân\n\n\nThắp nến\n\nThắp lửa vô lượng quang\nsáng soi bảy cửa ngục\nnguyện chúng sinh vô vàn\nvề chân thân: Huệ, Ðức\n\n\nÐốt trầm hương\n\nKhơi lò thanh tịnh trầm\ngió đưa mười cõi thơm\nnguyện theo vô lượng Phật\ncúng dường tri kiến hương\n\n\nDâng quả\n\nNhư trái dâng cúng Phật\nkết hạt chắc Bồ Đề\nnguyện chúng sinh sáu ngả\ntinh tấn chuyển tham mê\n\n\nDâng hoa\n\nNhư hoa thơm cúng Phật\ntam nghiệp: giới hương xông\nnguyện khắp ba thời mộng\nbừng mở tâm viên đồng\n\n\nThỉnh chuông\n\nBa hồi âm định lực\nngọn triều chuyển sóng cao\nrung động đất mê vọng\nrực chiếu mười cõi sao\ncầu chi ba tạng sách\nchuyển hóa sáu trần lao\nnguyện mười phương thế giới\nthể nhập ánh Phật hào\n\n\nCúng kinh\n\nTâm trụ pho Diệu kinh\nlắng tan ba nghiệp vọng\nnguyện khắp mười phương mộng\nchan chứa Phật quang minh\n\n\nMở kinh\n\nTay mở trang kinh thơm\nnhư bừng khai trí huệ\ncầu chư Phật mười phương\nsáng soi dòng pháp kệ\n\n\nKhai mõ\n\nNhư thắng cương, buộc ngựa\ný thoát khỏi mê đường\nnguyện mở bảy cửa ngục\ncứu nhất thiết tai ương\n\n\nKhép kinh (khi tụng xong)\n\nVừa khép pho nhật nguyệt\nlòng tỏa ánh quang minh\nnguyện nêu đuốc bất nhị\nsoi rọi khắp sinh linh\n\n\nCởi áo lễ\n\nNguyện lìa nhất thiết tướng\nnhư bỏ bè qua sông\nnguyện vào nhất thiết tướng\nhóa chuyển ngục trần hồng",
         "Nguồn: Phạm Thiên Thư, Suối nguồn vi diệu, NXB Văn nghệ, 2006",
         "https://www.thivien.net/Ph%E1%BA%A1m-Thi%C3%AAn-Th%C6%B0/T%C3%A2m-k%E1%BB%87/poem-xBMOgwlu-MTuZ0LOVRL30g",
         "Tâm trụ pho Diệu kinh\nlắng tan ba nghiệp vọng\nnguyện khắp mười phương mộng\nchan chứa Phật quang minh"
        ],
        [
         "43",
         "18",
         "“Tâm kệ”",
         "Gội rửa sạch trần hồng\nnhư hoa ướp trầm xông\nnguyện mười phương pháp giới\nbi, trí khắp dung thông\n\n\nMặc áo lễ\n\nThân mặc áo giải thoát\nlìa tập nhiễm phù vân\nnguyện chúng sinh mười cõi\nlìa vọng huyễn, qui chân\n\n\nThắp nến\n\nThắp lửa vô lượng quang\nsáng soi bảy cửa ngục\nnguyện chúng sinh vô vàn\nvề chân thân: Huệ, Ðức\n\n\nÐốt trầm hương\n\nKhơi lò thanh tịnh trầm\ngió đưa mười cõi thơm\nnguyện theo vô lượng Phật\ncúng dường tri kiến hương\n\n\nDâng quả\n\nNhư trái dâng cúng Phật\nkết hạt chắc Bồ Đề\nnguyện chúng sinh sáu ngả\ntinh tấn chuyển tham mê\n\n\nDâng hoa\n\nNhư hoa thơm cúng Phật\ntam nghiệp: giới hương xông\nnguyện khắp ba thời mộng\nbừng mở tâm viên đồng\n\n\nThỉnh chuông\n\nBa hồi âm định lực\nngọn triều chuyển sóng cao\nrung động đất mê vọng\nrực chiếu mười cõi sao\ncầu chi ba tạng sách\nchuyển hóa sáu trần lao\nnguyện mười phương thế giới\nthể nhập ánh Phật hào\n\n\nCúng kinh\n\nTâm trụ pho Diệu kinh\nlắng tan ba nghiệp vọng\nnguyện khắp mười phương mộng\nchan chứa Phật quang minh\n\n\nMở kinh\n\nTay mở trang kinh thơm\nnhư bừng khai trí huệ\ncầu chư Phật mười phương\nsáng soi dòng pháp kệ\n\n\nKhai mõ\n\nNhư thắng cương, buộc ngựa\ný thoát khỏi mê đường\nnguyện mở bảy cửa ngục\ncứu nhất thiết tai ương\n\n\nKhép kinh (khi tụng xong)\n\nVừa khép pho nhật nguyệt\nlòng tỏa ánh quang minh\nnguyện nêu đuốc bất nhị\nsoi rọi khắp sinh linh\n\n\nCởi áo lễ\n\nNguyện lìa nhất thiết tướng\nnhư bỏ bè qua sông\nnguyện vào nhất thiết tướng\nhóa chuyển ngục trần hồng",
         "Nguồn: Phạm Thiên Thư, Suối nguồn vi diệu, NXB Văn nghệ, 2006",
         "https://www.thivien.net/Ph%E1%BA%A1m-Thi%C3%AAn-Th%C6%B0/T%C3%A2m-k%E1%BB%87/poem-xBMOgwlu-MTuZ0LOVRL30g",
         "Tay mở trang kinh thơm\nnhư bừng khai trí huệ\ncầu chư Phật mười phương\nsáng soi dòng pháp kệ"
        ],
        [
         "44",
         "18",
         "“Tâm kệ”",
         "Gội rửa sạch trần hồng\nnhư hoa ướp trầm xông\nnguyện mười phương pháp giới\nbi, trí khắp dung thông\n\n\nMặc áo lễ\n\nThân mặc áo giải thoát\nlìa tập nhiễm phù vân\nnguyện chúng sinh mười cõi\nlìa vọng huyễn, qui chân\n\n\nThắp nến\n\nThắp lửa vô lượng quang\nsáng soi bảy cửa ngục\nnguyện chúng sinh vô vàn\nvề chân thân: Huệ, Ðức\n\n\nÐốt trầm hương\n\nKhơi lò thanh tịnh trầm\ngió đưa mười cõi thơm\nnguyện theo vô lượng Phật\ncúng dường tri kiến hương\n\n\nDâng quả\n\nNhư trái dâng cúng Phật\nkết hạt chắc Bồ Đề\nnguyện chúng sinh sáu ngả\ntinh tấn chuyển tham mê\n\n\nDâng hoa\n\nNhư hoa thơm cúng Phật\ntam nghiệp: giới hương xông\nnguyện khắp ba thời mộng\nbừng mở tâm viên đồng\n\n\nThỉnh chuông\n\nBa hồi âm định lực\nngọn triều chuyển sóng cao\nrung động đất mê vọng\nrực chiếu mười cõi sao\ncầu chi ba tạng sách\nchuyển hóa sáu trần lao\nnguyện mười phương thế giới\nthể nhập ánh Phật hào\n\n\nCúng kinh\n\nTâm trụ pho Diệu kinh\nlắng tan ba nghiệp vọng\nnguyện khắp mười phương mộng\nchan chứa Phật quang minh\n\n\nMở kinh\n\nTay mở trang kinh thơm\nnhư bừng khai trí huệ\ncầu chư Phật mười phương\nsáng soi dòng pháp kệ\n\n\nKhai mõ\n\nNhư thắng cương, buộc ngựa\ný thoát khỏi mê đường\nnguyện mở bảy cửa ngục\ncứu nhất thiết tai ương\n\n\nKhép kinh (khi tụng xong)\n\nVừa khép pho nhật nguyệt\nlòng tỏa ánh quang minh\nnguyện nêu đuốc bất nhị\nsoi rọi khắp sinh linh\n\n\nCởi áo lễ\n\nNguyện lìa nhất thiết tướng\nnhư bỏ bè qua sông\nnguyện vào nhất thiết tướng\nhóa chuyển ngục trần hồng",
         "Nguồn: Phạm Thiên Thư, Suối nguồn vi diệu, NXB Văn nghệ, 2006",
         "https://www.thivien.net/Ph%E1%BA%A1m-Thi%C3%AAn-Th%C6%B0/T%C3%A2m-k%E1%BB%87/poem-xBMOgwlu-MTuZ0LOVRL30g",
         "Như thắng cương, buộc ngựa\ný thoát khỏi mê đường\nnguyện mở bảy cửa ngục\ncứu nhất thiết tai ương"
        ],
        [
         "45",
         "18",
         "“Tâm kệ”",
         "Gội rửa sạch trần hồng\nnhư hoa ướp trầm xông\nnguyện mười phương pháp giới\nbi, trí khắp dung thông\n\n\nMặc áo lễ\n\nThân mặc áo giải thoát\nlìa tập nhiễm phù vân\nnguyện chúng sinh mười cõi\nlìa vọng huyễn, qui chân\n\n\nThắp nến\n\nThắp lửa vô lượng quang\nsáng soi bảy cửa ngục\nnguyện chúng sinh vô vàn\nvề chân thân: Huệ, Ðức\n\n\nÐốt trầm hương\n\nKhơi lò thanh tịnh trầm\ngió đưa mười cõi thơm\nnguyện theo vô lượng Phật\ncúng dường tri kiến hương\n\n\nDâng quả\n\nNhư trái dâng cúng Phật\nkết hạt chắc Bồ Đề\nnguyện chúng sinh sáu ngả\ntinh tấn chuyển tham mê\n\n\nDâng hoa\n\nNhư hoa thơm cúng Phật\ntam nghiệp: giới hương xông\nnguyện khắp ba thời mộng\nbừng mở tâm viên đồng\n\n\nThỉnh chuông\n\nBa hồi âm định lực\nngọn triều chuyển sóng cao\nrung động đất mê vọng\nrực chiếu mười cõi sao\ncầu chi ba tạng sách\nchuyển hóa sáu trần lao\nnguyện mười phương thế giới\nthể nhập ánh Phật hào\n\n\nCúng kinh\n\nTâm trụ pho Diệu kinh\nlắng tan ba nghiệp vọng\nnguyện khắp mười phương mộng\nchan chứa Phật quang minh\n\n\nMở kinh\n\nTay mở trang kinh thơm\nnhư bừng khai trí huệ\ncầu chư Phật mười phương\nsáng soi dòng pháp kệ\n\n\nKhai mõ\n\nNhư thắng cương, buộc ngựa\ný thoát khỏi mê đường\nnguyện mở bảy cửa ngục\ncứu nhất thiết tai ương\n\n\nKhép kinh (khi tụng xong)\n\nVừa khép pho nhật nguyệt\nlòng tỏa ánh quang minh\nnguyện nêu đuốc bất nhị\nsoi rọi khắp sinh linh\n\n\nCởi áo lễ\n\nNguyện lìa nhất thiết tướng\nnhư bỏ bè qua sông\nnguyện vào nhất thiết tướng\nhóa chuyển ngục trần hồng",
         "Nguồn: Phạm Thiên Thư, Suối nguồn vi diệu, NXB Văn nghệ, 2006",
         "https://www.thivien.net/Ph%E1%BA%A1m-Thi%C3%AAn-Th%C6%B0/T%C3%A2m-k%E1%BB%87/poem-xBMOgwlu-MTuZ0LOVRL30g",
         "Vừa khép pho nhật nguyệt\nlòng tỏa ánh quang minh\nnguyện nêu đuốc bất nhị\nsoi rọi khắp sinh linh"
        ],
        [
         "46",
         "18",
         "“Tâm kệ”",
         "Gội rửa sạch trần hồng\nnhư hoa ướp trầm xông\nnguyện mười phương pháp giới\nbi, trí khắp dung thông\n\n\nMặc áo lễ\n\nThân mặc áo giải thoát\nlìa tập nhiễm phù vân\nnguyện chúng sinh mười cõi\nlìa vọng huyễn, qui chân\n\n\nThắp nến\n\nThắp lửa vô lượng quang\nsáng soi bảy cửa ngục\nnguyện chúng sinh vô vàn\nvề chân thân: Huệ, Ðức\n\n\nÐốt trầm hương\n\nKhơi lò thanh tịnh trầm\ngió đưa mười cõi thơm\nnguyện theo vô lượng Phật\ncúng dường tri kiến hương\n\n\nDâng quả\n\nNhư trái dâng cúng Phật\nkết hạt chắc Bồ Đề\nnguyện chúng sinh sáu ngả\ntinh tấn chuyển tham mê\n\n\nDâng hoa\n\nNhư hoa thơm cúng Phật\ntam nghiệp: giới hương xông\nnguyện khắp ba thời mộng\nbừng mở tâm viên đồng\n\n\nThỉnh chuông\n\nBa hồi âm định lực\nngọn triều chuyển sóng cao\nrung động đất mê vọng\nrực chiếu mười cõi sao\ncầu chi ba tạng sách\nchuyển hóa sáu trần lao\nnguyện mười phương thế giới\nthể nhập ánh Phật hào\n\n\nCúng kinh\n\nTâm trụ pho Diệu kinh\nlắng tan ba nghiệp vọng\nnguyện khắp mười phương mộng\nchan chứa Phật quang minh\n\n\nMở kinh\n\nTay mở trang kinh thơm\nnhư bừng khai trí huệ\ncầu chư Phật mười phương\nsáng soi dòng pháp kệ\n\n\nKhai mõ\n\nNhư thắng cương, buộc ngựa\ný thoát khỏi mê đường\nnguyện mở bảy cửa ngục\ncứu nhất thiết tai ương\n\n\nKhép kinh (khi tụng xong)\n\nVừa khép pho nhật nguyệt\nlòng tỏa ánh quang minh\nnguyện nêu đuốc bất nhị\nsoi rọi khắp sinh linh\n\n\nCởi áo lễ\n\nNguyện lìa nhất thiết tướng\nnhư bỏ bè qua sông\nnguyện vào nhất thiết tướng\nhóa chuyển ngục trần hồng",
         "Nguồn: Phạm Thiên Thư, Suối nguồn vi diệu, NXB Văn nghệ, 2006",
         "https://www.thivien.net/Ph%E1%BA%A1m-Thi%C3%AAn-Th%C6%B0/T%C3%A2m-k%E1%BB%87/poem-xBMOgwlu-MTuZ0LOVRL30g",
         "Nguyện lìa nhất thiết tướng\nnhư bỏ bè qua sông\nnguyện vào nhất thiết tướng\nhóa chuyển ngục trần hồng"
        ],
        [
         "47",
         "19",
         "“Thời gian như tiền bạc”",
         "Thời gian như tiền bạc\nAnh sống qua một ngày\nThì có nghĩa ngày ấy\nKhông còn nữa từ nay\n\nThời gian như tiền bạc\nNhớ tiết kiệm từng đồng\nTiền bạc kiếm lại được\nCòn thời gian thì không",
         "Nguồn: Châm ngôn mới (thơ), Thái Bá Tân, NXB Lao động, 2013",
         "https://www.thivien.net/Th%C3%A1i-B%C3%A1-T%C3%A2n/Th%E1%BB%9Di-gian-nh%C6%B0-ti%E1%BB%81n-b%E1%BA%A1c/poem-5Tb-B8IDQD0gVEmW87hRUw",
         "Thời gian như tiền bạc\nAnh sống qua một ngày\nThì có nghĩa ngày ấy\nKhông còn nữa từ nay"
        ],
        [
         "48",
         "19",
         "“Thời gian như tiền bạc”",
         "Thời gian như tiền bạc\nAnh sống qua một ngày\nThì có nghĩa ngày ấy\nKhông còn nữa từ nay\n\nThời gian như tiền bạc\nNhớ tiết kiệm từng đồng\nTiền bạc kiếm lại được\nCòn thời gian thì không",
         "Nguồn: Châm ngôn mới (thơ), Thái Bá Tân, NXB Lao động, 2013",
         "https://www.thivien.net/Th%C3%A1i-B%C3%A1-T%C3%A2n/Th%E1%BB%9Di-gian-nh%C6%B0-ti%E1%BB%81n-b%E1%BA%A1c/poem-5Tb-B8IDQD0gVEmW87hRUw",
         "Thời gian như tiền bạc\nNhớ tiết kiệm từng đồng\nTiền bạc kiếm lại được\nCòn thời gian thì không"
        ],
        [
         "50",
         "21",
         "“Với những gì đang có”",
         "Với những gì đang có\nHãy cảm ơn đất trời\nRồi bạn có thể có\nNhiều hơn nữa trong đời\n\nChứ suốt ngày mong ước\nNhững gì đang trong mơ\nSuốt đời bạn đau khổ\nKhông thấy đủ bao giờ",
         "Nguồn: Châm ngôn mới (thơ), Thái Bá Tân, NXB Lao động, 2013",
         "https://www.thivien.net/Th%C3%A1i-B%C3%A1-T%C3%A2n/V%E1%BB%9Bi-nh%E1%BB%AFng-g%C3%AC-%C4%91ang-c%C3%B3/poem-jImOkuDLzCJyRedC-trJ-Q",
         "Với những gì đang có\nHãy cảm ơn đất trời\nRồi bạn có thể có\nNhiều hơn nữa trong đời"
        ],
        [
         "51",
         "21",
         "“Với những gì đang có”",
         "Với những gì đang có\nHãy cảm ơn đất trời\nRồi bạn có thể có\nNhiều hơn nữa trong đời\n\nChứ suốt ngày mong ước\nNhững gì đang trong mơ\nSuốt đời bạn đau khổ\nKhông thấy đủ bao giờ",
         "Nguồn: Châm ngôn mới (thơ), Thái Bá Tân, NXB Lao động, 2013",
         "https://www.thivien.net/Th%C3%A1i-B%C3%A1-T%C3%A2n/V%E1%BB%9Bi-nh%E1%BB%AFng-g%C3%AC-%C4%91ang-c%C3%B3/poem-jImOkuDLzCJyRedC-trJ-Q",
         "Chứ suốt ngày mong ước\nNhững gì đang trong mơ\nSuốt đời bạn đau khổ\nKhông thấy đủ bao giờ"
        ],
        [
         "52",
         "22",
         "“Với trẻ con, tốt nhất”",
         "Với trẻ con, tốt nhất\nLà không cho chúng tiền\nGiúp làm bài, đi dạo\nĐỡ tốn và đỡ phiền\n\nThật đẹp và ý nghĩa\nBố dắt con dạo chơi\nVừa đi vừa bày dạy\nĐể giúp con thành người",
         "Nguồn: Châm ngôn mới (thơ), Thái Bá Tân, NXB Lao động, 2013",
         "https://www.thivien.net/Th%C3%A1i-B%C3%A1-T%C3%A2n/V%E1%BB%9Bi-tr%E1%BA%BB-con-t%E1%BB%91t-nh%E1%BA%A5t/poem-1NOlA704_l0KXAlSWP4otg",
         "Với trẻ con, tốt nhất\nLà không cho chúng tiền\nGiúp làm bài, đi dạo\nĐỡ tốn và đỡ phiền"
        ],
        [
         "53",
         "22",
         "“Với trẻ con, tốt nhất”",
         "Với trẻ con, tốt nhất\nLà không cho chúng tiền\nGiúp làm bài, đi dạo\nĐỡ tốn và đỡ phiền\n\nThật đẹp và ý nghĩa\nBố dắt con dạo chơi\nVừa đi vừa bày dạy\nĐể giúp con thành người",
         "Nguồn: Châm ngôn mới (thơ), Thái Bá Tân, NXB Lao động, 2013",
         "https://www.thivien.net/Th%C3%A1i-B%C3%A1-T%C3%A2n/V%E1%BB%9Bi-tr%E1%BA%BB-con-t%E1%BB%91t-nh%E1%BA%A5t/poem-1NOlA704_l0KXAlSWP4otg",
         "Thật đẹp và ý nghĩa\nBố dắt con dạo chơi\nVừa đi vừa bày dạy\nĐể giúp con thành người"
        ]
       ],
       "shape": {
        "columns": 6,
        "rows": 441
       }
      },
      "text/html": [
       "<div>\n",
       "<style scoped>\n",
       "    .dataframe tbody tr th:only-of-type {\n",
       "        vertical-align: middle;\n",
       "    }\n",
       "\n",
       "    .dataframe tbody tr th {\n",
       "        vertical-align: top;\n",
       "    }\n",
       "\n",
       "    .dataframe thead th {\n",
       "        text-align: right;\n",
       "    }\n",
       "</style>\n",
       "<table border=\"1\" class=\"dataframe\">\n",
       "  <thead>\n",
       "    <tr style=\"text-align: right;\">\n",
       "      <th></th>\n",
       "      <th>Unnamed: 0</th>\n",
       "      <th>title</th>\n",
       "      <th>content</th>\n",
       "      <th>source</th>\n",
       "      <th>url</th>\n",
       "      <th>part_content</th>\n",
       "    </tr>\n",
       "  </thead>\n",
       "  <tbody>\n",
       "    <tr>\n",
       "      <th>0</th>\n",
       "      <td>0</td>\n",
       "      <td>“Cái làm ta hạnh phúc”</td>\n",
       "      <td>Cái làm ta hạnh phúc\\nThực ra cũng chẳng nhiều...</td>\n",
       "      <td>Nguồn: Châm ngôn mới (thơ), Thái Bá Tân, NXB L...</td>\n",
       "      <td>https://www.thivien.net/Th%C3%A1i-B%C3%A1-T%C3...</td>\n",
       "      <td>Cái làm ta hạnh phúc\\nThực ra cũng chẳng nhiều...</td>\n",
       "    </tr>\n",
       "    <tr>\n",
       "      <th>1</th>\n",
       "      <td>0</td>\n",
       "      <td>“Cái làm ta hạnh phúc”</td>\n",
       "      <td>Cái làm ta hạnh phúc\\nThực ra cũng chẳng nhiều...</td>\n",
       "      <td>Nguồn: Châm ngôn mới (thơ), Thái Bá Tân, NXB L...</td>\n",
       "      <td>https://www.thivien.net/Th%C3%A1i-B%C3%A1-T%C3...</td>\n",
       "      <td>Rồi thêm chút công việc\\nCho ta làm hàng ngày\\...</td>\n",
       "    </tr>\n",
       "    <tr>\n",
       "      <th>2</th>\n",
       "      <td>1</td>\n",
       "      <td>“Chiều vừa xốp trên tay”</td>\n",
       "      <td>Chiều vừa xốp trên tay\\nChợt nghe thoáng ong b...</td>\n",
       "      <td>Nguồn: Lâm Huy Nhuận, Chiều có thật (thơ), NXB...</td>\n",
       "      <td>https://www.thivien.net/L%C3%A2m-Huy-Nhu%E1%BA...</td>\n",
       "      <td>Chiều vừa xốp trên tay\\nChợt nghe thoáng ong b...</td>\n",
       "    </tr>\n",
       "    <tr>\n",
       "      <th>3</th>\n",
       "      <td>1</td>\n",
       "      <td>“Chiều vừa xốp trên tay”</td>\n",
       "      <td>Chiều vừa xốp trên tay\\nChợt nghe thoáng ong b...</td>\n",
       "      <td>Nguồn: Lâm Huy Nhuận, Chiều có thật (thơ), NXB...</td>\n",
       "      <td>https://www.thivien.net/L%C3%A2m-Huy-Nhu%E1%BA...</td>\n",
       "      <td>Ớt đỏ sao cứ đỏ\\nTáo chín cho thật vàng\\nEm đẹ...</td>\n",
       "    </tr>\n",
       "    <tr>\n",
       "      <th>4</th>\n",
       "      <td>2</td>\n",
       "      <td>“Dưới giàn hoa thiên lý...”</td>\n",
       "      <td>Dưới giàn hoa thiên lý\\nMột mình anh đang ngồi...</td>\n",
       "      <td>Nguồn: Nguyễn Nhật Ánh, Mắt biếc, NXB Trẻ, 2004</td>\n",
       "      <td>https://www.thivien.net/Nguy%E1%BB%85n-Nh%E1%B...</td>\n",
       "      <td>Dưới giàn hoa thiên lý\\nMột mình anh đang ngồi...</td>\n",
       "    </tr>\n",
       "    <tr>\n",
       "      <th>...</th>\n",
       "      <td>...</td>\n",
       "      <td>...</td>\n",
       "      <td>...</td>\n",
       "      <td>...</td>\n",
       "      <td>...</td>\n",
       "      <td>...</td>\n",
       "    </tr>\n",
       "    <tr>\n",
       "      <th>481</th>\n",
       "      <td>98</td>\n",
       "      <td>Anh biết</td>\n",
       "      <td>Không có anh để già\\nLàm sao em được trẻ\\nMuốn...</td>\n",
       "      <td>NaN</td>\n",
       "      <td>https://www.thivien.net/Nguy%E1%BB%85n-Minh-D%...</td>\n",
       "      <td>Đất hiến dâng tuổi trẻ\\nTrời buông thả tuổi gi...</td>\n",
       "    </tr>\n",
       "    <tr>\n",
       "      <th>482</th>\n",
       "      <td>99</td>\n",
       "      <td>Anh bốn mùa lập đông</td>\n",
       "      <td>Buồn, thì buồn thiệt đó\\nEm à, có biết không\\n...</td>\n",
       "      <td>NaN</td>\n",
       "      <td>https://www.thivien.net/Nguy%E1%BB%85n-Minh-D%...</td>\n",
       "      <td>Buồn, thì buồn thiệt đó\\nEm à, có biết không\\n...</td>\n",
       "    </tr>\n",
       "    <tr>\n",
       "      <th>483</th>\n",
       "      <td>99</td>\n",
       "      <td>Anh bốn mùa lập đông</td>\n",
       "      <td>Buồn, thì buồn thiệt đó\\nEm à, có biết không\\n...</td>\n",
       "      <td>NaN</td>\n",
       "      <td>https://www.thivien.net/Nguy%E1%BB%85n-Minh-D%...</td>\n",
       "      <td>Vâng, phiến buồn còn đó\\nEm nào biết phải khôn...</td>\n",
       "    </tr>\n",
       "    <tr>\n",
       "      <th>484</th>\n",
       "      <td>99</td>\n",
       "      <td>Anh bốn mùa lập đông</td>\n",
       "      <td>Buồn, thì buồn thiệt đó\\nEm à, có biết không\\n...</td>\n",
       "      <td>NaN</td>\n",
       "      <td>https://www.thivien.net/Nguy%E1%BB%85n-Minh-D%...</td>\n",
       "      <td>Ừ, nỗi buồn vậy đó\\nEm đừng vội bâng khuâng\\nV...</td>\n",
       "    </tr>\n",
       "    <tr>\n",
       "      <th>485</th>\n",
       "      <td>99</td>\n",
       "      <td>Anh bốn mùa lập đông</td>\n",
       "      <td>Buồn, thì buồn thiệt đó\\nEm à, có biết không\\n...</td>\n",
       "      <td>NaN</td>\n",
       "      <td>https://www.thivien.net/Nguy%E1%BB%85n-Minh-D%...</td>\n",
       "      <td>Biết buồn là mãi đó\\nEm đừng phai má hồng\\nMột...</td>\n",
       "    </tr>\n",
       "  </tbody>\n",
       "</table>\n",
       "<p>441 rows × 6 columns</p>\n",
       "</div>"
      ],
      "text/plain": [
       "     Unnamed: 0                        title  \\\n",
       "0             0       “Cái làm ta hạnh phúc”   \n",
       "1             0       “Cái làm ta hạnh phúc”   \n",
       "2             1     “Chiều vừa xốp trên tay”   \n",
       "3             1     “Chiều vừa xốp trên tay”   \n",
       "4             2  “Dưới giàn hoa thiên lý...”   \n",
       "..          ...                          ...   \n",
       "481          98                     Anh biết   \n",
       "482          99         Anh bốn mùa lập đông   \n",
       "483          99         Anh bốn mùa lập đông   \n",
       "484          99         Anh bốn mùa lập đông   \n",
       "485          99         Anh bốn mùa lập đông   \n",
       "\n",
       "                                               content  \\\n",
       "0    Cái làm ta hạnh phúc\\nThực ra cũng chẳng nhiều...   \n",
       "1    Cái làm ta hạnh phúc\\nThực ra cũng chẳng nhiều...   \n",
       "2    Chiều vừa xốp trên tay\\nChợt nghe thoáng ong b...   \n",
       "3    Chiều vừa xốp trên tay\\nChợt nghe thoáng ong b...   \n",
       "4    Dưới giàn hoa thiên lý\\nMột mình anh đang ngồi...   \n",
       "..                                                 ...   \n",
       "481  Không có anh để già\\nLàm sao em được trẻ\\nMuốn...   \n",
       "482  Buồn, thì buồn thiệt đó\\nEm à, có biết không\\n...   \n",
       "483  Buồn, thì buồn thiệt đó\\nEm à, có biết không\\n...   \n",
       "484  Buồn, thì buồn thiệt đó\\nEm à, có biết không\\n...   \n",
       "485  Buồn, thì buồn thiệt đó\\nEm à, có biết không\\n...   \n",
       "\n",
       "                                                source  \\\n",
       "0    Nguồn: Châm ngôn mới (thơ), Thái Bá Tân, NXB L...   \n",
       "1    Nguồn: Châm ngôn mới (thơ), Thái Bá Tân, NXB L...   \n",
       "2    Nguồn: Lâm Huy Nhuận, Chiều có thật (thơ), NXB...   \n",
       "3    Nguồn: Lâm Huy Nhuận, Chiều có thật (thơ), NXB...   \n",
       "4      Nguồn: Nguyễn Nhật Ánh, Mắt biếc, NXB Trẻ, 2004   \n",
       "..                                                 ...   \n",
       "481                                                NaN   \n",
       "482                                                NaN   \n",
       "483                                                NaN   \n",
       "484                                                NaN   \n",
       "485                                                NaN   \n",
       "\n",
       "                                                   url  \\\n",
       "0    https://www.thivien.net/Th%C3%A1i-B%C3%A1-T%C3...   \n",
       "1    https://www.thivien.net/Th%C3%A1i-B%C3%A1-T%C3...   \n",
       "2    https://www.thivien.net/L%C3%A2m-Huy-Nhu%E1%BA...   \n",
       "3    https://www.thivien.net/L%C3%A2m-Huy-Nhu%E1%BA...   \n",
       "4    https://www.thivien.net/Nguy%E1%BB%85n-Nh%E1%B...   \n",
       "..                                                 ...   \n",
       "481  https://www.thivien.net/Nguy%E1%BB%85n-Minh-D%...   \n",
       "482  https://www.thivien.net/Nguy%E1%BB%85n-Minh-D%...   \n",
       "483  https://www.thivien.net/Nguy%E1%BB%85n-Minh-D%...   \n",
       "484  https://www.thivien.net/Nguy%E1%BB%85n-Minh-D%...   \n",
       "485  https://www.thivien.net/Nguy%E1%BB%85n-Minh-D%...   \n",
       "\n",
       "                                          part_content  \n",
       "0    Cái làm ta hạnh phúc\\nThực ra cũng chẳng nhiều...  \n",
       "1    Rồi thêm chút công việc\\nCho ta làm hàng ngày\\...  \n",
       "2    Chiều vừa xốp trên tay\\nChợt nghe thoáng ong b...  \n",
       "3    Ớt đỏ sao cứ đỏ\\nTáo chín cho thật vàng\\nEm đẹ...  \n",
       "4    Dưới giàn hoa thiên lý\\nMột mình anh đang ngồi...  \n",
       "..                                                 ...  \n",
       "481  Đất hiến dâng tuổi trẻ\\nTrời buông thả tuổi gi...  \n",
       "482  Buồn, thì buồn thiệt đó\\nEm à, có biết không\\n...  \n",
       "483  Vâng, phiến buồn còn đó\\nEm nào biết phải khôn...  \n",
       "484  Ừ, nỗi buồn vậy đó\\nEm đừng vội bâng khuâng\\nV...  \n",
       "485  Biết buồn là mãi đó\\nEm đừng phai má hồng\\nMột...  \n",
       "\n",
       "[441 rows x 6 columns]"
      ]
     },
     "execution_count": 29,
     "metadata": {},
     "output_type": "execute_result"
    }
   ],
   "source": [
    "df_exploded[\"part_content\"] = df_exploded[\"part_content\"].apply(lambda x: \"\\n\".join(x))\n",
    "df_exploded"
   ]
  },
  {
   "cell_type": "markdown",
   "metadata": {},
   "source": [
    "### Dataloader"
   ]
  },
  {
   "cell_type": "code",
   "execution_count": 31,
   "metadata": {},
   "outputs": [
    {
     "data": {
      "text/plain": [
       "DatasetDict({\n",
       "    train: Dataset({\n",
       "        features: ['Unnamed: 0', 'title', 'content', 'source', 'url', 'part_content', '__index_level_0__'],\n",
       "        num_rows: 396\n",
       "    })\n",
       "    test: Dataset({\n",
       "        features: ['Unnamed: 0', 'title', 'content', 'source', 'url', 'part_content', '__index_level_0__'],\n",
       "        num_rows: 45\n",
       "    })\n",
       "})"
      ]
     },
     "execution_count": 31,
     "metadata": {},
     "output_type": "execute_result"
    }
   ],
   "source": [
    "TEST_SIZE = 0.1\n",
    "poem_dataset = Dataset.from_pandas(df_exploded)\n",
    "poem_dataset = poem_dataset.train_test_split(test_size=TEST_SIZE)\n",
    "poem_dataset"
   ]
  },
  {
   "cell_type": "markdown",
   "metadata": {},
   "source": [
    "## Preprocessing"
   ]
  }
 ],
 "metadata": {
  "kernelspec": {
   "display_name": "AIOEx",
   "language": "python",
   "name": "python3"
  },
  "language_info": {
   "codemirror_mode": {
    "name": "ipython",
    "version": 3
   },
   "file_extension": ".py",
   "mimetype": "text/x-python",
   "name": "python",
   "nbconvert_exporter": "python",
   "pygments_lexer": "ipython3",
   "version": "3.10.15"
  }
 },
 "nbformat": 4,
 "nbformat_minor": 2
}
